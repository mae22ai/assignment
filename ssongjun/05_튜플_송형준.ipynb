{
 "cells": [
  {
   "cell_type": "markdown",
   "id": "96abe92e",
   "metadata": {},
   "source": [
    "## 05. 파이썬 튜플\n",
    "파이썬 튜플은 순서가 있지만 수정 불가능한 자료구조입니다."
   ]
  },
  {
   "cell_type": "markdown",
   "id": "d428039f",
   "metadata": {},
   "source": [
    "### 071\n",
    "my_variable 이름의 비어있는 튜플을 만들라.<br>\n",
    "💡 Hint: 괄호는 튜플을 정의하는 기호입니다.<br>\n",
    "💡 정말 튜플이 생성됐는지 확인해 봅시다. type() 함수는 변수에 바인딩된 데이터의 타입을 반환합니다."
   ]
  },
  {
   "cell_type": "code",
   "execution_count": null,
   "id": "40a61e46",
   "metadata": {},
   "outputs": [],
   "source": [
    "my_variable = ()"
   ]
  },
  {
   "cell_type": "code",
   "execution_count": 2,
   "id": "95594d57",
   "metadata": {},
   "outputs": [
    {
     "name": "stdout",
     "output_type": "stream",
     "text": [
      "<class 'tuple'>\n"
     ]
    }
   ],
   "source": [
    "my_variable=()\n",
    "print(type(my_variable))"
   ]
  },
  {
   "cell_type": "markdown",
   "id": "4f0ba122",
   "metadata": {},
   "source": [
    "### 072\n",
    "2016년 11월 영화 예매 순위 기준 top3는 다음과 같다. 영화 제목을 movie_rank 이름의 튜플에 저장하라. (순위 정보는 저장하지 않는다.)\n",
    "|순위|영화|\n",
    "|---|---|\n",
    "|1|닥터 스트레인지|\n",
    "|2|스플릿|\n",
    "|3|럭키|"
   ]
  },
  {
   "cell_type": "code",
   "execution_count": 3,
   "id": "5e0cac1e",
   "metadata": {},
   "outputs": [
    {
     "name": "stdout",
     "output_type": "stream",
     "text": [
      "('닥터스트레인지', '스플릿', '럭키')\n",
      "<class 'tuple'>\n"
     ]
    }
   ],
   "source": [
    "movie_rank = ('닥터스트레인지', '스플릿', '럭키')\n",
    "print(movie_rank)\n",
    "print(type(movie_rank))"
   ]
  },
  {
   "cell_type": "markdown",
   "id": "6f16a7e6",
   "metadata": {},
   "source": [
    "### 073\n",
    "숫자 1 이 저장된 튜플을 생성하라.<br>\n",
    "💡 hint: 하나의 데이터가 저장되는 경우, 쉼표를 입력해만 합니다. 아래와 같이 괄호와 함께 하나의 정숫값을 저장하면 튜플이 정의 될 것 같지만 그렇지 않습니다. type()을 출력해보면 파이썬은 튜플이 아닌 정수로 인식합니다."
   ]
  },
  {
   "cell_type": "code",
   "execution_count": 4,
   "id": "5f4d4bab",
   "metadata": {},
   "outputs": [
    {
     "name": "stdout",
     "output_type": "stream",
     "text": [
      "1\n",
      "<class 'int'>\n"
     ]
    }
   ],
   "source": [
    "my_tuple = (1)\n",
    "print(my_tuple)\n",
    "print(type(my_tuple))"
   ]
  },
  {
   "cell_type": "code",
   "execution_count": 5,
   "id": "c7b1a500",
   "metadata": {},
   "outputs": [
    {
     "name": "stdout",
     "output_type": "stream",
     "text": [
      "(1,)\n",
      "<class 'tuple'>\n"
     ]
    }
   ],
   "source": [
    "my_tuple = (1,)\n",
    "print(my_tuple)\n",
    "print(type(my_tuple))"
   ]
  },
  {
   "cell_type": "markdown",
   "id": "9b78bb9c",
   "metadata": {},
   "source": [
    "### 074\n",
    "다음 코드를 실행해보고 오류가 발생하는 원인을 설명하라."
   ]
  },
  {
   "cell_type": "code",
   "execution_count": 8,
   "id": "09f614d8",
   "metadata": {},
   "outputs": [
    {
     "ename": "TypeError",
     "evalue": "'tuple' object does not support item assignment",
     "output_type": "error",
     "traceback": [
      "\u001b[0;31m---------------------------------------------------------------------------\u001b[0m",
      "\u001b[0;31mTypeError\u001b[0m                                 Traceback (most recent call last)",
      "Cell \u001b[0;32mIn[8], line 2\u001b[0m\n\u001b[1;32m      1\u001b[0m t \u001b[38;5;241m=\u001b[39m (\u001b[38;5;241m1\u001b[39m, \u001b[38;5;241m2\u001b[39m, \u001b[38;5;241m3\u001b[39m)\n\u001b[0;32m----> 2\u001b[0m t[\u001b[38;5;241m0\u001b[39m] \u001b[38;5;241m=\u001b[39m \u001b[38;5;124m'\u001b[39m\u001b[38;5;124ma\u001b[39m\u001b[38;5;124m'\u001b[39m\n",
      "\u001b[0;31mTypeError\u001b[0m: 'tuple' object does not support item assignment"
     ]
    }
   ],
   "source": [
    "t = (1, 2, 3)\n",
    "t[0] = 'a'"
   ]
  },
  {
   "cell_type": "markdown",
   "id": "35524889",
   "metadata": {},
   "source": [
    "정답: 튜플은 리스트와 달리 값 변경이 불가능합니다."
   ]
  },
  {
   "cell_type": "markdown",
   "id": "ca9ebdb5",
   "metadata": {},
   "source": [
    "### 075\n",
    "아래와 같이 t에는 1, 2, 3, 4 데이터가 바인딩되어 있다. t가 바인딩하는 데이터 타입은 무엇인가?"
   ]
  },
  {
   "cell_type": "code",
   "execution_count": 10,
   "id": "81bf0798",
   "metadata": {},
   "outputs": [
    {
     "data": {
      "text/plain": [
       "(1, 2, 3, 4)"
      ]
     },
     "execution_count": 10,
     "metadata": {},
     "output_type": "execute_result"
    }
   ],
   "source": [
    "t = 1, 2, 3, 4\n",
    "t"
   ]
  },
  {
   "cell_type": "markdown",
   "id": "633f4c93",
   "metadata": {},
   "source": [
    "정답: 튜플입니다."
   ]
  },
  {
   "cell_type": "markdown",
   "id": "3cd47bfc",
   "metadata": {},
   "source": [
    "### 076\n",
    "변수 t에는 아래와 같은 값이 저장되어 있다. 변수 t가 ('A', 'b', 'c') 튜플을 가리키도록 수정 하라.<br>\n"
   ]
  },
  {
   "cell_type": "code",
   "execution_count": 11,
   "id": "e914fcae",
   "metadata": {},
   "outputs": [],
   "source": [
    "t = ('a', 'b', 'c')"
   ]
  },
  {
   "cell_type": "markdown",
   "id": "65669012",
   "metadata": {},
   "source": [
    "💡 hint: 튜플의 값은 변경할 수 없기 때문에, 리스트와 달리 아래 코드는 동작하지 않습니다. <br>\n",
    "`t[0] = 'A'`<br>\n",
    "새로운 튜플을 만들고 t 라는 변수를 업데이트 해야 합니다. 기존의 튜플 ('a', 'b', 'c')은 자동으로 삭제됩니다."
   ]
  },
  {
   "cell_type": "code",
   "execution_count": 6,
   "id": "44c0ba14",
   "metadata": {},
   "outputs": [],
   "source": [
    "t = ('A', 'b', 'c')"
   ]
  },
  {
   "cell_type": "markdown",
   "id": "361501a4",
   "metadata": {},
   "source": [
    "### 077\n",
    "다음 튜플을 리스트로 변환하라."
   ]
  },
  {
   "cell_type": "code",
   "execution_count": 13,
   "id": "65fc6fee",
   "metadata": {},
   "outputs": [
    {
     "name": "stdout",
     "output_type": "stream",
     "text": [
      "('삼성전자', 'LG전자', 'SK Hynix')\n",
      "<class 'tuple'>\n"
     ]
    }
   ],
   "source": [
    "interest = ('삼성전자', 'LG전자', 'SK Hynix')\n",
    "print(interest)\n",
    "print(type(interest))"
   ]
  },
  {
   "cell_type": "code",
   "execution_count": 7,
   "id": "cc658499",
   "metadata": {},
   "outputs": [
    {
     "name": "stdout",
     "output_type": "stream",
     "text": [
      "['삼성전자', 'LG전자', 'SK Hynix']\n",
      "<class 'list'>\n"
     ]
    }
   ],
   "source": [
    "interest = ('삼성전자', 'LG전자', 'SK Hynix')\n",
    "data = list(interest)\n",
    "print(data)\n",
    "print(type(data))"
   ]
  },
  {
   "cell_type": "markdown",
   "id": "703a11cc",
   "metadata": {},
   "source": [
    "### 078\n",
    "다음 리스트를 튜플로 변경하라."
   ]
  },
  {
   "cell_type": "code",
   "execution_count": 15,
   "id": "762c71ac",
   "metadata": {},
   "outputs": [
    {
     "name": "stdout",
     "output_type": "stream",
     "text": [
      "['삼성전자', 'LG전자', 'SK Hynix']\n",
      "<class 'list'>\n"
     ]
    }
   ],
   "source": [
    "interest = ['삼성전자', 'LG전자', 'SK Hynix']\n",
    "print(interest)\n",
    "print(type(interest))"
   ]
  },
  {
   "cell_type": "code",
   "execution_count": 8,
   "id": "11ad05a3",
   "metadata": {},
   "outputs": [
    {
     "name": "stdout",
     "output_type": "stream",
     "text": [
      "('삼성전자', 'LG전자', 'SK Hynix')\n",
      "<class 'tuple'>\n"
     ]
    }
   ],
   "source": [
    "interest = ['삼성전자', 'LG전자', 'SK Hynix']\n",
    "data = tuple(interest)\n",
    "print(data)\n",
    "print(type(data))"
   ]
  },
  {
   "cell_type": "markdown",
   "id": "ca7d108c",
   "metadata": {},
   "source": [
    "### 079 튜플 언팩킹\n",
    "다음 코드의 실행 결과를 예상하라."
   ]
  },
  {
   "cell_type": "markdown",
   "id": "c0d6ad6f",
   "metadata": {},
   "source": [
    "```\n",
    ">> temp = ('apple', 'banana', 'cake')\n",
    ">> a, b, c = temp\n",
    ">> print(a, b, c)\n",
    "```"
   ]
  },
  {
   "cell_type": "markdown",
   "id": "c944ab2a",
   "metadata": {},
   "source": [
    "정답: apple banana cake"
   ]
  },
  {
   "cell_type": "markdown",
   "id": "bd72cae2",
   "metadata": {},
   "source": [
    "### 080 range 함수\n",
    "1 부터 99까지의 정수 중 짝수만 저장된 튜플을 생성하라.<br>\n",
    "💡 hint: range(start, stop, step): start부터 stop-1까지 step 간격으로 숫자를 생성합니다."
   ]
  },
  {
   "cell_type": "code",
   "execution_count": 10,
   "id": "c15ac53b",
   "metadata": {},
   "outputs": [
    {
     "name": "stdout",
     "output_type": "stream",
     "text": [
      "(2, 4, 6, 8, 10, 12, 14, 16, 18, 20, 22, 24, 26, 28, 30, 32, 34, 36, 38, 40, 42, 44, 46, 48, 50, 52, 54, 56, 58, 60, 62, 64, 66, 68, 70, 72, 74, 76, 78, 80, 82, 84, 86, 88, 90, 92, 94, 96, 98)\n"
     ]
    }
   ],
   "source": [
    "data = tuple(range(2, 99, 2))\n",
    "print(data)"
   ]
  },
  {
   "cell_type": "code",
   "execution_count": null,
   "id": "f51918f9",
   "metadata": {},
   "outputs": [],
   "source": []
  }
 ],
 "metadata": {
  "kernelspec": {
   "display_name": "Python 3",
   "language": "python",
   "name": "python3"
  },
  "language_info": {
   "codemirror_mode": {
    "name": "ipython",
    "version": 3
   },
   "file_extension": ".py",
   "mimetype": "text/x-python",
   "name": "python",
   "nbconvert_exporter": "python",
   "pygments_lexer": "ipython3",
   "version": "3.10.7"
  }
 },
 "nbformat": 4,
 "nbformat_minor": 5
}
