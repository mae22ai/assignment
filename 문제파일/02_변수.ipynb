{
 "cells": [
  {
   "cell_type": "markdown",
   "id": "01069c5e",
   "metadata": {},
   "source": [
    "## 02. 파이썬 변수"
   ]
  },
  {
   "cell_type": "markdown",
   "id": "6b5af9fa",
   "metadata": {},
   "source": [
    "### 011 변수 사용하기\n",
    "삼성전자라는 변수로 50,000원을 바인딩해보세요. 삼성전자 주식 10주를 보유하고 있을 때 총 평가금액을 출력하세요."
   ]
  },
  {
   "cell_type": "code",
   "execution_count": null,
   "id": "760a0b8c",
   "metadata": {},
   "outputs": [
    {
     "name": "stdout",
     "output_type": "stream",
     "text": [
      "500000\n"
     ]
    }
   ],
   "source": []
  },
  {
   "cell_type": "markdown",
   "id": "d2cdd352",
   "metadata": {},
   "source": [
    "### 012 변수 사용하기\n",
    "다음 표는 삼성전자의 일부 투자정보입니다. 변수를 사용해서 시가총액, 현재가, PER 등을 바인딩해보세요.\n",
    "|항목|\t값|\n",
    "|---|---|\n",
    "|시가총액|298조|\n",
    "|현재가|50,000원|\n",
    "|PER|15.79|"
   ]
  },
  {
   "cell_type": "code",
   "execution_count": null,
   "id": "fc90101c",
   "metadata": {},
   "outputs": [
    {
     "name": "stdout",
     "output_type": "stream",
     "text": [
      "298000000000000 <class 'int'>\n",
      "50000 <class 'int'>\n",
      "15.79 <class 'float'>\n"
     ]
    }
   ],
   "source": []
  },
  {
   "cell_type": "markdown",
   "id": "c05dd316",
   "metadata": {},
   "source": [
    "### 013 문자열 출력\n",
    "변수 s와 t에는 각각 문자열이 바인딩 되어있습니다.\n",
    "```\n",
    ">> s = \"hello\"\n",
    ">> t = \"python\"\n",
    "```\n",
    "\n",
    "두 변수를 이용하여 아래와 같이 출력해보세요.\n",
    "```\n",
    "실행 예:\n",
    "hello! python\n",
    "```"
   ]
  },
  {
   "cell_type": "code",
   "execution_count": null,
   "id": "a7423067",
   "metadata": {},
   "outputs": [
    {
     "name": "stdout",
     "output_type": "stream",
     "text": [
      "hello! python\n"
     ]
    }
   ],
   "source": [
    "s = \"hello\"\n",
    "t = \"python\"\n",
    "print(***)"
   ]
  },
  {
   "cell_type": "markdown",
   "id": "a5c8a458",
   "metadata": {},
   "source": [
    "### 014 파이썬을 이용한 값 계산\n",
    "아래 코드의 실행 결과를 예상해보세요.\n",
    "\n",
    "`>> 2 + 2 * 3`"
   ]
  },
  {
   "cell_type": "markdown",
   "id": "d04aa6b9",
   "metadata": {},
   "source": [
    "정답: "
   ]
  },
  {
   "cell_type": "markdown",
   "id": "bfb25670",
   "metadata": {},
   "source": [
    "### 015 type 함수\n",
    "type() 함수는 데이터 타입을 판별합니다. 변수 a에는 128 숫자가 바인딩돼 있어 type 함수가 int (정수)형임을 알려줍니다."
   ]
  },
  {
   "cell_type": "code",
   "execution_count": null,
   "id": "993bc875",
   "metadata": {},
   "outputs": [],
   "source": [
    "# 실행시켜서 a의 type 확인해보기!\n",
    "a = 128\n",
    "print(type(a))"
   ]
  },
  {
   "cell_type": "markdown",
   "id": "0fa36083",
   "metadata": {},
   "source": [
    "아래 변수에 바인딩된 값의 타입을 판별해보세요."
   ]
  },
  {
   "cell_type": "code",
   "execution_count": null,
   "id": "cef6f8f8",
   "metadata": {},
   "outputs": [],
   "source": [
    "a = \"132\"\n",
    "print(***)"
   ]
  },
  {
   "cell_type": "markdown",
   "id": "e99abe53",
   "metadata": {},
   "source": [
    "### 016 문자열을 정수로 변환\n",
    "문자열 '720'를 정수형으로 변환해보세요."
   ]
  },
  {
   "cell_type": "code",
   "execution_count": null,
   "id": "65d0d241",
   "metadata": {},
   "outputs": [],
   "source": [
    "num_str = \"720\"  #형변환\n",
    "num_int = ***(num_str)\n",
    "print(num_int+1, ***(num_int))"
   ]
  },
  {
   "cell_type": "markdown",
   "id": "cd06c1dc",
   "metadata": {},
   "source": [
    "### 017 정수를 문자열 100으로 변환\n",
    "정수 100을 문자열 '100'으로 변환해보세요."
   ]
  },
  {
   "cell_type": "code",
   "execution_count": null,
   "id": "3606bee4",
   "metadata": {},
   "outputs": [],
   "source": [
    "num = 100\n",
    "result = ***(num)\n",
    "print(result, ***(result))"
   ]
  },
  {
   "cell_type": "markdown",
   "id": "0c490675",
   "metadata": {},
   "source": [
    "### 018 문자열을 실수로 변환\n",
    "문자열 \"15.79\"를 실수(float) 타입으로 변환해보세요."
   ]
  },
  {
   "cell_type": "code",
   "execution_count": null,
   "id": "6ecec5bd",
   "metadata": {},
   "outputs": [],
   "source": [
    "data = \"15.79\"\n",
    "data = ***(data)\n",
    "print(data, ***(data))"
   ]
  },
  {
   "cell_type": "markdown",
   "id": "5835e244",
   "metadata": {},
   "source": [
    "### 019 문자열을 정수로 변환\n",
    "year라는 변수가 문자열 타입의 연도를 바인딩하고 있습니다. 이를 정수로 변환한 후 최근 3년의 연도를 화면에 출력해보세요."
   ]
  },
  {
   "cell_type": "code",
   "execution_count": null,
   "id": "df2cc15a",
   "metadata": {},
   "outputs": [],
   "source": [
    "year = \"2020\"\n",
    "print(***)  # 2017\n",
    "print(***)  # 2018\n",
    "print(***)  # 2019"
   ]
  },
  {
   "cell_type": "markdown",
   "id": "6412c826",
   "metadata": {},
   "source": [
    "### 020 파이썬 계산\n",
    "에이컨이 월 48,584원에 무이자 36개월의 조건으로 홈쇼핑에서 판매되고 있습니다. 총 금액은 계산한 후 이를 화면에 출력해보세요. (변수사용하기)"
   ]
  },
  {
   "cell_type": "code",
   "execution_count": null,
   "id": "7c63f30a",
   "metadata": {},
   "outputs": [],
   "source": [
    "월 = 48584\n",
    "총금액 = ***\n",
    "print(총금액)"
   ]
  }
 ],
 "metadata": {
  "kernelspec": {
   "display_name": "base",
   "language": "python",
   "name": "python3"
  },
  "language_info": {
   "codemirror_mode": {
    "name": "ipython",
    "version": 3
   },
   "file_extension": ".py",
   "mimetype": "text/x-python",
   "name": "python",
   "nbconvert_exporter": "python",
   "pygments_lexer": "ipython3",
   "version": "3.11.3"
  }
 },
 "nbformat": 4,
 "nbformat_minor": 5
}
