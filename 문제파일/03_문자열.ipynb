{
 "cells": [
  {
   "cell_type": "markdown",
   "id": "d2bf31e0",
   "metadata": {},
   "source": [
    "## 03. 파이썬 문자열\n",
    "파이썬 문자열은 인덱싱, 슬라이싱 기능과 다양한 메서드를 제공합니다."
   ]
  },
  {
   "cell_type": "markdown",
   "id": "df6842ce",
   "metadata": {},
   "source": [
    "### 021 문자열 인덱싱\n",
    "letters가 바인딩하는 문자열에서 첫번째와 세번째 문자를 출력하세요."
   ]
  },
  {
   "cell_type": "markdown",
   "id": "775367bf",
   "metadata": {},
   "source": [
    "실행 예 <br>\n",
    "p t"
   ]
  },
  {
   "cell_type": "code",
   "execution_count": null,
   "id": "75badbb5",
   "metadata": {},
   "outputs": [],
   "source": [
    "letters = 'python'\n",
    "print(***)"
   ]
  },
  {
   "cell_type": "markdown",
   "id": "9a533063",
   "metadata": {},
   "source": [
    "### 022 문자열 슬라이싱\n",
    "자동차 번호가 다음과 같을 때 뒤에 4자리만 출력하세요. <br>\n",
    "license_plate = \"24가 2210\" <br>\n",
    "실행 예: 2210"
   ]
  },
  {
   "cell_type": "code",
   "execution_count": null,
   "id": "d5c42e71",
   "metadata": {},
   "outputs": [],
   "source": [
    "license_plate = \"24가 2210\"\n",
    "print(***)"
   ]
  },
  {
   "cell_type": "markdown",
   "id": "992529f5",
   "metadata": {},
   "source": [
    "### 023 문자열 인덱싱\n",
    "아래의 문자열에서 '홀' 만 출력하세요. <br>\n",
    "string = \"홀짝홀짝홀짝\" <br>\n",
    "실행 예: <br>\n",
    "홀홀홀"
   ]
  },
  {
   "cell_type": "code",
   "execution_count": null,
   "id": "49a2b751",
   "metadata": {},
   "outputs": [
    {
     "name": "stdout",
     "output_type": "stream",
     "text": [
      "홀홀홀\n"
     ]
    }
   ],
   "source": [
    "string = \"홀짝홀짝홀짝\"\n",
    "print(***)"
   ]
  },
  {
   "cell_type": "markdown",
   "id": "5f8f613a",
   "metadata": {},
   "source": [
    "### 024 문자열 슬라이싱\n",
    "문자열을 거꾸로 뒤집어 출력하세요. <br>\n",
    "string = \"PYTHON\" <br>\n",
    "실행 예: <br>\n",
    "NOHTYP"
   ]
  },
  {
   "cell_type": "code",
   "execution_count": null,
   "id": "1c5ccd5a",
   "metadata": {},
   "outputs": [
    {
     "name": "stdout",
     "output_type": "stream",
     "text": [
      "NOHTYP\n"
     ]
    }
   ],
   "source": [
    "string = \"PYTHON\"\n",
    "print(***)"
   ]
  },
  {
   "cell_type": "markdown",
   "id": "9c29bfd0",
   "metadata": {},
   "source": [
    "### 025 문자열 치환\n",
    "아래의 전화번호에서 하이푼 ('-')을 제거하고 출력하세요. <br>\n",
    "phone_number = \"010-1111-2222\" <br>\n",
    "실행 예 <Br>\n",
    "010 1111 2222"
   ]
  },
  {
   "cell_type": "code",
   "execution_count": null,
   "id": "8532699c",
   "metadata": {},
   "outputs": [
    {
     "name": "stdout",
     "output_type": "stream",
     "text": [
      "010 1111 2222\n"
     ]
    }
   ],
   "source": [
    "phone_number = \"010-1111-2222\"\n",
    "phone_number1 = phone_number.***(***, ***)\n",
    "print(phone_number1)"
   ]
  },
  {
   "cell_type": "markdown",
   "id": "1bb255cc",
   "metadata": {},
   "source": [
    "### 026 문자열 다루기\n",
    "25번 문제의 전화번호를 아래와 같이 모두 붙여 출력하세요."
   ]
  },
  {
   "cell_type": "code",
   "execution_count": null,
   "id": "0ed98cbc",
   "metadata": {},
   "outputs": [
    {
     "name": "stdout",
     "output_type": "stream",
     "text": [
      "01011112222\n"
     ]
    }
   ],
   "source": [
    "phone_number = \"010-1111-2222\"\n",
    "phone_number1 = phone_number.***(***, ***)\n",
    "print(phone_number1)"
   ]
  },
  {
   "cell_type": "markdown",
   "id": "770f1489",
   "metadata": {},
   "source": [
    "### 027 문자열 다루기\n",
    "url 에 저장된 웹 페이지 주소에서 도메인을 출력하세요. <br>\n",
    "url = \"http://sharebook.kr\" <br>\n",
    "실행 예: <br>\n",
    "kr"
   ]
  },
  {
   "cell_type": "code",
   "execution_count": null,
   "id": "8eedc255",
   "metadata": {},
   "outputs": [
    {
     "name": "stdout",
     "output_type": "stream",
     "text": [
      "kr\n"
     ]
    }
   ],
   "source": [
    "url = \"http://sharebook.kr\"\n",
    "url_split = url.***(***)\n",
    "print(***)"
   ]
  },
  {
   "cell_type": "markdown",
   "id": "0cb94685",
   "metadata": {},
   "source": [
    "### 028 문자열은 immutable\n",
    "아래 코드의 실행 결과를 예상해보세요.\n",
    "\n",
    "```\n",
    ">> lang = 'python'\n",
    ">> lang[0] = 'P'\n",
    ">> print(lang)\n",
    "```"
   ]
  },
  {
   "cell_type": "markdown",
   "id": "97a1ec14",
   "metadata": {},
   "source": []
  },
  {
   "cell_type": "markdown",
   "id": "1516bf3e",
   "metadata": {},
   "source": [
    "### 029 replace 메서드\n",
    "아래 문자열에서 소문자 'a'를 대문자 'A'로 변경하세요.\n",
    "\n",
    "```\n",
    "string = 'abcdfe2a354a32a'\n",
    "```\n",
    "\n",
    "실행 예: <BR>\n",
    "Abcdfe2A354A32A"
   ]
  },
  {
   "cell_type": "code",
   "execution_count": null,
   "id": "3bae92e7",
   "metadata": {},
   "outputs": [
    {
     "name": "stdout",
     "output_type": "stream",
     "text": [
      "Abcdfe2A354A32A\n"
     ]
    }
   ],
   "source": [
    "string = 'abcdfe2a354a32a'\n",
    "string = string.***(***, ***)\n",
    "print(string)"
   ]
  },
  {
   "cell_type": "markdown",
   "id": "fcb64cb6",
   "metadata": {},
   "source": [
    "### 030 replace 메서드\n",
    "아래 코드의 실행 결과를 예상해보세요.\n",
    "```\n",
    ">> string = 'abcd'\n",
    ">> string.replace('b', 'B')\n",
    ">> print(string)\n",
    "```"
   ]
  },
  {
   "cell_type": "markdown",
   "id": "50fc428e",
   "metadata": {},
   "source": []
  },
  {
   "cell_type": "markdown",
   "id": "970ed826",
   "metadata": {},
   "source": [
    "### 031 문자열 합치기\n",
    "아래 코드의 실행 결과를 예상해보세요.\n",
    "```\n",
    ">> a = \"3\"\n",
    ">> b = \"4\"\n",
    ">> print(a + b)\n",
    "```"
   ]
  },
  {
   "cell_type": "markdown",
   "id": "947b974e",
   "metadata": {},
   "source": []
  },
  {
   "cell_type": "markdown",
   "id": "9129071c",
   "metadata": {},
   "source": [
    "### 032 문자열 곱하기\n",
    "아래 코드의 실행 결과를 예상해보세요.\n",
    "\n",
    "`>> print(\"Hi\" * 3)`"
   ]
  },
  {
   "cell_type": "markdown",
   "id": "7791e33e",
   "metadata": {},
   "source": []
  },
  {
   "cell_type": "markdown",
   "id": "584fd233",
   "metadata": {},
   "source": [
    "### 033 문자열 곱하기\n",
    "화면에 '-'를 80개 출력하세요.\n",
    "\n",
    "```\n",
    "실행 예:\n",
    "--------------------------------------------------------------------------------\n",
    "```"
   ]
  },
  {
   "cell_type": "code",
   "execution_count": null,
   "id": "528e8b2d",
   "metadata": {},
   "outputs": [
    {
     "name": "stdout",
     "output_type": "stream",
     "text": [
      "--------------------------------------------------------------------------------\n"
     ]
    }
   ],
   "source": [
    "print(***)"
   ]
  },
  {
   "cell_type": "markdown",
   "id": "8a471f34",
   "metadata": {},
   "source": [
    "### 034 문자열 곱하기\n",
    "변수에 다음과 같은 문자열이 바인딩되어 있습니다.\n",
    "\n",
    "```\n",
    ">>> t1 = 'python'\n",
    ">>> t2 = 'java'\n",
    "```\n",
    "변수에 문자열 더하기와 문자열 곱하기를 사용해서 아래와 같이 출력해보세요.\n",
    "\n",
    "```\n",
    "실행 예:\n",
    "python java python java python java python java\n",
    "```"
   ]
  },
  {
   "cell_type": "code",
   "execution_count": null,
   "id": "8ebcd79e",
   "metadata": {},
   "outputs": [
    {
     "name": "stdout",
     "output_type": "stream",
     "text": [
      "python java python java python java python java \n"
     ]
    }
   ],
   "source": [
    "t1 = \"python\"\n",
    "t2 = \"java\"\n",
    "t3 = ***\n",
    "print(***)"
   ]
  },
  {
   "cell_type": "markdown",
   "id": "9cb2a50d",
   "metadata": {},
   "source": [
    "### 035 문자열 출력\n",
    "변수에 다음과 같이 문자열과 정수가 바인딩되어 있을 때 % formatting을 사용해서 다음과 같이 출력해보세요.\n",
    "```\n",
    "이름: 김민수 나이: 10\n",
    "이름: 이철희 나이: 13\n",
    "```\n",
    "\n",
    "print 포맷팅에서 `%s`는 문자열 데이터 타입의 값을 `%d`는 정수형 데이터 타입 값의 출력을 의미합니다."
   ]
  },
  {
   "cell_type": "code",
   "execution_count": null,
   "id": "f4f24b8e",
   "metadata": {},
   "outputs": [
    {
     "name": "stdout",
     "output_type": "stream",
     "text": [
      "이름: 김민수 나이: 10\n",
      "이름: 이철희 나이: 13\n"
     ]
    }
   ],
   "source": [
    "name1 = \"김민수\" \n",
    "age1 = 10\n",
    "name2 = \"이철희\"\n",
    "age2 = 13\n",
    "\n",
    "print(***)\n",
    "print(***)"
   ]
  },
  {
   "cell_type": "markdown",
   "id": "5530ef61",
   "metadata": {},
   "source": [
    "### 036 문자열 출력\n",
    "문자열의 format( ) 메서드를 사용해서 035번 문제를 다시 풀어보세요.\n",
    "\n",
    "문자열의 포맷 메서드는 타입과 상관없이 값이 출력될 위치에 `{ }`를 적어주면 됩니다."
   ]
  },
  {
   "cell_type": "code",
   "execution_count": null,
   "id": "b8197a2e",
   "metadata": {},
   "outputs": [
    {
     "name": "stdout",
     "output_type": "stream",
     "text": [
      "이름: 김민수 나이: 10\n",
      "이름: 이철희 나이: 13\n"
     ]
    }
   ],
   "source": [
    "name1 = \"김민수\" \n",
    "age1 = 10\n",
    "name2 = \"이철희\"\n",
    "age2 = 13\n",
    "\n",
    "print(***)\n",
    "print(***)"
   ]
  },
  {
   "cell_type": "markdown",
   "id": "293ab767",
   "metadata": {},
   "source": [
    "### 037 문자열 출력\n",
    "파이썬 3.6부터 지원하는 f-string을 사용해서 035번 문제를 다시 풀어보세요.\n",
    "\n",
    "f-string은 문자열 앞에 f가 붙은 형태입니다. f-string을 사용하면 `{변수}`와 같은 형태로 문자열 사이에 타입과 상관없이 값을 출력할 수 있습니다."
   ]
  },
  {
   "cell_type": "code",
   "execution_count": null,
   "id": "1870163c",
   "metadata": {},
   "outputs": [
    {
     "name": "stdout",
     "output_type": "stream",
     "text": [
      "이름: 김민수 나이: 10\n",
      "이름: 이철희 나이: 13\n"
     ]
    }
   ],
   "source": [
    "name1 = \"김민수\" \n",
    "age1 = 10\n",
    "name2 = \"이철희\"\n",
    "age2 = 13\n",
    "\n",
    "print(***)\n",
    "print(***)"
   ]
  },
  {
   "cell_type": "markdown",
   "id": "25c53ef8",
   "metadata": {},
   "source": [
    "### 038 컴마 제거하기\n",
    "삼성전자의 상장주식수가 다음과 같습니다. 컴마를 제거한 후 이를 정수 타입으로 변환해보세요.\n",
    "\n",
    "`상장주식수 = \"5,969,782,550\"`\n",
    "\n",
    "정수형으로 타입을 변환하려면 int( ) 함수를 사용하면 됩니다. 이때 숫자 형태의 문자열에 컴마가 있는 경우 바로 변환된지 않습니다. 먼저 문자열의 replace 메서드로 컴마를 제거한 후 변환해야합니다."
   ]
  },
  {
   "cell_type": "code",
   "execution_count": null,
   "id": "685f7e40",
   "metadata": {},
   "outputs": [
    {
     "name": "stdout",
     "output_type": "stream",
     "text": [
      "5969782550 <class 'int'>\n"
     ]
    }
   ],
   "source": [
    "상장주식수 = \"5,969,782,550\"\n",
    "컴마제거 = 상장주식수.***(***, ***)\n",
    "타입변환 = ***(컴마제거)\n",
    "print(타입변환, ***(타입변환))"
   ]
  },
  {
   "cell_type": "markdown",
   "id": "5c3491a7",
   "metadata": {},
   "source": [
    "### 039 문자열 슬라이싱\n",
    "다음과 같은 문자열에서 '2020/03'만 출력하세요.\n",
    "\n",
    "`분기 = \"2020/03(E) (IFRS연결)\"`\n",
    "\n",
    "문자열에서 슬라이싱을 사용하면 여러 글자를 접근할 수 있습니다."
   ]
  },
  {
   "cell_type": "code",
   "execution_count": null,
   "id": "4ff15c25",
   "metadata": {},
   "outputs": [
    {
     "name": "stdout",
     "output_type": "stream",
     "text": [
      "2020/03\n"
     ]
    }
   ],
   "source": [
    "분기 = \"2020/03(E) (IFRS연결)\"\n",
    "print(***)"
   ]
  },
  {
   "cell_type": "markdown",
   "id": "3cd66aff",
   "metadata": {},
   "source": [
    "### 040 strip 메서드\n",
    "문자열의 좌우의 공백이 있을 때 이를 제거해보세요.\n",
    "\n",
    "`data = \"   삼성전자    \"`\n",
    "\n",
    "문자열에서 strip( ) 메서드를 사용하면 좌우의 공백을 제거할 수 있습니다. 이때 원본 문자열은 그대로 유지되고 공백이 제거된 새로운 문자열이 반환됩니다."
   ]
  },
  {
   "cell_type": "code",
   "execution_count": null,
   "id": "40e1f6d8",
   "metadata": {},
   "outputs": [
    {
     "name": "stdout",
     "output_type": "stream",
     "text": [
      "삼성전자\n"
     ]
    }
   ],
   "source": [
    "data = \"   삼성전자    \"\n",
    "data1 = data.***()\n",
    "print(data1)"
   ]
  },
  {
   "cell_type": "markdown",
   "id": "4024c864",
   "metadata": {},
   "source": [
    "### 041 upper 메서드\n",
    "다음과 같은 문자열이 있을 때 이를 대문자 BTC_KRW로 변경하세요.\n",
    "\n",
    "`ticker = \"btc_krw\"`\n",
    "\n",
    "upper 메서드를 호출하면 문자열을 대문자로 만들 수 있습니다. 다만 이 경우에도 원본 문자열은 유지되고 대문자로 변경된 새로운 문자열 객체가 반환되는 겁니다. 반환된 새로운 객체를 새로운 변수로 바인딩한 후 이를 print 함수로 출력하면 됩니다."
   ]
  },
  {
   "cell_type": "code",
   "execution_count": null,
   "id": "4ba724ac",
   "metadata": {},
   "outputs": [
    {
     "name": "stdout",
     "output_type": "stream",
     "text": [
      "BTC_KRW\n"
     ]
    }
   ],
   "source": [
    "ticker = \"btc_krw\"\n",
    "ticker1 = ticker.***()\n",
    "print(ticker1)"
   ]
  },
  {
   "cell_type": "markdown",
   "id": "355b22d0",
   "metadata": {},
   "source": [
    "### 042 lower 메서드\n",
    "다음과 같은 문자열이 있을 때 이를 소문자 btc_krw로 변경하세요.\n",
    "\n",
    "`ticker = \"BTC_KRW\"`"
   ]
  },
  {
   "cell_type": "code",
   "execution_count": null,
   "id": "c0741c30",
   "metadata": {},
   "outputs": [
    {
     "name": "stdout",
     "output_type": "stream",
     "text": [
      "btc_krw\n"
     ]
    }
   ],
   "source": [
    "ticker = \"BTC_KRW\"\n",
    "ticker = ticker.***()\n",
    "print(ticker)"
   ]
  },
  {
   "cell_type": "markdown",
   "id": "ecc55484",
   "metadata": {},
   "source": [
    "### 043 capitalize 메서드\n",
    "문자열 'hello'가 있을 때 이를 'Hello'로 변경해보세요."
   ]
  },
  {
   "cell_type": "code",
   "execution_count": null,
   "id": "2fd906bc",
   "metadata": {},
   "outputs": [
    {
     "name": "stdout",
     "output_type": "stream",
     "text": [
      "Hello\n"
     ]
    }
   ],
   "source": [
    "a = \"hello\"\n",
    "a = a.***()\n",
    "print(a)"
   ]
  },
  {
   "cell_type": "markdown",
   "id": "2c84c89e",
   "metadata": {},
   "source": [
    "### 044 endswith 메서드\n",
    "파일 이름이 문자열로 저장되어 있을 때 endswith 메서드를 사용해서 파일 이름이 'xlsx'로 끝나는지 확인해보세요."
   ]
  },
  {
   "cell_type": "code",
   "execution_count": null,
   "id": "f3debf11",
   "metadata": {},
   "outputs": [
    {
     "data": {
      "text/plain": [
       "True"
      ]
     },
     "execution_count": 34,
     "metadata": {},
     "output_type": "execute_result"
    }
   ],
   "source": [
    "file_name = \"보고서.xlsx\"\n",
    "file_name.***(\"xlsx\")"
   ]
  },
  {
   "cell_type": "markdown",
   "id": "b93742bd",
   "metadata": {},
   "source": [
    "### 045 endswith 메서드\n",
    "파일 이름이 문자열로 저장되어 있을 때 endswith 메서드를 사용해서 파일 이름이 'xlsx' 또는 'xls'로 끝나는지 확인해보세요."
   ]
  },
  {
   "cell_type": "code",
   "execution_count": null,
   "id": "cfb65de6",
   "metadata": {},
   "outputs": [
    {
     "data": {
      "text/plain": [
       "True"
      ]
     },
     "execution_count": 35,
     "metadata": {},
     "output_type": "execute_result"
    }
   ],
   "source": [
    "file_name = \"보고서.xls\"\n",
    "file_name.endswith((***))"
   ]
  },
  {
   "cell_type": "markdown",
   "id": "5b6b8b41",
   "metadata": {},
   "source": [
    "### 046 startswith 메서드\n",
    "파일 이름이 문자열로 저장되어 있을 때 startswith 메서드를 사용해서 파일 이름이 '2020'로 시작하는지 확인해보세요."
   ]
  },
  {
   "cell_type": "code",
   "execution_count": null,
   "id": "ea484598",
   "metadata": {},
   "outputs": [
    {
     "data": {
      "text/plain": [
       "True"
      ]
     },
     "execution_count": 36,
     "metadata": {},
     "output_type": "execute_result"
    }
   ],
   "source": [
    "file_name = \"2020_보고서.xlsx\"\n",
    "file_name.***(\"2020\")"
   ]
  },
  {
   "cell_type": "markdown",
   "id": "fd8595d6",
   "metadata": {},
   "source": [
    "### 047 split 메서드\n",
    "다음과 같은 문자열이 있을 때 공백을 기준으로 문자열을 나눠보세요. <br>\n",
    "`a = \"hello world\"`\n",
    "\n",
    "문자열의 split() 메서드를 사용하면 문자열에서 공백을 기준으로 분리해줍니다."
   ]
  },
  {
   "cell_type": "code",
   "execution_count": null,
   "id": "bb7c8fe9",
   "metadata": {},
   "outputs": [
    {
     "data": {
      "text/plain": [
       "['hello', 'world']"
      ]
     },
     "execution_count": 37,
     "metadata": {},
     "output_type": "execute_result"
    }
   ],
   "source": [
    "a = \"hello world\"\n",
    "a.***()"
   ]
  },
  {
   "cell_type": "markdown",
   "id": "c42be3a0",
   "metadata": {},
   "source": [
    "### 048 split 메서드\n",
    "다음과 같이 문자열이 있을 때 btc와 krw로 나눠보세요.\n",
    "\n",
    "`ticker = \"btc_krw\"`\n",
    "\n",
    "문자열에서 split() 메서드는 문자열을 분리할 때 사용합니다. 이때 어떤 값을 넘겨주면 그 값을 기준으로 문자열을 분리해줍니다."
   ]
  },
  {
   "cell_type": "code",
   "execution_count": null,
   "id": "a52d66e2",
   "metadata": {},
   "outputs": [
    {
     "data": {
      "text/plain": [
       "['btc', 'krw']"
      ]
     },
     "execution_count": 38,
     "metadata": {},
     "output_type": "execute_result"
    }
   ],
   "source": [
    "ticker = \"btc_krw\"\n",
    "ticker.***(***)"
   ]
  },
  {
   "cell_type": "markdown",
   "id": "9b4459a0",
   "metadata": {},
   "source": [
    "### 049 split 메서드\n",
    "다음과 같이 날짜를 표현하는 문자열이 있을 때 연도, 월, 일로 나눠보세요.\n",
    "\n",
    "`date = \"2020-05-01\"`"
   ]
  },
  {
   "cell_type": "code",
   "execution_count": null,
   "id": "c0d6aefc",
   "metadata": {},
   "outputs": [
    {
     "data": {
      "text/plain": [
       "['2020', '05', '01']"
      ]
     },
     "execution_count": 39,
     "metadata": {},
     "output_type": "execute_result"
    }
   ],
   "source": [
    "date = \"2020-05-01\"\n",
    "date.***(***)"
   ]
  },
  {
   "cell_type": "markdown",
   "id": "d2ee3eab",
   "metadata": {},
   "source": [
    "### 050 rstrip 메서드\n",
    "문자열의 오른쪽에 공백이 있을 때 이를 제거해보세요.\n",
    "\n",
    "`data = \"039490     \"`\n",
    "\n",
    "rstrip() 메서드를 사용하면 오른쪽 공백이 제거된 새로운 문자열 객체가 반환됩니다. 그 값을 data라는 변수가 새로 바인딩합니다. 기존의 공백이 포함된 문자열은 메모리에서 자동으로 삭제됩니다."
   ]
  },
  {
   "cell_type": "code",
   "execution_count": null,
   "id": "a261081f",
   "metadata": {},
   "outputs": [
    {
     "name": "stdout",
     "output_type": "stream",
     "text": [
      "039490\n"
     ]
    }
   ],
   "source": [
    "data = \"039490     \"\n",
    "data = data.***()\n",
    "print(data)"
   ]
  }
 ],
 "metadata": {
  "kernelspec": {
   "display_name": "base",
   "language": "python",
   "name": "python3"
  },
  "language_info": {
   "codemirror_mode": {
    "name": "ipython",
    "version": 3
   },
   "file_extension": ".py",
   "mimetype": "text/x-python",
   "name": "python",
   "nbconvert_exporter": "python",
   "pygments_lexer": "ipython3",
   "version": "3.11.3"
  }
 },
 "nbformat": 4,
 "nbformat_minor": 5
}
