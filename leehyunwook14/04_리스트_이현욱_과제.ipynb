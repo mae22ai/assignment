{
 "cells": [
  {
   "cell_type": "markdown",
   "id": "a6474c3b",
   "metadata": {},
   "source": [
    "## 04. 파이썬 리스트\n",
    "파이썬 리스트는 순서가 있고 수정 가능한 자료구조입니다."
   ]
  },
  {
   "cell_type": "markdown",
   "id": "9fd3c410",
   "metadata": {},
   "source": [
    "### 051 리스트 생성\n",
    "2016년 11월 영화 예매 순위 기준 top3는 다음과 같습니다. 영화 제목을 movie_rank 이름의 리스트에 저장해보세요. (순위 정보는 저장하지 않습니다.)\n",
    "|순위|영화|\n",
    "|---|---|\n",
    "|1|닥터 스트레인지|\n",
    "|2|스플릿|\n",
    "|3|럭키|\n",
    "\n",
    "💡 hint: 영화 제목은 문자열로 표현 가능합니다. 여러 개의 값을 저장하기 위해 파이썬 리스트 자료형을 사용합니다."
   ]
  },
  {
   "cell_type": "code",
   "execution_count": 12,
   "id": "f6fb59d6",
   "metadata": {},
   "outputs": [
    {
     "data": {
      "text/plain": [
       "list['닥테 스트레인지', '스플릿', '럭키']"
      ]
     },
     "execution_count": 12,
     "metadata": {},
     "output_type": "execute_result"
    }
   ],
   "source": [
    "movie_rank = list['닥테 스트레인지','스플릿','럭키']\n",
    "movie_rank"
   ]
  },
  {
   "cell_type": "markdown",
   "id": "50eaca88",
   "metadata": {},
   "source": [
    "### 052 리스트에 원소 추가\n",
    "051의 movie_rank 리스트에 \"배트맨\"을 추가하라. <br>\n",
    "💡 hint: 리스트에 문자열 원소를 추가할 때에는 L.append(\"원소\") 로 추가 가능!!"
   ]
  },
  {
   "cell_type": "code",
   "execution_count": 15,
   "id": "af9af5fd",
   "metadata": {},
   "outputs": [
    {
     "name": "stdout",
     "output_type": "stream",
     "text": [
      "['닥테 스트레인지', '스플릿', '럭키', '배트맨']\n"
     ]
    }
   ],
   "source": [
    "movie_rank = ['닥테 스트레인지','스플릿','럭키']\n",
    "\n",
    "movie_rank.append(\"배트맨\")\n",
    "print(movie_rank)"
   ]
  },
  {
   "cell_type": "markdown",
   "id": "c068aa34",
   "metadata": {},
   "source": [
    "### 053\n",
    "movie_rank 리스트에는 아래와 같이 네 개의 영화 제목이 바인딩되어 있다. \"슈퍼맨\"을 \"닥터 스트레인지\"와 \"스플릿\" 사이에 추가하라.<br>\n",
    "`movie_rank = ['닥터 스트레인지', '스플릿', '럭키', '배트맨']`\n",
    "\n",
    "💡 hint: 리스트의 `insert(인덱스, 원소)` 메서드를 사용하면 특정 위치에 값을 끼어넣기 할 수 있습니다."
   ]
  },
  {
   "cell_type": "code",
   "execution_count": 17,
   "id": "14540337",
   "metadata": {},
   "outputs": [
    {
     "name": "stdout",
     "output_type": "stream",
     "text": [
      "['닥터 스트레인지', '슈퍼맨', '스플릿', '럭키', '배트맨']\n"
     ]
    }
   ],
   "source": [
    "movie_rank = ['닥터 스트레인지', '스플릿', '럭키', '배트맨']\n",
    "movie_rank.insert(1, \"슈퍼맨\")\n",
    "print(movie_rank)"
   ]
  },
  {
   "cell_type": "markdown",
   "id": "11c9918a",
   "metadata": {},
   "source": [
    "### 054\n",
    "movie_rank 리스트에서 '럭키'를 삭제하라.\n",
    "\n",
    "`movie_rank = ['닥터 스트레인지', '슈퍼맨', '스플릿', '럭키', '배트맨']`\n",
    "\n",
    "💡 hint: `del`을 이용하여 리스트에서 원소를 삭제할 수 있습니다. 리스트에서 어떤 값을 삭제하면 남은 값들은 새로 인덱싱됩니다."
   ]
  },
  {
   "cell_type": "code",
   "execution_count": 18,
   "id": "1f998924",
   "metadata": {},
   "outputs": [
    {
     "name": "stdout",
     "output_type": "stream",
     "text": [
      "['닥터 스트레인지', '슈퍼맨', '스플릿', '배트맨']\n"
     ]
    }
   ],
   "source": [
    "movie_rank = ['닥터 스트레인지', '슈퍼맨', '스플릿', '럭키', '배트맨']\n",
    "del movie_rank[3]\n",
    "print(movie_rank)"
   ]
  },
  {
   "cell_type": "markdown",
   "id": "5d7557e5",
   "metadata": {},
   "source": [
    "### 055\n",
    "movie_rank 리스트에서 '스플릿' 과 '배트맨'을 를 삭제하라.\n",
    "\n",
    "`movie_rank = ['닥터 스트레인지', '슈퍼맨', '스플릿', '배트맨']`\n",
    "\n",
    "💡 hint: `del`을 이용하여 리스트에서 원소를 삭제할 수 있습니다. 리스트에서 어떤 값을 삭제하면 남은 값들은 새로 인덱싱됩니다. 따라서 여러 값을 삭제할 때는 어떤 값이 먼저 삭제된 후 남은 원소들에 대해서 순서를 새로 고려한 후 삭제해야 합니다."
   ]
  },
  {
   "cell_type": "code",
   "execution_count": 22,
   "id": "85b03ea2",
   "metadata": {},
   "outputs": [
    {
     "name": "stdout",
     "output_type": "stream",
     "text": [
      "['닥터 스트레인지', '슈퍼맨']\n"
     ]
    }
   ],
   "source": [
    "movie_rank = ['닥터 스트레인지', '슈퍼맨', '스플릿', '배트맨']\n",
    "del movie_rank[2]\n",
    "del movie_rank[-1]\n",
    "print(movie_rank)"
   ]
  },
  {
   "cell_type": "markdown",
   "id": "472d37ac",
   "metadata": {},
   "source": [
    "### 056\n",
    "lang1과 lang2 리스트가 있을 때 lang1과 lang2의 원소를 모두 갖고 있는 langs 리스트를 만들어라.<br>\n",
    "💡 hint: 두 리스트를 더하면 새로운 리스트가 생성됩니다."
   ]
  },
  {
   "cell_type": "code",
   "execution_count": 23,
   "id": "485b333b",
   "metadata": {},
   "outputs": [
    {
     "name": "stdout",
     "output_type": "stream",
     "text": [
      "['C', 'C++', 'JAVA', 'Python', 'Go', 'C#']\n"
     ]
    }
   ],
   "source": [
    "lang1 = [\"C\", \"C++\", \"JAVA\"]\n",
    "lang2 = [\"Python\", \"Go\", \"C#\"]\n",
    "langs = lang1 + lang2\n",
    "print(langs)"
   ]
  },
  {
   "cell_type": "markdown",
   "id": "9d50019a",
   "metadata": {},
   "source": [
    "### 057\n",
    "다음 리스트 nums에서 최댓값과 최솟값을 출력하라. (힌트: min(), max() 함수 사용)"
   ]
  },
  {
   "cell_type": "code",
   "execution_count": 26,
   "id": "5005d0cf",
   "metadata": {},
   "outputs": [
    {
     "name": "stdout",
     "output_type": "stream",
     "text": [
      "max:  7\n",
      "min:  1\n"
     ]
    }
   ],
   "source": [
    "nums = [1, 2, 3, 4, 5, 6, 7]\n",
    "print(\"max: \", max(nums))\n",
    "print(\"min: \", min(nums))"
   ]
  },
  {
   "cell_type": "markdown",
   "id": "5538f0df",
   "metadata": {},
   "source": [
    "### 058\n",
    "다음 리스트 nums의 원소들의 합을 출력하라. (힌트: sum() 함수 사용)"
   ]
  },
  {
   "cell_type": "code",
   "execution_count": 27,
   "id": "e6e2eaef",
   "metadata": {},
   "outputs": [
    {
     "name": "stdout",
     "output_type": "stream",
     "text": [
      "15\n"
     ]
    }
   ],
   "source": [
    "nums = [1, 2, 3, 4, 5]\n",
    "print(sum(nums))"
   ]
  },
  {
   "cell_type": "markdown",
   "id": "7428c0fc",
   "metadata": {},
   "source": [
    "### 059\n",
    "다음 리스트 cook에 저장된 데이터의 개수를 화면에 구하라."
   ]
  },
  {
   "cell_type": "code",
   "execution_count": 28,
   "id": "8e21319e",
   "metadata": {},
   "outputs": [
    {
     "name": "stdout",
     "output_type": "stream",
     "text": [
      "12\n"
     ]
    }
   ],
   "source": [
    "cook = [\"피자\", \"김밥\", \"만두\", \"양념치킨\", \"족발\", \"피자\", \"김치만두\", \"쫄면\", \"소시지\", \"라면\", \"팥빙수\", \"김치전\"]\n",
    "print(len(cook))"
   ]
  },
  {
   "cell_type": "markdown",
   "id": "7e087db1",
   "metadata": {},
   "source": [
    "### 060\n",
    "다음 리스트 nums의 평균을 출력하라."
   ]
  },
  {
   "cell_type": "code",
   "execution_count": 29,
   "id": "1ba98ca3",
   "metadata": {},
   "outputs": [
    {
     "name": "stdout",
     "output_type": "stream",
     "text": [
      "3.0\n"
     ]
    }
   ],
   "source": [
    "nums = [1, 2, 3, 4, 5]\n",
    "average = sum(nums) / len(nums)\n",
    "print(average)"
   ]
  },
  {
   "cell_type": "markdown",
   "id": "9a5583cd",
   "metadata": {},
   "source": [
    "### 061 슬라이싱\n",
    "price 변수에는 날짜와 종가 정보가 저장돼 있다. 날짜 정보를 제외하고 가격 정보만을 출력하라. (💡 힌트 : 슬라이싱)"
   ]
  },
  {
   "cell_type": "code",
   "execution_count": 35,
   "id": "b22bce15",
   "metadata": {},
   "outputs": [
    {
     "name": "stdout",
     "output_type": "stream",
     "text": [
      "[100, 130, 140, 150, 160, 170]\n"
     ]
    }
   ],
   "source": [
    "price = ['20180728', 100, 130, 140, 150, 160, 170]\n",
    "print(price[1:7])"
   ]
  },
  {
   "cell_type": "markdown",
   "id": "4524cf07",
   "metadata": {},
   "source": [
    "### 062 슬라이싱\n",
    "슬라이싱을 사용해서 홀수만 출력하라."
   ]
  },
  {
   "cell_type": "code",
   "execution_count": 42,
   "id": "02ce8668",
   "metadata": {},
   "outputs": [
    {
     "name": "stdout",
     "output_type": "stream",
     "text": [
      "[1, 3, 5, 7, 9]\n"
     ]
    }
   ],
   "source": [
    "nums = [1, 2, 3, 4, 5, 6, 7, 8, 9, 10]\n",
    "print(nums[0::2])"
   ]
  },
  {
   "cell_type": "markdown",
   "id": "e2703d77",
   "metadata": {},
   "source": [
    "### 063 슬라이싱\n",
    "슬라이싱을 사용해서 짝수만 출력하라."
   ]
  },
  {
   "cell_type": "code",
   "execution_count": 44,
   "id": "4c08bdd5",
   "metadata": {},
   "outputs": [
    {
     "name": "stdout",
     "output_type": "stream",
     "text": [
      "[2, 4, 6, 8, 10]\n"
     ]
    }
   ],
   "source": [
    "nums = [1, 2, 3, 4, 5, 6, 7, 8, 9, 10]\n",
    "print(nums[1::2])"
   ]
  },
  {
   "cell_type": "markdown",
   "id": "97e5ef1e",
   "metadata": {},
   "source": [
    "### 064 슬라이싱\n",
    "슬라이싱을 사용해서 리스트의 숫자를 역 방향으로 출력하라."
   ]
  },
  {
   "cell_type": "code",
   "execution_count": 46,
   "id": "29171d9d",
   "metadata": {},
   "outputs": [
    {
     "name": "stdout",
     "output_type": "stream",
     "text": [
      "[5, 4, 3, 2, 1]\n"
     ]
    }
   ],
   "source": [
    "nums = [1, 2, 3, 4, 5]\n",
    "print(nums[::-1])"
   ]
  },
  {
   "cell_type": "markdown",
   "id": "ef28fd30",
   "metadata": {},
   "source": [
    "### 065 인덱싱\n",
    "interest 리스트에는 아래의 데이터가 바인딩되어 있다.<br>\n",
    "`interest = ['삼성전자', 'LG전자', 'Naver']`<br>\n",
    "interest 리스트를 사용하여 아래와 같이 화면에 출력하라."
   ]
  },
  {
   "cell_type": "code",
   "execution_count": 48,
   "id": "edf6d3e3",
   "metadata": {},
   "outputs": [
    {
     "name": "stdout",
     "output_type": "stream",
     "text": [
      "삼성전자 Naver\n"
     ]
    }
   ],
   "source": [
    "interest = ['삼성전자', 'LG전자', 'Naver']\n",
    "print(interest[0], interest[2])"
   ]
  },
  {
   "cell_type": "markdown",
   "id": "95644b01",
   "metadata": {},
   "source": [
    "### 066 join 메서드\n",
    "interest 리스트에는 아래의 데이터가 바인딩되어 있다.<br>\n",
    "`interest = ['삼성전자', 'LG전자', 'Naver', 'SK하이닉스', '미래에셋대우']`<br>\n",
    "interest 리스트를 사용하여 아래와 같이 화면에 출력하라.<br>\n",
    "💡 hint: 문자열의 join 메서드를 사용하면 리스트를 문자열로 붙일 수 있습니다."
   ]
  },
  {
   "cell_type": "code",
   "execution_count": 51,
   "id": "6778fca9",
   "metadata": {},
   "outputs": [
    {
     "name": "stdout",
     "output_type": "stream",
     "text": [
      "삼성전자 LG전자 Naver SK하이닉스 미래에셋대우\n"
     ]
    }
   ],
   "source": [
    "interest = ['삼성전자', 'LG전자', 'Naver', 'SK하이닉스', '미래에셋대우']\n",
    "print(\" \".join(interest))"
   ]
  },
  {
   "cell_type": "markdown",
   "id": "fa52dd8f",
   "metadata": {},
   "source": [
    "### 067 join 메서드\n",
    "interest 리스트에는 아래의 데이터가 바인딩되어 있다.<br>\n",
    "`interest = ['삼성전자', 'LG전자', 'Naver', 'SK하이닉스', '미래에셋대우']`<br>\n",
    "interest 리스트를 사용하여 아래와 같이 화면에 출력하라.<br>\n",
    "💡 hint: 문자열의 join 메서드를 사용하면 리스트를 문자열로 붙일 수 있습니다."
   ]
  },
  {
   "cell_type": "code",
   "execution_count": 50,
   "id": "e3e537be",
   "metadata": {},
   "outputs": [
    {
     "name": "stdout",
     "output_type": "stream",
     "text": [
      "삼성전자/LG전자/Naver/SK하이닉스/미래에셋대우\n"
     ]
    }
   ],
   "source": [
    "interest = ['삼성전자', 'LG전자', 'Naver', 'SK하이닉스', '미래에셋대우']\n",
    "print(\"/\".join(interest))"
   ]
  },
  {
   "cell_type": "markdown",
   "id": "b26f556a",
   "metadata": {},
   "source": [
    "### 068 join 메서드\n",
    "interest 리스트에는 아래의 데이터가 바인딩되어 있다.<br>\n",
    "`interest = ['삼성전자', 'LG전자', 'Naver', 'SK하이닉스', '미래에셋대우']`<br>\n",
    "interest 리스트를 사용하여 아래와 같이 화면에 출력하라.<br>\n",
    "💡 hint: 문자열의 join 메서드를 사용하면 리스트를 문자열로 붙일 수 있습니다."
   ]
  },
  {
   "cell_type": "code",
   "execution_count": 52,
   "id": "2ba76e92",
   "metadata": {},
   "outputs": [
    {
     "name": "stdout",
     "output_type": "stream",
     "text": [
      "삼성전자\n",
      "LG전자\n",
      "Naver\n",
      "SK하이닉스\n",
      "미래에셋대우\n"
     ]
    }
   ],
   "source": [
    "interest = ['삼성전자', 'LG전자', 'Naver', 'SK하이닉스', '미래에셋대우']\n",
    "print(\"\\n\".join(interest))"
   ]
  },
  {
   "cell_type": "markdown",
   "id": "2f8c4655",
   "metadata": {},
   "source": [
    "### 069 문자열 split 메서드\n",
    "회사 이름이 슬래시 ('/')로 구분되어 하나의 문자열 string로 저장되어 있다.<br>\n",
    "이를 interest 이름의 리스트로 분리 저장하라."
   ]
  },
  {
   "cell_type": "code",
   "execution_count": 21,
   "id": "cea5cd7f",
   "metadata": {},
   "outputs": [
    {
     "data": {
      "text/plain": [
       "'삼성전자/LG전자/Naver'"
      ]
     },
     "execution_count": 21,
     "metadata": {},
     "output_type": "execute_result"
    }
   ],
   "source": [
    "string = \"삼성전자/LG전자/Naver\"\n",
    "string"
   ]
  },
  {
   "cell_type": "code",
   "execution_count": 55,
   "id": "c5307a9b",
   "metadata": {},
   "outputs": [
    {
     "name": "stdout",
     "output_type": "stream",
     "text": [
      "['삼성전자', 'LG전자', 'Naver']\n"
     ]
    }
   ],
   "source": [
    "interest = string.split(\"/\")\n",
    "print(interest)"
   ]
  },
  {
   "cell_type": "markdown",
   "id": "38159b28",
   "metadata": {},
   "source": [
    "### 070 리스트 정렬\n",
    "리스트 data에 있는 값을 오름차순으로 정렬하세요. <br>\n",
    "💡 hint: L.sort(), sorted(L) 두 가지 방법 사용 가능"
   ]
  },
  {
   "cell_type": "code",
   "execution_count": 62,
   "id": "d19d4388",
   "metadata": {},
   "outputs": [
    {
     "name": "stdout",
     "output_type": "stream",
     "text": [
      "[1, 2, 3, 4, 5, 9, 10]\n"
     ]
    }
   ],
   "source": [
    "data = [2, 4, 3, 1, 5, 10, 9]\n",
    "data.sort()\n",
    "print(data)"
   ]
  },
  {
   "cell_type": "code",
   "execution_count": 65,
   "id": "45b11fc8",
   "metadata": {},
   "outputs": [
    {
     "name": "stdout",
     "output_type": "stream",
     "text": [
      "[10, 9, 5, 4, 3, 2, 1]\n"
     ]
    }
   ],
   "source": [
    "data = [2, 4, 3, 1, 5, 10, 9]\n",
    "data.sort(reverse=True)\n",
    "print(data)"
   ]
  }
 ],
 "metadata": {
  "kernelspec": {
   "display_name": ".venv",
   "language": "python",
   "name": "python3"
  },
  "language_info": {
   "codemirror_mode": {
    "name": "ipython",
    "version": 3
   },
   "file_extension": ".py",
   "mimetype": "text/x-python",
   "name": "python",
   "nbconvert_exporter": "python",
   "pygments_lexer": "ipython3",
   "version": "3.13.1"
  }
 },
 "nbformat": 4,
 "nbformat_minor": 5
}
