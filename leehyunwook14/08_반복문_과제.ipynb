{
 "cells": [
  {
   "cell_type": "markdown",
   "id": "95b53778",
   "metadata": {},
   "source": [
    "## 08. 파이썬 반복문\n",
    "\n",
    "파이썬 for 문은 횟수가 정해져 있거나 상대적으로 횟수가 적은 경우에 대한 반복에 주로 사용됩니다. <br> \n",
    "파이썬 while문은 횟수가 상대적으로 크거나 무한 루프 형태의 반복문에 사용됩니다."
   ]
  },
  {
   "cell_type": "markdown",
   "id": "a6db4499",
   "metadata": {},
   "source": [
    "### 131\n",
    "for문의 실행결과를 예측하라.\n",
    "\n",
    "```python\n",
    "과일 = [\"사과\", \"귤\", \"수박\"]\n",
    "for 변수 in 과일:\n",
    "    print(변수)\n",
    "```"
   ]
  },
  {
   "cell_type": "markdown",
   "id": "a48eef21",
   "metadata": {},
   "source": [
    "정답: <br>\n",
    "사과, 귤, 수박"
   ]
  },
  {
   "cell_type": "code",
   "execution_count": null,
   "id": "542d8a72",
   "metadata": {},
   "outputs": [],
   "source": []
  },
  {
   "cell_type": "markdown",
   "id": "cc13ad54",
   "metadata": {},
   "source": [
    "### 132\n",
    "for문의 실행결과를 예측하라.\n",
    "\n",
    "```python\n",
    "과일 = [\"사과\", \"귤\", \"수박\"]\n",
    "for 변수 in 과일:\n",
    "  print(\"#####\")\n",
    "```\n",
    "\n",
    "\n",
    "(💡hint: for문의 핵심은 \"들여쓰기된 코드가 자료구조에 저장된 데이터 개수만큼 반복된다\"는 것입니다. <br>\n",
    "`과일 = [\"사과\", \"귤\", \"수박\"]` 에는 세 개의 데이터가 저장돼 있습니다. <br>\n",
    "들여쓰기된 `print(\"#####\")`코드가 몇 번 실행될까요?)"
   ]
  },
  {
   "cell_type": "markdown",
   "id": "52db66ca",
   "metadata": {},
   "source": [
    "정답: <br>\n",
    "세 번\n"
   ]
  },
  {
   "cell_type": "code",
   "execution_count": 2,
   "id": "524b4068",
   "metadata": {},
   "outputs": [
    {
     "name": "stdout",
     "output_type": "stream",
     "text": [
      "과일\n",
      "과일\n",
      "과일\n"
     ]
    }
   ],
   "source": [
    "과일 = [\"사과\", \"귤\", \"수박\"]\n",
    "for 변수 in 과일:\n",
    "  print(\"과일\")"
   ]
  },
  {
   "cell_type": "markdown",
   "id": "3a6a0d65",
   "metadata": {},
   "source": [
    "### 133\n",
    "다음 for문과 동일한 기능을 수행하는 코드를 작성하세요.\n",
    "```python\n",
    "for 변수 in [\"A\", \"B\", \"C\"]:\n",
    "  print(변수)\n",
    "```\n",
    "(💡 파이썬 인터프리터가 어떤 순서로 코드를 실행하는지 떠올려 보세요. <br>\n",
    " \"변수 바인딩(라인 1) -> 변수 출력 (라인 2)\" 과정을 자료구조 데이터 개수 만큼 반복합니다.)"
   ]
  },
  {
   "cell_type": "code",
   "execution_count": 5,
   "id": "692a63fa",
   "metadata": {},
   "outputs": [
    {
     "name": "stdout",
     "output_type": "stream",
     "text": [
      "A\n",
      "B\n",
      "C\n"
     ]
    }
   ],
   "source": [
    "변수 = 'A'\n",
    "print(변수)\n",
    "변수 = 'B'\n",
    "print(변수)\n",
    "변수 = 'C'\n",
    "print(변수)"
   ]
  },
  {
   "cell_type": "markdown",
   "id": "2003ad2a",
   "metadata": {},
   "source": [
    "### 134\n",
    "for문을 풀어서 동일한 동작을 하는 코드를 작성하라.\n",
    "```python\n",
    "for 변수 in [\"A\", \"B\", \"C\"]:\n",
    "  print(\"출력:\", 변수)\n",
    "```"
   ]
  },
  {
   "cell_type": "code",
   "execution_count": 7,
   "id": "ae0012ec",
   "metadata": {},
   "outputs": [
    {
     "name": "stdout",
     "output_type": "stream",
     "text": [
      "출력: A\n",
      "출력: B\n",
      "출력: C\n"
     ]
    }
   ],
   "source": [
    "변수 = ['A','B','C']\n",
    "print(\"출력:\", 변수[0])\n",
    "print(\"출력:\", 변수[1])\n",
    "print(\"출력:\", 변수[2])"
   ]
  },
  {
   "cell_type": "markdown",
   "id": "075eb992",
   "metadata": {},
   "source": [
    "### 135\n",
    "for문을 풀어서 동일한 동작을 하는 코드를 작성하라.\n",
    "```python\n",
    "for 변수 in [\"A\", \"B\", \"C\"]:\n",
    "  b = 변수.lower()\n",
    "  print(\"변환:\", b)\n",
    "```\n",
    "\n",
    "(💡 들여쓰기된 코드의 내용은 중요하지 않습니다. <br>\n",
    "파이썬 인터프리터가 코드를 해석하는 순서를 익히는 것이 중요합니다. <br>\n",
    "라인1의 for문이 실행되면 변수에 첫 번재 데이터를 바인딩합니다. <br>\n",
    "그리고 들여쓰기된 라인 2의 코드를 실행합니다. <br>\n",
    "들여쓰기된 코드의 실행이 끝나면 라인 1로 이동해서 변수에 두 번째 데이터를 바인딩합니다. <br>\n",
    "그리고 들여쓰기된 코드를 실행합니다. <br>\n",
    "다음으로 변수 \"C\"를 바인딩하고 출력하면 되겠죠?)"
   ]
  },
  {
   "cell_type": "code",
   "execution_count": 11,
   "id": "97b18d0e",
   "metadata": {},
   "outputs": [
    {
     "name": "stdout",
     "output_type": "stream",
     "text": [
      "변환: a\n",
      "변환: b\n",
      "변환: c\n"
     ]
    }
   ],
   "source": [
    "변수 = ['A','B','C']\n",
    "\n",
    "b = 변수[0].lower()\n",
    "print('변환:', b)\n",
    "b = 변수[1].lower()\n",
    "print('변환:', b)\n",
    "b = 변수[2].lower()\n",
    "print('변환:', b)"
   ]
  },
  {
   "cell_type": "markdown",
   "id": "a2f42a33",
   "metadata": {},
   "source": [
    "### 136\n",
    "다음 코드를 for문으로 작성하라.\n",
    "\n",
    "```python\n",
    "변수 = 10\n",
    "print(변수)\n",
    "변수 = 20\n",
    "print(변수)\n",
    "변수 = 30\n",
    "print(변수)\n",
    "```\n",
    "\n",
    "(💡 hint: for문은 동일한 루틴을 반복해서 실행하는 문법이었습니다. 우선 문제에서 변하지 않고 반복되는 코드를 찾아보세요. 반복되는 코드는 들여쓰기로 표현하고 for문에서 변하는 부분을 기술해 줍니다.)"
   ]
  },
  {
   "cell_type": "code",
   "execution_count": 14,
   "id": "0de6ec93",
   "metadata": {},
   "outputs": [
    {
     "name": "stdout",
     "output_type": "stream",
     "text": [
      "10\n",
      "20\n",
      "30\n"
     ]
    }
   ],
   "source": []
  },
  {
   "cell_type": "markdown",
   "id": "88cb869f",
   "metadata": {},
   "source": [
    "다음과 같이 리스트 변수에 데이터를 바인딩하고, 변수를 for문의 자료구조 자리에 넣어줘도 됩니다."
   ]
  },
  {
   "cell_type": "code",
   "execution_count": 6,
   "id": "729032e5",
   "metadata": {},
   "outputs": [
    {
     "name": "stdout",
     "output_type": "stream",
     "text": [
      "10\n",
      "20\n",
      "30\n"
     ]
    }
   ],
   "source": [
    "리스트 = [10, 20, 30]\n",
    "for 변수 in 리스트:\n",
    "    print(변수)"
   ]
  },
  {
   "cell_type": "markdown",
   "id": "3ed83ae1",
   "metadata": {},
   "source": [
    "### 137\n",
    "다음 코드를 for문으로 작성하라.\n",
    "```python\n",
    "print(10)\n",
    "print(20)\n",
    "print(30)\n",
    "```\n",
    "\n",
    "(💡 hint: 값을 바인딩하는 코드가 생략된 코드입니다. 그렇다해도 for문으로 변경할 수 있어야합니다. 변하는 부분은 값 10, 20, 30입니다. 변하지 않는 부분은 print() 코드입니다. 변하는 부분은 for문과 함께 리스트로 처리하고 변하지 않는 코드는 들여쓰기와 함께 적어줍니다.)"
   ]
  },
  {
   "cell_type": "code",
   "execution_count": 15,
   "id": "337e145d",
   "metadata": {},
   "outputs": [
    {
     "name": "stdout",
     "output_type": "stream",
     "text": [
      "10\n",
      "20\n",
      "30\n"
     ]
    }
   ],
   "source": [
    "for 변수 in ['10','20','30']:\n",
    "    print(변수)"
   ]
  },
  {
   "cell_type": "markdown",
   "id": "e14c1b1b",
   "metadata": {},
   "source": [
    "### 138\n",
    "다음 코드를 for문으로 작성하라.\n",
    "```python\n",
    "print(10)\n",
    "print(\"-------\")\n",
    "print(20)\n",
    "print(\"-------\")\n",
    "print(30)\n",
    "print(\"-------\")\n",
    "```\n",
    "(💡hint: 변하는 값을 변수에 바인딩하고, 변수를 사용해서 나머지 코드를 작성합니다. 변하는 부분은 for문과 함께 리스트로 처리하고 변하지 않는 코드는 들여쓰기와 함께 적어줍니다.)"
   ]
  },
  {
   "cell_type": "code",
   "execution_count": 16,
   "id": "76cecd20",
   "metadata": {},
   "outputs": [
    {
     "name": "stdout",
     "output_type": "stream",
     "text": [
      "10\n",
      "-------\n",
      "20\n",
      "-------\n",
      "30\n",
      "-------\n"
     ]
    }
   ],
   "source": [
    "for 변수 in ['10','20','30']:\n",
    "    print(변수)\n",
    "    print(\"-------\")"
   ]
  },
  {
   "cell_type": "markdown",
   "id": "5e9d3095",
   "metadata": {},
   "source": [
    "### 139\n",
    "다음 코드를 for문으로 작성하라.\n",
    "```python\n",
    "print(\"++++\")\n",
    "print(10)\n",
    "print(20)\n",
    "print(30)\n",
    "```"
   ]
  },
  {
   "cell_type": "code",
   "execution_count": 17,
   "id": "76ea8991",
   "metadata": {},
   "outputs": [
    {
     "name": "stdout",
     "output_type": "stream",
     "text": [
      "++++\n",
      "10\n",
      "20\n",
      "30\n"
     ]
    }
   ],
   "source": [
    "for 변수 in [\"++++\",'10','20','30']:\n",
    "    print(변수)"
   ]
  },
  {
   "cell_type": "markdown",
   "id": "645d88f5",
   "metadata": {},
   "source": [
    "### 140\n",
    "다음 코드를 for문으로 작성하라.\n",
    "```python\n",
    "print(\"-------\")\n",
    "print(\"-------\")\n",
    "print(\"-------\")\n",
    "print(\"-------\")\n",
    "```"
   ]
  },
  {
   "cell_type": "code",
   "execution_count": 18,
   "id": "584d0e99",
   "metadata": {},
   "outputs": [
    {
     "name": "stdout",
     "output_type": "stream",
     "text": [
      "-------\n",
      "-------\n",
      "-------\n",
      "-------\n"
     ]
    }
   ],
   "source": [
    "for 변수 in ['10','20','30','40']:\n",
    "    print('-------')"
   ]
  },
  {
   "cell_type": "markdown",
   "id": "8a9e2d71",
   "metadata": {},
   "source": [
    "### 141\n",
    "다음과 같이 판매가가 저장된 리스트가 있을 때 부가세가 포함된 가격을 for 문을 사용해서 화면에 출력하라. 단 부가세는 10원으로 가정한다.\n",
    "```python\n",
    "리스트 = [100, 200, 300]\n",
    "```\n",
    "```plain text\n",
    "110\n",
    "210\n",
    "310\n",
    "```\n"
   ]
  },
  {
   "cell_type": "code",
   "execution_count": 20,
   "id": "550119c7",
   "metadata": {},
   "outputs": [
    {
     "name": "stdout",
     "output_type": "stream",
     "text": [
      "110\n",
      "210\n",
      "310\n"
     ]
    }
   ],
   "source": [
    "리스트 = [100, 200, 300]\n",
    "for 가격 in 리스트:\n",
    "    종가 = 가격+10\n",
    "    print(종가)\n"
   ]
  },
  {
   "cell_type": "markdown",
   "id": "0d414c4d",
   "metadata": {},
   "source": [
    "### 142\n",
    "for 문을 사용해서 리스트에 저장된 값을 다음과 같이 출력하라.\n",
    "```python\n",
    "리스트 = [\"김밥\", \"라면\", \"튀김\"]\n",
    "```\n",
    "```plain text\n",
    "오늘의 메뉴: 김밥\n",
    "오늘의 메뉴: 라면\n",
    "오늘의 메뉴: 튀김\n",
    "```\n",
    "\n",
    "(💡 hint: for문을 사용하지 않고 문자열을 출력하는 코드를 작성해 봅시다. 011번 문제와는 리스트안의 데이터 타입이 문자열이라는 것이 차이점입니다. 문자열의 덧셈은 두 문자열을 이어붙입니다. 변하는 값은 for문의 자료구조 자리에, 변하지 않는 코드는 들여쓰기 후에 작성합니다.)"
   ]
  },
  {
   "cell_type": "code",
   "execution_count": 21,
   "id": "4171b19d",
   "metadata": {},
   "outputs": [
    {
     "name": "stdout",
     "output_type": "stream",
     "text": [
      "오늘의 메뉴 : 김밥\n",
      "오늘의 메뉴 : 라면\n",
      "오늘의 메뉴 : 튀김\n"
     ]
    }
   ],
   "source": [
    "리스트 = [\"김밥\", \"라면\", \"튀김\"]\n",
    "for menu in 리스트:\n",
    "    \n",
    "    print('오늘의 메뉴 :', menu)"
   ]
  },
  {
   "cell_type": "markdown",
   "id": "ea54e2a0",
   "metadata": {},
   "source": [
    "(💡hint: 문자열 덧셈 대신 print() 함수의 기능을 사용해서 다음과 같이 코드를 작성해도 좋습니다. print() 함수는 입력한 값을 한칸의 공백과 함께 이어붙여 출력합니다.)"
   ]
  },
  {
   "cell_type": "code",
   "execution_count": 11,
   "id": "dcae0929",
   "metadata": {},
   "outputs": [
    {
     "name": "stdout",
     "output_type": "stream",
     "text": [
      "오늘의 메뉴: 김밥\n",
      "오늘의 메뉴: 라면\n",
      "오늘의 메뉴: 튀김\n"
     ]
    }
   ],
   "source": [
    "리스트 = [\"김밥\", \"라면\", \"튀김\"]\n",
    "for 메뉴 in 리스트: \n",
    "    print(\"오늘의 메뉴:\", 메뉴)"
   ]
  },
  {
   "cell_type": "markdown",
   "id": "7d0de8aa",
   "metadata": {},
   "source": [
    "### 143\n",
    "리스트에 주식 종목이름이 저장돼 있다.\n",
    "```python\n",
    "리스트 = [\"SK하이닉스\", \"삼성전자\", \"LG전자\"]\n",
    "```\n",
    "저장된 문자열의 길이를 다음과 같이 출력하라.\n",
    "```plain text\n",
    "6\n",
    "4\n",
    "4\n",
    "```\n",
    "(💡hint: 문자열의 길이를 구하는 함수 len()을 사용합니다! 한 줄로 표현해도 좋고, 한 번에 코드를 작성하기 어렵다면 for문을 사용하지 않고 풀어서 코드를 작성해보세요.)"
   ]
  },
  {
   "cell_type": "code",
   "execution_count": 23,
   "id": "0d0171f0",
   "metadata": {},
   "outputs": [
    {
     "name": "stdout",
     "output_type": "stream",
     "text": [
      "6\n",
      "4\n",
      "4\n"
     ]
    }
   ],
   "source": [
    "리스트 = [\"SK하이닉스\", \"삼성전자\", \"LG전자\"]\n",
    "\n",
    "for i in 리스트:\n",
    "    a = len(i)\n",
    "    print(a)"
   ]
  },
  {
   "cell_type": "code",
   "execution_count": null,
   "id": "87d350a6",
   "metadata": {},
   "outputs": [
    {
     "name": "stdout",
     "output_type": "stream",
     "text": [
      "6\n",
      "4\n",
      "4\n"
     ]
    }
   ],
   "source": [
    "리스트 = [\"SK하이닉스\", \"삼성전자\", \"LG전자\"]\n",
    "\n",
    "**코드를 작성해주세요**"
   ]
  },
  {
   "cell_type": "markdown",
   "id": "d80bc8e2",
   "metadata": {},
   "source": [
    "### 144\n",
    "리스트에는 동물이름이 문자열로 저장돼 있다.\n",
    "```python\n",
    "리스트 = ['dog', 'cat', 'parrot']\n",
    "```\n",
    "동물 이름과 글자수를 다음과 같이 출력하라.\n",
    "```plain text\n",
    "dog 3\n",
    "cat 3\n",
    "parrot 6\n",
    "```"
   ]
  },
  {
   "cell_type": "code",
   "execution_count": 25,
   "id": "9e9bbc29",
   "metadata": {},
   "outputs": [
    {
     "name": "stdout",
     "output_type": "stream",
     "text": [
      "dog 3\n",
      "cat 3\n",
      "parrot 6\n"
     ]
    }
   ],
   "source": [
    "리스트 = ['dog', 'cat', 'parrot']\n",
    "\n",
    "for i in 리스트:\n",
    "    a = len(i)\n",
    "    print(i , a)"
   ]
  },
  {
   "cell_type": "markdown",
   "id": "e6564292",
   "metadata": {},
   "source": [
    "### 145\n",
    "리스트에는 동물이름이 문자열로 저장돼 있다.\n",
    "```python\n",
    "리스트 = ['dog', 'cat', 'parrot']\n",
    "```\n",
    "for문을 사용해서 동물 이름의 첫 글자만 출력하라.\n",
    "```plain text\n",
    "d\n",
    "c\n",
    "p\n",
    "```\n",
    "\n",
    "(💡hint: 어렵게 느껴진다면 for문을 사용하지 않고 코드를 작성해봅시다. 바인딩된 문자열의 인덱싱을 사용해서 첫 글자를 화면에 출력합니다. 이후에 for문을 사용하는 코드를 작성해봅시다. 변하는 값은 for문의 자료구조 자리에, 변하지 않는 코드는 들여쓰기 후에 작성합니다. 쉽죠?)"
   ]
  },
  {
   "cell_type": "code",
   "execution_count": 26,
   "id": "4df0b5a9",
   "metadata": {},
   "outputs": [
    {
     "name": "stdout",
     "output_type": "stream",
     "text": [
      "d\n",
      "c\n",
      "p\n"
     ]
    }
   ],
   "source": [
    "리스트 = ['dog', 'cat', 'parrot']\n",
    "\n",
    "for i in 리스트:\n",
    "    a = i[0]\n",
    "    print(a)"
   ]
  },
  {
   "cell_type": "markdown",
   "id": "93f20182",
   "metadata": {},
   "source": [
    "### 146\n",
    "리스트에는 세 개의 숫자가 바인딩돼 있다.\n",
    "```python\n",
    "리스트 = [1, 2, 3]\n",
    "```\n",
    "for문을 사용해서 다음과 같이 출력하라.\n",
    "```plain text\n",
    "3 x 1\n",
    "3 x 2\n",
    "3 x 3\n",
    "```\n",
    "\n",
    "(💡hint:  \"3 x \" 문자열과 숫자를 이어붙여 출력하면됩니다. 다만 변수에 바인딩된 값이 숫자이기 때문에 문자로 변환 후에 문자열 연산을 사용할 수 있습니다. 혹은 print() 함수가 제공하는 기능을 사용할 수 있습니다.)"
   ]
  },
  {
   "cell_type": "code",
   "execution_count": 30,
   "id": "39359f00",
   "metadata": {},
   "outputs": [
    {
     "name": "stdout",
     "output_type": "stream",
     "text": [
      "3 x 1\n",
      "3 x 2\n",
      "3 x 3\n"
     ]
    }
   ],
   "source": [
    "리스트 = [1, 2, 3]\n",
    "\n",
    "for i in 리스트:\n",
    "    a = '3 '+ 'x ' + str(i)\n",
    "    print( a)"
   ]
  },
  {
   "cell_type": "code",
   "execution_count": null,
   "id": "3bb0423b",
   "metadata": {},
   "outputs": [
    {
     "name": "stdout",
     "output_type": "stream",
     "text": [
      "3 x 1\n",
      "3 x 2\n",
      "3 x 3\n"
     ]
    }
   ],
   "source": [
    "리스트 = [1, 2, 3]\n",
    "\n",
    "**코드를 작성해주세요**"
   ]
  },
  {
   "cell_type": "markdown",
   "id": "9af1caf4",
   "metadata": {},
   "source": [
    "### 147\n",
    "리스트에는 세 개의 숫자가 바인딩돼 있다.\n",
    "```python\n",
    "리스트 = [1, 2, 3]\n",
    "```\n",
    "for문을 사용해서 다음과 같이 출력하라.\n",
    "```plain text\n",
    "3 x 1 = 3\n",
    "3 x 2 = 6\n",
    "3 x 3 = 9\n",
    "```\n",
    "\n",
    "(💡hint:  어려워 보인다면, for문을 사용하지 않고 풀어서 코드를 작성해야 합니다. 핵심은 print() 함수에서 `3 * 변수` 부분입니다. 변수를 활용해서 원하는 값을 만들어 냈습니다. 값만 변하고 있기 때문에 쉽게 for문으로 작성할 수 있습니다. 1장에서 배운 문자열 함수(문자열 포맷팅)를 활용하면 코드가 더욱 읽기 쉬워집니다.)"
   ]
  },
  {
   "cell_type": "code",
   "execution_count": 38,
   "id": "a4add0d4",
   "metadata": {},
   "outputs": [
    {
     "name": "stdout",
     "output_type": "stream",
     "text": [
      "3 x 1 = 3\n",
      "3 x 2 = 6\n",
      "3 x 3 = 9\n"
     ]
    }
   ],
   "source": [
    "리스트 = [1, 2, 3]\n",
    "\n",
    "for i in 리스트:\n",
    "    a = '3 '+'x '+ str(i)+' = ' + str(3*i)\n",
    "    print(a)"
   ]
  },
  {
   "cell_type": "markdown",
   "id": "cb2220f1",
   "metadata": {},
   "source": [
    "### 148\n",
    "리스트에는 네 개의 문자열이 바인딩돼 있다.\n",
    "```python\n",
    "리스트 = [\"가\", \"나\", \"다\", \"라\"]\n",
    "```\n",
    "for문을 사용해서 다음과 같이 출력하라.\n",
    "```plain text\n",
    "나\n",
    "다\n",
    "라\n",
    "```\n",
    "\n",
    "(💡hint: 리스트의 슬라이싱을 사용해서 일부 데이터를 \"나다라\" 변수에 바인딩합니다. \"나다라\"에 바인딩 된 리스트로 for문을 사용하면 원하는 결과를 얻을 수 있습니다. `[1:]` 코드가 어색하다면 슬라이싱을 복습합시다.\n",
    "\n",
    "리스트를 슬라이싱한 결과를 \"리스트\" 변수에 업데이트 할 수도 있습니다. 전체 값을 출력하는 코드에서 for문의 코드 변경없이 추가 코드만 한줄 작성합니다.\n",
    "\n",
    "간단하니 for문 자료구조 자리에 슬라이싱 코드를 한번에 작성할 수도 있습니다.)"
   ]
  },
  {
   "cell_type": "code",
   "execution_count": 39,
   "id": "7cae888a",
   "metadata": {},
   "outputs": [
    {
     "name": "stdout",
     "output_type": "stream",
     "text": [
      "나\n",
      "다\n",
      "라\n"
     ]
    }
   ],
   "source": [
    "리스트 = [\"가\", \"나\", \"다\", \"라\"]\n",
    "new_list = [ \"나\", \"다\", \"라\"]\n",
    "for i in new_list:\n",
    "    print(i)\n"
   ]
  },
  {
   "cell_type": "markdown",
   "id": "a70d4017",
   "metadata": {},
   "source": [
    "### 149\n",
    "리스트에는 네 개의 문자열이 바인딩돼 있다.\n",
    "```python\n",
    "리스트 = [\"가\", \"나\", \"다\", \"라\"]\n",
    "```\n",
    "for문을 사용해서 다음과 같이 출력하라.\n",
    "```plain text\n",
    "가\n",
    "다\n",
    "```\n",
    "\n",
    "(💡hint: 리스트 슬라이싱에서 `[시작:끝:증감폭] ` 세번째 값은 값을 가져오는 단위를 의미했습니다. 증감폭을 2로 설정해서 \"가\"와 \"다\" 값만 슬라이싱합니다.)"
   ]
  },
  {
   "cell_type": "code",
   "execution_count": 41,
   "id": "90d1f1bc",
   "metadata": {},
   "outputs": [
    {
     "name": "stdout",
     "output_type": "stream",
     "text": [
      "가\n",
      "다\n"
     ]
    }
   ],
   "source": [
    "리스트 = [\"가\", \"나\", \"다\", \"라\"]\n",
    "new_list = 리스트[0::2]\n",
    "for i in new_list:\n",
    "    print(i)"
   ]
  },
  {
   "cell_type": "markdown",
   "id": "c958c379",
   "metadata": {},
   "source": [
    "### 150\n",
    "리스트에는 네 개의 문자열이 바인딩돼 있다.\n",
    "```python\n",
    "리스트 = [\"가\", \"나\", \"다\", \"라\"]\n",
    "```\n",
    "for문을 사용해서 다음과 같이 출력하라.\n",
    "```plain text\n",
    "라\n",
    "다\n",
    "나\n",
    "가\n",
    "```\n",
    "\n",
    "(💡hint: 증감폭을 음수로 설정하면 끝에서 앞방향으로 값을 슬라이싱합니다.)"
   ]
  },
  {
   "cell_type": "code",
   "execution_count": 43,
   "id": "8d2fee1a",
   "metadata": {},
   "outputs": [
    {
     "name": "stdout",
     "output_type": "stream",
     "text": [
      "라\n",
      "다\n",
      "나\n",
      "가\n"
     ]
    }
   ],
   "source": [
    "리스트 = [\"가\", \"나\", \"다\", \"라\"]\n",
    "new_list = 리스트[::-1]\n",
    "for i in new_list:\n",
    "    print(i)"
   ]
  },
  {
   "cell_type": "markdown",
   "id": "301edc63",
   "metadata": {},
   "source": [
    "### 151\n",
    "리스트에는 네 개의 정수가 저장돼 있다.\n",
    "```python\n",
    "리스트 = [3, -20, -3, 44]\n",
    "```\n",
    "for문을 사용해서 리스트의 음수를 출력하라.\n",
    "```plain text\n",
    "-20\n",
    "-3\n",
    "```\n",
    "\n",
    "(💡hint: 리스트에 저장된 모든 값에 접근해서 음수 여부를 판단해야 합니다. 라인 3을 제외하면 리스트에 저장된 모든 값을 출력하는 코드입니다. 라인 3의 분기문의 사용으로 모든 값을 출력하는 것이 아니라 조건이 참인 경우에만 if문의 들여쓰기된 코드가 실행됩니다.\n",
    "\n",
    "인터프리터가 실행하는 순서를 정리해보면 다음과 같습니다. <br>\n",
    "(변수 3 바인딩 - 분기문 비교:거짓) <br>\n",
    "(변수 -20 바인딩 - 분기문 비교:참 - 코드 실행) <br>\n",
    "(변수 -3 바인딩 - 분기문 비교:참 - 코드 실행) <br>\n",
    "(변수 44 바인딩 - 분기문 비교:거짓))\n"
   ]
  },
  {
   "cell_type": "code",
   "execution_count": 45,
   "id": "15d0e2c1",
   "metadata": {},
   "outputs": [
    {
     "name": "stdout",
     "output_type": "stream",
     "text": [
      "-20\n",
      "-3\n"
     ]
    }
   ],
   "source": [
    "리스트 = [3, -20, -3, 44]\n",
    "for i in 리스트:\n",
    "    if i < 0:\n",
    "        print(i)\n",
    "    else:\n",
    "        pass"
   ]
  },
  {
   "cell_type": "markdown",
   "id": "9711f6e6",
   "metadata": {},
   "source": [
    "### 152\n",
    "for문을 사용해서 3의 배수만을 출력하라.\n",
    "```python\n",
    "리스트 = [3, 100, 23, 44]\n",
    "```\n",
    "```plain text\n",
    "3\n",
    "```\n",
    "(💡 hint: 3의 배수일 경우에만 값을 출력합니다. 3의 배수는 3으로 나눈 나머지가 0이면 3의 배수입니다. `변수 % 3`은 변수를 3으로 나눈 나머지를 의미합니다. 예를들어 `10 % 3`은 10을 3으로 나눈 나머지로 1을 반환합니다.)"
   ]
  },
  {
   "cell_type": "code",
   "execution_count": 47,
   "id": "e4abfdd0",
   "metadata": {},
   "outputs": [
    {
     "name": "stdout",
     "output_type": "stream",
     "text": [
      "3\n"
     ]
    }
   ],
   "source": [
    "리스트 = [3, 100, 23, 44]\n",
    "\n",
    "for i in 리스트:\n",
    "    if i % 3 == 0:\n",
    "        print(i)\n",
    "    else:\n",
    "        pass"
   ]
  },
  {
   "cell_type": "markdown",
   "id": "10c89e32",
   "metadata": {},
   "source": [
    "### 153\n",
    "리스트에서 20 보다 작은 3의 배수를 출력하라\n",
    "```python\n",
    "리스트 = [13, 21, 12, 14, 30, 18]\n",
    "```\n",
    "\n",
    "```plain text\n",
    "12\n",
    "18\n",
    "```\n",
    "\n",
    "(💡hint: 하나 이상의 조건을 비교할 때는 논리 연산자를 사용해야겠죠? 두 조건이 모두 참일 때만 실행돼야 하므로 and 연산자를 사용합니다. 또한 코드의 가독성 향상을 위해 두 조건을 괄호로 구분할 수 있습니다. 괄호가 없어도 코드는 같은 동작을 합니다.)"
   ]
  },
  {
   "cell_type": "code",
   "execution_count": 48,
   "id": "ad262352",
   "metadata": {},
   "outputs": [
    {
     "name": "stdout",
     "output_type": "stream",
     "text": [
      "12\n",
      "18\n"
     ]
    }
   ],
   "source": [
    "리스트 = [13, 21, 12, 14, 30, 18]\n",
    "\n",
    "for i in 리스트:\n",
    "    if i < 20:\n",
    "        if i % 3 == 0:\n",
    "            print(i)\n",
    "        else:\n",
    "            pass\n",
    "    else:\n",
    "        pass"
   ]
  },
  {
   "cell_type": "markdown",
   "id": "c2410693",
   "metadata": {},
   "source": [
    "### 154\n",
    "리스트에서 세 글자 이상의 문자를 화면에 출력하라\n",
    "```python\n",
    "리스트 = [\"I\", \"study\", \"python\", \"language\", \"!\"]\n",
    "```\n",
    "```plain text\n",
    "study\n",
    "python\n",
    "language\n",
    "```\n",
    "(💡hint: 모든 문자열 중에서 문자열의 길이가 3이상인 문자열만 출력합니다. 문자열의 길이를 계산하는 len() 함수와 분기문을 사용합니다.)"
   ]
  },
  {
   "cell_type": "code",
   "execution_count": 49,
   "id": "6ea5ad04",
   "metadata": {},
   "outputs": [
    {
     "name": "stdout",
     "output_type": "stream",
     "text": [
      "study\n",
      "python\n",
      "language\n"
     ]
    }
   ],
   "source": [
    "리스트 = [\"I\", \"study\", \"python\", \"language\", \"!\"]\n",
    "\n",
    "for i in 리스트:\n",
    "    if len(i) >2 :\n",
    "        print(i)\n",
    "    else:\n",
    "        pass"
   ]
  },
  {
   "cell_type": "markdown",
   "id": "81079e9a",
   "metadata": {},
   "source": [
    "### 155\n",
    "리스트에서 대문자만 화면에 출력하라.\n",
    "```python\n",
    "리스트 = [\"A\", \"b\", \"c\", \"D\"]\n",
    "```\n",
    "\n",
    "```plain text\n",
    "A\n",
    "D\n",
    "```\n",
    "(💡hint: `isupper()` 메서드는 대문자 여부를 판별합니다.)"
   ]
  },
  {
   "cell_type": "code",
   "execution_count": 52,
   "id": "eb306514",
   "metadata": {},
   "outputs": [
    {
     "name": "stdout",
     "output_type": "stream",
     "text": [
      "A\n",
      "D\n"
     ]
    }
   ],
   "source": [
    "리스트 = [\"A\", \"b\", \"c\", \"D\"]\n",
    "\n",
    "for i in 리스트:\n",
    "    if i.isupper():\n",
    "        print(i)\n",
    "    else:\n",
    "        pass"
   ]
  },
  {
   "cell_type": "markdown",
   "id": "2506f07d",
   "metadata": {},
   "source": [
    "### 156\n",
    "리스트에서 소문자만 화면에 출력하라.\n",
    "```python\n",
    "리스트 = [\"A\", \"b\", \"c\", \"D\"]\n",
    "```\n",
    "```plain text\n",
    "b\n",
    "c\n",
    "```"
   ]
  },
  {
   "cell_type": "code",
   "execution_count": 54,
   "id": "2a5dbcb4",
   "metadata": {},
   "outputs": [
    {
     "name": "stdout",
     "output_type": "stream",
     "text": [
      "b\n",
      "c\n"
     ]
    }
   ],
   "source": [
    "# 비교 연산자를 사용해서 표현할 수 있습니다.\n",
    "리스트 = [\"A\", \"b\", \"c\", \"D\"]\n",
    "\n",
    "\n",
    "for i in 리스트:\n",
    "    if i.isupper():\n",
    "        pass\n",
    "    else:\n",
    "        print(i)"
   ]
  },
  {
   "cell_type": "code",
   "execution_count": 55,
   "id": "c76dc4da",
   "metadata": {},
   "outputs": [
    {
     "name": "stdout",
     "output_type": "stream",
     "text": [
      "b\n",
      "c\n"
     ]
    }
   ],
   "source": [
    "# 논리 연산자 not을 사용할 수도 있습니다.\n",
    "리스트 = [\"A\", \"b\", \"c\", \"D\"]\n",
    "for i in 리스트:\n",
    "    if not i.isupper():\n",
    "        print(i)\n",
    "    else:\n",
    "        pass\n"
   ]
  },
  {
   "cell_type": "markdown",
   "id": "a8582b5a",
   "metadata": {},
   "source": [
    "### 157\n",
    "이름의 첫 글자를 대문자로 변경해서 출력하라.\n",
    "\n",
    "```python\n",
    "리스트 = ['dog', 'cat', 'parrot']\n",
    "```\n",
    "\n",
    "```plain text\n",
    "Dog\n",
    "Cat\n",
    "Parrot\n",
    "```\n",
    "\n",
    "(💡hint: `.upper()` 메서드는 문자열을 대문자로 변경합니다.)"
   ]
  },
  {
   "cell_type": "code",
   "execution_count": 58,
   "id": "068658d9",
   "metadata": {},
   "outputs": [
    {
     "name": "stdout",
     "output_type": "stream",
     "text": [
      "Dog\n",
      "Cat\n",
      "Parrot\n"
     ]
    }
   ],
   "source": [
    "리스트 = ['dog', 'cat', 'parrot']\n",
    "for 변수 in 리스트:\n",
    "    첫글자 = 변수[0]                # 1) 인덱싱으로 첫번째 문자를 가져온다.\n",
    "    대문자 = 첫글자.upper()          # 2) upper() 함수로 대문자로 변경한다.\n",
    "    print(대문자 + 변수[1:])        # 3) 변경한 대문자와 나머지 문자를 이어붙인다."
   ]
  },
  {
   "cell_type": "code",
   "execution_count": 60,
   "id": "b70ef99c",
   "metadata": {},
   "outputs": [
    {
     "name": "stdout",
     "output_type": "stream",
     "text": [
      "Dog\n",
      "Cat\n",
      "Parrot\n"
     ]
    }
   ],
   "source": [
    "# 한 줄로 작성 가능\n",
    "for 변수 in 리스트:\n",
    "    print(변수[0].upper() + 변수[1:])\n"
   ]
  },
  {
   "cell_type": "markdown",
   "id": "21b501a5",
   "metadata": {},
   "source": [
    "### 158\n",
    "파일 이름이 저장된 리스트에서 확장자를 제거하고 파일 이름만 화면에 출력하라. (💡 hint: `.split()` 메서드)\n",
    "\n",
    "```python\n",
    "리스트 = ['hello.py', 'ex01.py', 'intro.hwp']\n",
    "```\n",
    "```plain text\n",
    "hello\n",
    "ex01\n",
    "intro\n",
    "```"
   ]
  },
  {
   "cell_type": "code",
   "execution_count": 65,
   "id": "913e0047",
   "metadata": {},
   "outputs": [
    {
     "name": "stdout",
     "output_type": "stream",
     "text": [
      "hello\n",
      "ex01\n",
      "intro\n"
     ]
    }
   ],
   "source": [
    "리스트 = ['hello.py', 'ex01.py', 'intro.hwp']\n",
    "for 변수 in 리스트:\n",
    "    a = 변수.split('.')[0]\n",
    "    print(a)\n"
   ]
  },
  {
   "cell_type": "markdown",
   "id": "148aefd5",
   "metadata": {},
   "source": [
    "### 159\n",
    "파일 이름이 저장된 리스트에서 확장자가 .h인 파일 이름을 출력하라.\n",
    "```python\n",
    "리스트 = ['intra.h', 'intra.c', 'define.h', 'run.py']\n",
    "```\n",
    "```plain text\n",
    "intra.h\n",
    "define.h\n",
    "```\n",
    "\n",
    "(💡hint: split() 메서드로 문자열을 분할하고 확장자가 \"h\"인지 분기문으로 비교합니다. 확장자가 \"h\"라면 파일 이름을 출력합니다.)"
   ]
  },
  {
   "cell_type": "code",
   "execution_count": 68,
   "id": "8dcb669c",
   "metadata": {},
   "outputs": [
    {
     "name": "stdout",
     "output_type": "stream",
     "text": [
      "intra.h\n",
      "define.h\n"
     ]
    }
   ],
   "source": [
    "리스트 = ['intra.h', 'intra.c', 'define.h', 'run.py']\n",
    "\n",
    "for i in 리스트:\n",
    "    a = i.split('.')\n",
    "    if a[1] == 'h':\n",
    "        print(i)\n",
    "    else:\n",
    "        pass"
   ]
  },
  {
   "cell_type": "markdown",
   "id": "4b2ed734",
   "metadata": {},
   "source": [
    "### 160\n",
    "파일 이름이 저장된 리스트에서 확장자가 .h나 .c인 파일을 화면에 출력하라.\n",
    "```python\n",
    "리스트 = ['intra.h', 'intra.c', 'define.h', 'run.py']\n",
    "```\n",
    "```plain text\n",
    "intra.h\n",
    "intra.c\n",
    "define.h\n",
    "```\n",
    "(💡hint: 논리 연산자 or을 사용해서 두 개의 확장자를 비교합니다.)"
   ]
  },
  {
   "cell_type": "code",
   "execution_count": 69,
   "id": "62aa7b13",
   "metadata": {},
   "outputs": [
    {
     "name": "stdout",
     "output_type": "stream",
     "text": [
      "intra.h\n",
      "intra.c\n",
      "define.h\n"
     ]
    }
   ],
   "source": [
    "리스트 = ['intra.h', 'intra.c', 'define.h', 'run.py']\n",
    "for i in 리스트:\n",
    "    a = i.split('.')\n",
    "    if a[1] == 'h':\n",
    "        print(i)\n",
    "    elif a[1] =='c':\n",
    "        print(i)\n",
    "    else:\n",
    "        pass\n",
    "\n",
    "        "
   ]
  },
  {
   "cell_type": "markdown",
   "id": "9f2961a4",
   "metadata": {},
   "source": [
    "### 161\n",
    "for문과 range 구문을 사용해서 0~99까지 한 라인에 하나씩 순차적으로 출력하는 프로그램을 작성하라.\n",
    "\n",
    "(💡 hint: range(3)은 0부터 2까지 세 개의 데이터를 만들어 줍니다.)"
   ]
  },
  {
   "cell_type": "code",
   "execution_count": 71,
   "id": "f5450c6b",
   "metadata": {},
   "outputs": [
    {
     "name": "stdout",
     "output_type": "stream",
     "text": [
      "0\n",
      "1\n",
      "2\n",
      "3\n",
      "4\n",
      "5\n",
      "6\n",
      "7\n",
      "8\n",
      "9\n",
      "10\n",
      "11\n",
      "12\n",
      "13\n",
      "14\n",
      "15\n",
      "16\n",
      "17\n",
      "18\n",
      "19\n",
      "20\n",
      "21\n",
      "22\n",
      "23\n",
      "24\n",
      "25\n",
      "26\n",
      "27\n",
      "28\n",
      "29\n",
      "30\n",
      "31\n",
      "32\n",
      "33\n",
      "34\n",
      "35\n",
      "36\n",
      "37\n",
      "38\n",
      "39\n",
      "40\n",
      "41\n",
      "42\n",
      "43\n",
      "44\n",
      "45\n",
      "46\n",
      "47\n",
      "48\n",
      "49\n",
      "50\n",
      "51\n",
      "52\n",
      "53\n",
      "54\n",
      "55\n",
      "56\n",
      "57\n",
      "58\n",
      "59\n",
      "60\n",
      "61\n",
      "62\n",
      "63\n",
      "64\n",
      "65\n",
      "66\n",
      "67\n",
      "68\n",
      "69\n",
      "70\n",
      "71\n",
      "72\n",
      "73\n",
      "74\n",
      "75\n",
      "76\n",
      "77\n",
      "78\n",
      "79\n",
      "80\n",
      "81\n",
      "82\n",
      "83\n",
      "84\n",
      "85\n",
      "86\n",
      "87\n",
      "88\n",
      "89\n",
      "90\n",
      "91\n",
      "92\n",
      "93\n",
      "94\n",
      "95\n",
      "96\n",
      "97\n",
      "98\n"
     ]
    }
   ],
   "source": [
    "for i in range(99):\n",
    "    print(i)"
   ]
  },
  {
   "cell_type": "markdown",
   "id": "70cae087",
   "metadata": {},
   "source": [
    "### 162\n",
    "월드컵은 4년에 한 번 개최된다. range()를 사용하여 2002~2050년까지 중 월드컵이 개최되는 연도를 출력하라.\n",
    "```plain text\n",
    "2002\n",
    "2006\n",
    "2010\n",
    "...\n",
    "2042\n",
    "2046\n",
    "2050\n",
    "```\n",
    "(💡 hint: range의 세번째 파라미터는 증감폭을 결정합니다.)"
   ]
  },
  {
   "cell_type": "code",
   "execution_count": 73,
   "id": "e67f4a8f",
   "metadata": {},
   "outputs": [
    {
     "name": "stdout",
     "output_type": "stream",
     "text": [
      "2002\n",
      "2006\n",
      "2010\n",
      "2014\n",
      "2018\n",
      "2022\n",
      "2026\n",
      "2030\n",
      "2034\n",
      "2038\n",
      "2042\n",
      "2046\n"
     ]
    }
   ],
   "source": [
    "for i in range(2002,2050,4):\n",
    "    print(i)"
   ]
  },
  {
   "cell_type": "markdown",
   "id": "bd0083d4",
   "metadata": {},
   "source": [
    "### 163\n",
    "1부터 30까지의 숫자 중 3의 배수를 출력하라."
   ]
  },
  {
   "cell_type": "code",
   "execution_count": 74,
   "id": "b27e314a",
   "metadata": {},
   "outputs": [
    {
     "name": "stdout",
     "output_type": "stream",
     "text": [
      "3\n",
      "6\n",
      "9\n",
      "12\n",
      "15\n",
      "18\n",
      "21\n",
      "24\n",
      "27\n"
     ]
    }
   ],
   "source": [
    "for i in range(1,30):\n",
    "    if i % 3 == 0:\n",
    "        print(i)\n",
    "    else:\n",
    "        pass"
   ]
  },
  {
   "cell_type": "markdown",
   "id": "bbce4472",
   "metadata": {},
   "source": [
    "### 164\n",
    "99부터 0까지 1씩 감소하는 숫자들을, 한 라인에 하나씩 출력하라.\n",
    "\n",
    "(💡 hint: 뺄셈을 사용해서 원하는 결괏값을 얻어낼 수 있습니다.)"
   ]
  },
  {
   "cell_type": "code",
   "execution_count": 75,
   "id": "1e40b77c",
   "metadata": {},
   "outputs": [
    {
     "name": "stdout",
     "output_type": "stream",
     "text": [
      "99\n",
      "98\n",
      "97\n",
      "96\n",
      "95\n",
      "94\n",
      "93\n",
      "92\n",
      "91\n",
      "90\n",
      "89\n",
      "88\n",
      "87\n",
      "86\n",
      "85\n",
      "84\n",
      "83\n",
      "82\n",
      "81\n",
      "80\n",
      "79\n",
      "78\n",
      "77\n",
      "76\n",
      "75\n",
      "74\n",
      "73\n",
      "72\n",
      "71\n",
      "70\n",
      "69\n",
      "68\n",
      "67\n",
      "66\n",
      "65\n",
      "64\n",
      "63\n",
      "62\n",
      "61\n",
      "60\n",
      "59\n",
      "58\n",
      "57\n",
      "56\n",
      "55\n",
      "54\n",
      "53\n",
      "52\n",
      "51\n",
      "50\n",
      "49\n",
      "48\n",
      "47\n",
      "46\n",
      "45\n",
      "44\n",
      "43\n",
      "42\n",
      "41\n",
      "40\n",
      "39\n",
      "38\n",
      "37\n",
      "36\n",
      "35\n",
      "34\n",
      "33\n",
      "32\n",
      "31\n",
      "30\n",
      "29\n",
      "28\n",
      "27\n",
      "26\n",
      "25\n",
      "24\n",
      "23\n",
      "22\n",
      "21\n",
      "20\n",
      "19\n",
      "18\n",
      "17\n",
      "16\n",
      "15\n",
      "14\n",
      "13\n",
      "12\n",
      "11\n",
      "10\n",
      "9\n",
      "8\n",
      "7\n",
      "6\n",
      "5\n",
      "4\n",
      "3\n",
      "2\n"
     ]
    }
   ],
   "source": [
    "for i in range(99,1,-1):\n",
    "    print(i)"
   ]
  },
  {
   "cell_type": "markdown",
   "id": "6b935d17",
   "metadata": {},
   "source": [
    "### 165\n",
    "for문을 사용해서 아래와 같이 출력하라.\n",
    "```plain text\n",
    "0.0\n",
    "0.1\n",
    "0.2\n",
    "0.3\n",
    "0.4\n",
    "0.5\n",
    "...\n",
    "0.9\n",
    "```"
   ]
  },
  {
   "cell_type": "code",
   "execution_count": 78,
   "id": "0d053b19",
   "metadata": {},
   "outputs": [
    {
     "name": "stdout",
     "output_type": "stream",
     "text": [
      "0.0\n",
      "0.1\n",
      "0.2\n",
      "0.3\n",
      "0.4\n",
      "0.5\n",
      "0.6\n",
      "0.7\n",
      "0.8\n",
      "0.9\n"
     ]
    }
   ],
   "source": [
    "for i in range(0,10):\n",
    "    a = '0.'+str(i)\n",
    "    print(a)"
   ]
  },
  {
   "cell_type": "markdown",
   "id": "62e290f1",
   "metadata": {},
   "source": [
    "### 166\n",
    "구구단 3단을 출력하라.\n",
    "```plain text\n",
    "3x1 = 3\n",
    "3x2 = 6\n",
    "3x3 = 9\n",
    "3x4 = 12\n",
    "3x5 = 15\n",
    "3x6 = 18\n",
    "3x7 = 21\n",
    "3x8 = 24\n",
    "3x9 = 27\n",
    "```"
   ]
  },
  {
   "cell_type": "code",
   "execution_count": 81,
   "id": "9067d4b1",
   "metadata": {},
   "outputs": [
    {
     "name": "stdout",
     "output_type": "stream",
     "text": [
      "3 x 1 = 3\n",
      "3 x 2 = 6\n",
      "3 x 3 = 9\n",
      "3 x 4 = 12\n",
      "3 x 5 = 15\n",
      "3 x 6 = 18\n",
      "3 x 7 = 21\n",
      "3 x 8 = 24\n",
      "3 x 9 = 27\n"
     ]
    }
   ],
   "source": [
    "for i in range(1,10):\n",
    "    a = '3 '+'x '+str(i)+ ' = ' + str(3*i)\n",
    "    print(a)"
   ]
  },
  {
   "cell_type": "markdown",
   "id": "22f2b1b1",
   "metadata": {},
   "source": [
    "### 167\n",
    "구구단 3단을 출력하라. 단 홀수 번째만 출력한다.\n",
    "```plain text\n",
    "3x1 = 3\n",
    "3x3 = 9\n",
    "3x5 = 15\n",
    "3x7 = 21\n",
    "3x9 = 27\n",
    "```\n",
    "(💡hint: range(1, 10, 2)를 사용해서 홀수를 만들 수 있습니다. 혹은 조건문을 사용해서 해결할 수도 있습니다.)"
   ]
  },
  {
   "cell_type": "code",
   "execution_count": 82,
   "id": "58b8903c",
   "metadata": {},
   "outputs": [
    {
     "name": "stdout",
     "output_type": "stream",
     "text": [
      "3 x 1 = 3\n",
      "3 x 3 = 9\n",
      "3 x 5 = 15\n",
      "3 x 7 = 21\n",
      "3 x 9 = 27\n"
     ]
    }
   ],
   "source": [
    "num = 3\n",
    "for i in range(1,10,2):\n",
    "    a = '3 '+'x '+str(i)+ ' = ' + str(3*i)\n",
    "    print(a)"
   ]
  },
  {
   "cell_type": "code",
   "execution_count": 83,
   "id": "8936d058",
   "metadata": {},
   "outputs": [
    {
     "name": "stdout",
     "output_type": "stream",
     "text": [
      "3 x 1 = 3\n",
      "3 x 3 = 9\n",
      "3 x 5 = 15\n",
      "3 x 7 = 21\n",
      "3 x 9 = 27\n"
     ]
    }
   ],
   "source": [
    "num = 3\n",
    "for i in range(1,10):\n",
    "    a = '3 '+'x '+str(i)+ ' = ' + str(3*i)\n",
    "    if (3*i) % 2 !=0:\n",
    "        print(a)\n",
    "    else:\n",
    "        pass"
   ]
  },
  {
   "cell_type": "markdown",
   "id": "31ca6f57",
   "metadata": {},
   "source": [
    "### 168\n",
    "1~10까지의 숫자에 대해 모두 더한 값을 출력하는 프로그램을 for 문을 사용하여 작성하라.\n",
    "```plain text\n",
    "합 : 55\n",
    "```\n",
    "(💡hint: hab 이라는 변수에 0을 저장하고, for 문을 통해 모든 값에 대해 누적합니다.) <br>\n",
    "(💡hint: hab += i 는 hab = hab + i를 축약해서 작성한 것입니다.)"
   ]
  },
  {
   "cell_type": "code",
   "execution_count": 85,
   "id": "beeb6dd3",
   "metadata": {},
   "outputs": [
    {
     "name": "stdout",
     "output_type": "stream",
     "text": [
      "55\n"
     ]
    }
   ],
   "source": [
    "hab = 0\n",
    "for i in range(1,11):\n",
    "    hab += i\n",
    "print(hab)"
   ]
  },
  {
   "cell_type": "markdown",
   "id": "d4494fe8",
   "metadata": {},
   "source": [
    "### 169\n",
    "1~10까지의 숫자 중 모든 홀수의 합을 출력하는 프로그램을 for 문을 사용하여 작성하라.\n",
    "```plain text\n",
    "합: 25\n",
    "```\n",
    "\n",
    "(💡hint: hab 이라는 변수에 0을 저장하고, for 문을 통해 모든 값에 대해 누적합니다. 이때 range의 세 번째 파라미터를 사용해서 range가 생성하는 수를 2씩 증가시킵니다.)"
   ]
  },
  {
   "cell_type": "code",
   "execution_count": 86,
   "id": "d85ba914",
   "metadata": {},
   "outputs": [
    {
     "name": "stdout",
     "output_type": "stream",
     "text": [
      "25\n"
     ]
    }
   ],
   "source": [
    "hab = 0\n",
    "for i in range(1,11,2):\n",
    "    hab += i\n",
    "print(hab)"
   ]
  },
  {
   "cell_type": "markdown",
   "id": "a2ede62f",
   "metadata": {},
   "source": [
    "### 170\n",
    "1~10까지의 숫자를 모두 곱한 값을 출력하는 프로그램을 for 문을 사용하여 작성하라.\n",
    "\n",
    "(💡hint: result *= i 는 result = result * i를 축약해서 작성한 것입니다.)"
   ]
  },
  {
   "cell_type": "code",
   "execution_count": 87,
   "id": "5339266c",
   "metadata": {},
   "outputs": [
    {
     "name": "stdout",
     "output_type": "stream",
     "text": [
      "3628800\n"
     ]
    }
   ],
   "source": [
    "result = 1\n",
    "for i in range(1,11):\n",
    "    result *= i\n",
    "print(result)"
   ]
  },
  {
   "cell_type": "markdown",
   "id": "0d266639",
   "metadata": {},
   "source": [
    "### 171\n",
    "아래와 같이 리스트의 데이터를 출력하라. 단, for문과 range문을 사용하라.\n",
    "```python\n",
    "price_list = [32100, 32150, 32000, 32500]\n",
    "```\n",
    "```plain text\n",
    "32100\n",
    "32150\n",
    "32000\n",
    "32500\n",
    "```"
   ]
  },
  {
   "cell_type": "code",
   "execution_count": 88,
   "id": "859c1db5",
   "metadata": {},
   "outputs": [
    {
     "name": "stdout",
     "output_type": "stream",
     "text": [
      "32100\n",
      "32150\n",
      "32000\n",
      "32500\n"
     ]
    }
   ],
   "source": [
    "price_list = [32100, 32150, 32000, 32500]\n",
    "for i in price_list:\n",
    "    print(i)"
   ]
  },
  {
   "cell_type": "code",
   "execution_count": 27,
   "id": "c7f817fa",
   "metadata": {},
   "outputs": [
    {
     "name": "stdout",
     "output_type": "stream",
     "text": [
      "32100\n",
      "32150\n",
      "32000\n",
      "32500\n"
     ]
    }
   ],
   "source": [
    "# len() 함수를 사용하면 price_list 가 변해도 코드의 수정이 필요없습니다. 아래가 더 좋은 코드입니다.\n",
    "for i in range(len(price_list)):\n",
    "    print(price_list[i])\n"
   ]
  },
  {
   "cell_type": "markdown",
   "id": "359c303a",
   "metadata": {},
   "source": [
    "### 172\n",
    "아래와 같이 리스트의 데이터를 출력하라. 단, for문과 range문을 사용하라.\n",
    "```python\n",
    "price_list = [32100, 32150, 32000, 32500]\n",
    "```\n",
    "\n",
    "```plain text\n",
    "0 32100\n",
    "1 32150\n",
    "2 32000\n",
    "3 32500\n",
    "```\n",
    "\n",
    "(💡hint: enumerate(리스트)는 리스트의 원소를 (인덱스, 값)의 형태로 반환하는 iterator입니다.)"
   ]
  },
  {
   "cell_type": "code",
   "execution_count": 89,
   "id": "026b73fa",
   "metadata": {},
   "outputs": [
    {
     "name": "stdout",
     "output_type": "stream",
     "text": [
      "0 32100\n",
      "1 32150\n",
      "2 32000\n",
      "3 32500\n"
     ]
    }
   ],
   "source": [
    "price_list = [32100, 32150, 32000, 32500]\n",
    "for i, data in enumerate(price_list):\n",
    "    print(i, data)"
   ]
  },
  {
   "cell_type": "code",
   "execution_count": 90,
   "id": "a6dcd171",
   "metadata": {},
   "outputs": [
    {
     "name": "stdout",
     "output_type": "stream",
     "text": [
      "0 32100\n",
      "1 32150\n",
      "2 32000\n",
      "3 32500\n"
     ]
    }
   ],
   "source": [
    "price_list = [32100, 32150, 32000, 32500]\n",
    "\n",
    "for i in range(len(price_list)):\n",
    "    print(i, price_list[i])\n"
   ]
  },
  {
   "cell_type": "markdown",
   "id": "b4e5bf5f",
   "metadata": {},
   "source": [
    "### 173\n",
    "아래와 같이 리스트의 데이터를 출력하라. 단, for문과 range문을 사용하라.\n",
    "\n",
    "```python\n",
    "price_list = [32100, 32150, 32000, 32500]\n",
    "```\n",
    "\n",
    "```plain text\n",
    "3 32100\n",
    "2 32150\n",
    "1 32000\n",
    "0 32500\n",
    "```"
   ]
  },
  {
   "cell_type": "code",
   "execution_count": 91,
   "id": "48036c3b",
   "metadata": {},
   "outputs": [
    {
     "name": "stdout",
     "output_type": "stream",
     "text": [
      "3 32100\n",
      "2 32150\n",
      "1 32000\n",
      "0 32500\n"
     ]
    }
   ],
   "source": [
    "for i in range(len(price_list)):\n",
    "    print(3 - i, price_list[i])"
   ]
  },
  {
   "cell_type": "code",
   "execution_count": 30,
   "id": "5654726f",
   "metadata": {},
   "outputs": [
    {
     "name": "stdout",
     "output_type": "stream",
     "text": [
      "3 32100\n",
      "2 32150\n",
      "1 32000\n",
      "0 32500\n"
     ]
    }
   ],
   "source": [
    "# 3이라는 숫자보다는 일반적인 형태로 아래와 같이 코딩하는게 좋습니다.\n",
    "for i in range(len(price_list)):\n",
    "    print((len(price_list) - 1) - i, price_list[i])\n"
   ]
  },
  {
   "cell_type": "markdown",
   "id": "b6ff7eb2",
   "metadata": {},
   "source": [
    "### 174\n",
    "아래와 같이 리스트의 데이터를 출력하라. 단, for문과 range문을 사용하라.\n",
    "\n",
    "```python\n",
    "price_list = [32100, 32150, 32000, 32500]\n",
    "```\n",
    "\n",
    "```plain text\n",
    "100 32150\n",
    "110 32000\n",
    "120 32500\n",
    "```"
   ]
  },
  {
   "cell_type": "code",
   "execution_count": 125,
   "id": "656f8069",
   "metadata": {},
   "outputs": [
    {
     "name": "stdout",
     "output_type": "stream",
     "text": [
      "100 32150\n",
      "110 32000\n",
      "120 32500\n"
     ]
    }
   ],
   "source": [
    "price_list = [32100, 32150, 32000, 32500]\n",
    "\n",
    "for i in range(1, 4): \n",
    "    print(90 + i * 10, price_list[i])\n",
    "\n",
    "\n"
   ]
  },
  {
   "cell_type": "markdown",
   "id": "5575d02a",
   "metadata": {},
   "source": [
    "### 175\n",
    "my_list를 아래와 같이 출력하라.\n",
    "```python\n",
    "my_list = [\"가\", \"나\", \"다\", \"라\"]\n",
    "```\n",
    "```plain text\n",
    "가 나\n",
    "나 다\n",
    "다 라\n",
    "```"
   ]
  },
  {
   "cell_type": "code",
   "execution_count": 135,
   "id": "b2f82910",
   "metadata": {},
   "outputs": [
    {
     "name": "stdout",
     "output_type": "stream",
     "text": [
      "가 나\n",
      "나 다\n",
      "다 라\n"
     ]
    }
   ],
   "source": [
    "my_list = [\"가\", \"나\", \"다\", \"라\"]\n",
    "\n",
    "for i in range(0,3):\n",
    "    a = i+1\n",
    "    print(my_list[i], my_list[a])"
   ]
  },
  {
   "cell_type": "markdown",
   "id": "55cfd124",
   "metadata": {},
   "source": [
    "### 176\n",
    "리스트를 아래와 같이 출력하라.\n",
    "```python\n",
    "my_list = [\"가\", \"나\", \"다\", \"라\", \"마\"]\n",
    "```\n",
    "```plain text\n",
    "가 나 다\n",
    "나 다 라\n",
    "다 라 마\n",
    "```"
   ]
  },
  {
   "cell_type": "code",
   "execution_count": 136,
   "id": "ddd95596",
   "metadata": {},
   "outputs": [
    {
     "name": "stdout",
     "output_type": "stream",
     "text": [
      "가 나 다\n",
      "나 다 라\n",
      "다 라 마\n"
     ]
    }
   ],
   "source": [
    "my_list = [\"가\", \"나\", \"다\", \"라\", \"마\"]\n",
    "\n",
    "\n",
    "for i in range(0,3):\n",
    "    a = i+1\n",
    "    print(my_list[i], my_list[a], my_list[a+1])"
   ]
  },
  {
   "cell_type": "markdown",
   "id": "da0ff489",
   "metadata": {},
   "source": [
    "### 177\n",
    "반복문과 range 함수를 사용해서 my_list를 아래와 같이 출력하라.\n",
    "```python\n",
    "my_list = [\"가\", \"나\", \"다\", \"라\"]\n",
    "```\n",
    "```plain text\n",
    "라 다\n",
    "다 나\n",
    "나 가\n",
    "```\n",
    "(💡hint: 인덱스를 만들어내는 방법에 따라 답은 여러개가 될 수 있습니다.)"
   ]
  },
  {
   "cell_type": "code",
   "execution_count": 144,
   "id": "b7be57f6",
   "metadata": {},
   "outputs": [
    {
     "name": "stdout",
     "output_type": "stream",
     "text": [
      "라 다\n",
      "다 나\n",
      "나 가\n"
     ]
    }
   ],
   "source": [
    "my_list = [\"가\", \"나\", \"다\", \"라\"]\n",
    "\n",
    "\n",
    "for i in range(3,0,-1):\n",
    "    a = i-1\n",
    "    print(my_list[i], my_list[a])"
   ]
  },
  {
   "cell_type": "markdown",
   "id": "fafab2cd",
   "metadata": {},
   "source": [
    "### 178\n",
    "리스트에는 네 개의 정수가 저장되어 있다. 각각의 데이터에 대해서 자신과 우측값과의 차분값을 화면에 출력하라.\n",
    "```python\n",
    "my_list = [100, 200, 400, 800]\n",
    "```\n",
    "예를들어 100을 기준으로 우측에 위치한 200과의 차분 값를 화면에 출력하고, 200을 기준으로 우측에 위치한 400과의 차분값을 화면에 출력한다. 이어서 400을 기준으로 우측에 위치한 800과의 차분값을 화면에 출력한다.\n",
    "\n",
    "```plain text\n",
    "100\n",
    "200\n",
    "400\n",
    "```\n"
   ]
  },
  {
   "cell_type": "code",
   "execution_count": 146,
   "id": "e19b571c",
   "metadata": {},
   "outputs": [
    {
     "name": "stdout",
     "output_type": "stream",
     "text": [
      "100\n",
      "200\n",
      "400\n"
     ]
    }
   ],
   "source": [
    "my_list = [100, 200, 400, 800]\n",
    "\n",
    "\n",
    "\n",
    "\n",
    "for i in range(0,3):\n",
    "    a = - my_list[i] + my_list[i+1]\n",
    "    print(a)"
   ]
  },
  {
   "cell_type": "markdown",
   "id": "d461cbc1",
   "metadata": {},
   "source": [
    "### 179\n",
    "리스트에는 6일 간의 종가 데이터가 저장되어 있다. 종가 데이터의 3일 이동 평균을 계산하고 이를 화면에 출력하라.\n",
    "```python\n",
    "my_list = [100, 200, 400, 800, 1000, 1300]\n",
    "```\n",
    "\n",
    "첫 번째 줄에는 100, 200, 400의 평균값이 출력된다. 두 번째 줄에는 200, 400, 800의 평균값이 출력된다. 같은 방식으로 나머지 데이터의 평균을 출력한다.\n",
    "\n",
    "```plain text\n",
    "233.33333333333334\n",
    "466.6666666666667\n",
    "733.3333333333334\n",
    "1033.3333333333333\n",
    "```"
   ]
  },
  {
   "cell_type": "code",
   "execution_count": 149,
   "id": "03331fb5",
   "metadata": {},
   "outputs": [
    {
     "name": "stdout",
     "output_type": "stream",
     "text": [
      "233.33333333333334\n",
      "466.6666666666667\n",
      "733.3333333333334\n",
      "1033.3333333333333\n"
     ]
    }
   ],
   "source": [
    "my_list = [100, 200, 400, 800, 1000, 1300]\n",
    "\n",
    "for i in range(0,4):\n",
    "    a = (my_list[i] + my_list[i+1]+my_list[i+2])/3\n",
    "    print(a)"
   ]
  },
  {
   "cell_type": "markdown",
   "id": "4b65a26c",
   "metadata": {},
   "source": [
    "### 180\n",
    "리스트에 5일간의 저가, 고가 정보가 저장돼 있다. 고가와 저가의 차를 변동폭이라고 정의할 때, low, high 두 개의 리스트를 사용해서 5일간의 변동폭을 volatility 리스트에 저장하라.\n",
    "\n",
    "```python\n",
    "low_prices  = [100, 200, 400, 800, 1000]\n",
    "high_prices = [150, 300, 430, 880, 1000]\n",
    "```"
   ]
  },
  {
   "cell_type": "code",
   "execution_count": 150,
   "id": "da2e8395",
   "metadata": {},
   "outputs": [
    {
     "name": "stdout",
     "output_type": "stream",
     "text": [
      "[50, 100, 30, 80]\n"
     ]
    }
   ],
   "source": [
    "low_prices  = [100, 200, 400, 800, 1000]\n",
    "high_prices = [150, 300, 430, 880, 1000]\n",
    "\n",
    "volatility = []\n",
    "for i in range(0,4):\n",
    "    a = high_prices[i]-low_prices[i]\n",
    "    volatility.append(a)\n",
    "    \n",
    "print(volatility)"
   ]
  },
  {
   "cell_type": "markdown",
   "id": "98a3bcca",
   "metadata": {},
   "source": [
    "### 181\n",
    "아래 표에서 하나의 행을 하나의 리스트로, 총 3개의 리스트를 갖는 이차원 리스트 apart를 정의하라.\n",
    "|101호|102호|\n",
    "|---|---|\n",
    "|201호|202호|\n",
    "|301호|302호|"
   ]
  },
  {
   "cell_type": "code",
   "execution_count": 160,
   "id": "9cae5a6b",
   "metadata": {},
   "outputs": [
    {
     "name": "stdout",
     "output_type": "stream",
     "text": [
      "[['101호', '102호'], ['201호', '202호'], ['301호', '302호']]\n"
     ]
    }
   ],
   "source": [
    "apart = []\n",
    "apart\n",
    "floor = [101,201,301]\n",
    "for i in  [101,201,301]:\n",
    "    \n",
    "    for a in  range(i,i+1):\n",
    "        a = [str(i) +'호', str(i+1) +'호']\n",
    "        apart.append(a)\n",
    "print(apart)\n",
    "\n",
    "\n"
   ]
  },
  {
   "cell_type": "markdown",
   "id": "7e8e858d",
   "metadata": {},
   "source": [
    "### 182\n",
    "아래 표에서 하나의 열을 하나의 리스트로, 총 2개의 리스트를 갖는 이차원 리스트 stock을 정의하라.\n",
    "|시가|종가|\n",
    "|---|---|\n",
    "|100|80|\n",
    "|200|210|\n",
    "|300|330|"
   ]
  },
  {
   "cell_type": "code",
   "execution_count": null,
   "id": "98c0d4c3",
   "metadata": {},
   "outputs": [
    {
     "data": {
      "text/plain": [
       "[['시가', 100, 200, 300], ['종가', 80, 210, 330]]"
      ]
     },
     "execution_count": 64,
     "metadata": {},
     "output_type": "execute_result"
    }
   ],
   "source": [
    "stock = ***\n",
    "stock"
   ]
  },
  {
   "cell_type": "code",
   "execution_count": 190,
   "id": "6c5d478e",
   "metadata": {},
   "outputs": [
    {
     "name": "stdout",
     "output_type": "stream",
     "text": [
      "[['시가', 100, 200, 300], ['종가', 80, 210, 330]]\n"
     ]
    }
   ],
   "source": [
    "stock = [100,200,300,80,210,330]\n",
    "\n",
    "for i in range(0,2):\n",
    "    if i == 0:\n",
    "        a = ['시가', 100,200,300]\n",
    "    elif i !=0:\n",
    "        b = ['종가', 80,210,330]\n",
    "    else:\n",
    "        pass\n",
    "    c = [a,b]\n",
    "print(c)\n",
    "\n",
    "\n"
   ]
  },
  {
   "cell_type": "markdown",
   "id": "b3da233c",
   "metadata": {},
   "source": [
    "### 183\n",
    "아래 표를 stock 이름의 딕셔너리로 표현하라.시가를 key로 저장하고, 나머지 같은 열의 데이터를 리스트로 저장해서 value로 저장한다. 종가 역시 key로 저장하고 나머지 같은 열의 데이터를 리스트로 저장해서 value로 저장한다.\n",
    "|시가|종가|\n",
    "|---|---|\n",
    "|100|80|\n",
    "|200|210|\n",
    "|300|330|"
   ]
  },
  {
   "cell_type": "code",
   "execution_count": null,
   "id": "30292b37",
   "metadata": {},
   "outputs": [
    {
     "data": {
      "text/plain": [
       "{'시가': [100, 200, 300], '종가': [80, 210, 330]}"
      ]
     },
     "execution_count": 65,
     "metadata": {},
     "output_type": "execute_result"
    }
   ],
   "source": [
    "stock = ***\n",
    "stock\n",
    "stock = [100,200,300,80,210,330]\n",
    "\n",
    "for i in range(0,2):\n",
    "    if i == 0:\n",
    "        a = ['시가', 100,200,300]\n",
    "    elif i !=0:\n",
    "        b = ['종가', 80,210,330]\n",
    "    else:\n",
    "        pass\n",
    "    c = [a,b]\n",
    "print(c)\n"
   ]
  },
  {
   "cell_type": "markdown",
   "id": "2d3abae2",
   "metadata": {},
   "source": [
    "### 184\n",
    "아래 표를 stock 이라는 이름의 딕셔너리로 표현하라. 날짜를 key로 저장하고, 나머지 같은 행의 데이터를 리스트로 저장해서 value로 저장한다. 첫 열이 날짜이다.\n",
    "\n",
    "|10/10|80|110|70|90|\n",
    "|---|---|---|---|---|\n",
    "|10/11|210|230|190|200|"
   ]
  },
  {
   "cell_type": "code",
   "execution_count": 3,
   "id": "ff260bfc",
   "metadata": {},
   "outputs": [
    {
     "name": "stdout",
     "output_type": "stream",
     "text": [
      "[100, 200, 300]\n",
      "[80, 210, 330]\n"
     ]
    }
   ],
   "source": [
    "\n",
    "stock = {\n",
    "    '시가': [100, 200, 300],\n",
    "    '종가': [80, 210, 330]\n",
    "}\n",
    "print(stock['시가'])  \n",
    "print(stock['종가'])  \n"
   ]
  },
  {
   "cell_type": "markdown",
   "id": "0e51c96e",
   "metadata": {},
   "source": [
    "### 185\n",
    "리스트에 저장된 데이터를 아래와 같이 출력하라.\n",
    "```python\n",
    "apart = [ [101, 102], [201, 202], [301, 302] ]\n",
    "```\n",
    "```plain text\n",
    "101 호\n",
    "102 호\n",
    "201 호\n",
    "202 호\n",
    "301 호\n",
    "302 호\n",
    "```"
   ]
  },
  {
   "cell_type": "code",
   "execution_count": 4,
   "id": "6367c969",
   "metadata": {},
   "outputs": [
    {
     "name": "stdout",
     "output_type": "stream",
     "text": [
      "101 호\n",
      "102 호\n",
      "201 호\n",
      "202 호\n",
      "301 호\n",
      "302 호\n"
     ]
    }
   ],
   "source": [
    "apart = [ [101, 102], [201, 202], [301, 302] ]\n",
    "\n",
    "for i in apart:\n",
    "    for a in i:\n",
    "        print(a, '호')"
   ]
  },
  {
   "cell_type": "markdown",
   "id": "9b92e8f1",
   "metadata": {},
   "source": [
    "### 186\n",
    "리스트에 저장된 데이터를 아래와 같이 출력하라.\n",
    "```python\n",
    "apart = [ [101, 102], [201, 202], [301, 302] ]\n",
    "```\n",
    "```plain text\n",
    "301 호\n",
    "302 호\n",
    "201 호\n",
    "202 호\n",
    "101 호\n",
    "102 호\n",
    "```"
   ]
  },
  {
   "cell_type": "code",
   "execution_count": 6,
   "id": "1aad0988",
   "metadata": {},
   "outputs": [
    {
     "name": "stdout",
     "output_type": "stream",
     "text": [
      "301 호\n",
      "302 호\n",
      "201 호\n",
      "202 호\n",
      "101 호\n",
      "102 호\n"
     ]
    }
   ],
   "source": [
    "apart = [ [101, 102], [201, 202], [301, 302] ]\n",
    "\n",
    "for i in reversed(apart):\n",
    "    for a in i:\n",
    "        print(a, '호')"
   ]
  },
  {
   "cell_type": "markdown",
   "id": "247b612a",
   "metadata": {},
   "source": [
    "### 187\n",
    "리스트에 저장된 데이터를 아래와 같이 출력하라.\n",
    "```python\n",
    "apart = [ [101, 102], [201, 202], [301, 302] ]\n",
    "```\n",
    "```plain text\n",
    "302 호\n",
    "301 호\n",
    "202 호\n",
    "201 호\n",
    "102 호\n",
    "101 호\n",
    "```"
   ]
  },
  {
   "cell_type": "code",
   "execution_count": 7,
   "id": "15fe7dbc",
   "metadata": {},
   "outputs": [
    {
     "name": "stdout",
     "output_type": "stream",
     "text": [
      "302 호\n",
      "301 호\n",
      "202 호\n",
      "201 호\n",
      "102 호\n",
      "101 호\n"
     ]
    }
   ],
   "source": [
    "apart = [ [101, 102], [201, 202], [301, 302] ]\n",
    "\n",
    "for i in reversed(apart):\n",
    "    for a in reversed(i):\n",
    "        print(a, '호')"
   ]
  },
  {
   "cell_type": "markdown",
   "id": "123bf201",
   "metadata": {},
   "source": [
    "### 188\n",
    "리스트에 저장된 데이터를 아래와 같이 출력하라.\n",
    "```python\n",
    "apart = [ [101, 102], [201, 202], [301, 302] ]\n",
    "```\n",
    "```plain text\n",
    "101 호\n",
    "-----\n",
    "102 호\n",
    "-----\n",
    "201 호\n",
    "-----\n",
    "202 호\n",
    "-----\n",
    "301 호\n",
    "-----\n",
    "302 호\n",
    "-----\n",
    "```"
   ]
  },
  {
   "cell_type": "code",
   "execution_count": 9,
   "id": "e357fff3",
   "metadata": {},
   "outputs": [
    {
     "name": "stdout",
     "output_type": "stream",
     "text": [
      "101 호 \n",
      " -----\n",
      "102 호 \n",
      " -----\n",
      "201 호 \n",
      " -----\n",
      "202 호 \n",
      " -----\n",
      "301 호 \n",
      " -----\n",
      "302 호 \n",
      " -----\n"
     ]
    }
   ],
   "source": [
    "apart = [ [101, 102], [201, 202], [301, 302] ]\n",
    "\n",
    "for i in (apart):\n",
    "    for a in i:\n",
    "        print(a, '호','\\n -----')"
   ]
  },
  {
   "cell_type": "markdown",
   "id": "8c2f6b1c",
   "metadata": {},
   "source": [
    "### 189\n",
    "리스트에 저장된 데이터를 아래와 같이 출력하라.\n",
    "```python\n",
    "apart = [ [101, 102], [201, 202], [301, 302] ]\n",
    "```\n",
    "```plain text\n",
    "101 호\n",
    "102 호\n",
    "-----\n",
    "201 호\n",
    "202 호\n",
    "-----\n",
    "301 호\n",
    "302 호\n",
    "-----\n",
    "```"
   ]
  },
  {
   "cell_type": "code",
   "execution_count": 11,
   "id": "a2cd97d1",
   "metadata": {},
   "outputs": [
    {
     "name": "stdout",
     "output_type": "stream",
     "text": [
      "101 호\n",
      "102 호\n",
      "\n",
      " -----\n",
      "201 호\n",
      "202 호\n",
      "\n",
      " -----\n",
      "301 호\n",
      "302 호\n",
      "\n",
      " -----\n"
     ]
    }
   ],
   "source": [
    "apart = [ [101, 102], [201, 202], [301, 302] ]\n",
    "\n",
    "apart = [ [101, 102], [201, 202], [301, 302] ]\n",
    "\n",
    "for i in (apart):\n",
    "    for a in i:\n",
    "        print(a, '호')\n",
    "    print('\\n -----')"
   ]
  },
  {
   "cell_type": "markdown",
   "id": "21a6ab4f",
   "metadata": {},
   "source": [
    "### 189\n",
    "리스트에 저장된 데이터를 아래와 같이 출력하라.\n",
    "```python\n",
    "apart = [ [101, 102], [201, 202], [301, 302] ]\n",
    "```\n",
    "```plain text\n",
    "101 호\n",
    "102 호\n",
    "201 호\n",
    "202 호\n",
    "301 호\n",
    "302 호\n",
    "-----\n",
    "```"
   ]
  },
  {
   "cell_type": "code",
   "execution_count": 14,
   "id": "4196563a",
   "metadata": {},
   "outputs": [
    {
     "name": "stdout",
     "output_type": "stream",
     "text": [
      "101 호\n",
      "102 호\n",
      "201 호\n",
      "202 호\n",
      "301 호\n",
      "302 호\n",
      "-----\n"
     ]
    }
   ],
   "source": [
    "apart = [ [101, 102], [201, 202], [301, 302] ]\n",
    "\n",
    "for i in (apart):\n",
    "    for a in i:\n",
    "        print(a, '호')\n",
    "print('-----')"
   ]
  },
  {
   "cell_type": "markdown",
   "id": "52856012",
   "metadata": {},
   "source": [
    "### 191\n",
    "data에는 매수한 종목들의 OHLC (open/high/low/close) 가격 정보가 바인딩 되어있다.\n",
    "```python\n",
    "data = [\n",
    "    [ 2000,  3050,  2050,  1980],\n",
    "    [ 7500,  2050,  2050,  1980],\n",
    "    [15450, 15050, 15550, 14900]\n",
    "]\n",
    "```\n",
    "수수료를 0.014 %로 가정할 때, 각 가격에 수수료를 포함한 가격을 한라인에 하나씩 출력하라.\n",
    "```plain text\n",
    "2000.28\n",
    "3050.427\n",
    "2050.2870000000003\n",
    "...\n",
    "```"
   ]
  },
  {
   "cell_type": "code",
   "execution_count": 22,
   "id": "83e375f9",
   "metadata": {},
   "outputs": [
    {
     "name": "stdout",
     "output_type": "stream",
     "text": [
      "2000.28\n",
      "3050.43\n",
      "2050.29\n",
      "1980.28\n",
      "7501.05\n",
      "2050.29\n",
      "2050.29\n",
      "1980.28\n",
      "15452.16\n",
      "15052.11\n",
      "15552.18\n",
      "14902.09\n"
     ]
    }
   ],
   "source": [
    "data = [\n",
    "    [ 2000,  3050,  2050,  1980],\n",
    "    [ 7500,  2050,  2050,  1980],\n",
    "    [15450, 15050, 15550, 14900]\n",
    "]\n",
    "\n",
    "\n",
    "for i in data:\n",
    "    for a in i:\n",
    "        vals_final = a + float(f\"{a*(14/100000):.2f}\")\n",
    "        print(vals_final)"
   ]
  },
  {
   "cell_type": "markdown",
   "id": "f386c579",
   "metadata": {},
   "source": [
    "### 192\n",
    "191번의 출력 결과에 행단위로 \"----\" 구분자를 추가하라.\n",
    "```plain text\n",
    "2000.28\n",
    "3050.427\n",
    "2050.2870000000003\n",
    "1980.2772\n",
    "----\n",
    "7501.05\n",
    "2050.2870000000003\n",
    "2050.2870000000003\n",
    "1980.2772\n",
    "----\n",
    "15452.163\n",
    "15052.107\n",
    "15552.177\n",
    "14902.086000000001\n",
    "----\n",
    "```"
   ]
  },
  {
   "cell_type": "code",
   "execution_count": 23,
   "id": "ebae8c21",
   "metadata": {},
   "outputs": [
    {
     "name": "stdout",
     "output_type": "stream",
     "text": [
      "2000.28\n",
      "3050.43\n",
      "2050.29\n",
      "1980.28\n",
      "----\n",
      "7501.05\n",
      "2050.29\n",
      "2050.29\n",
      "1980.28\n",
      "----\n",
      "15452.16\n",
      "15052.11\n",
      "15552.18\n",
      "14902.09\n",
      "----\n"
     ]
    }
   ],
   "source": [
    "\n",
    "\n",
    "data = [\n",
    "    [ 2000,  3050,  2050,  1980],\n",
    "    [ 7500,  2050,  2050,  1980],\n",
    "    [15450, 15050, 15550, 14900]\n",
    "]\n",
    "\n",
    "\n",
    "for i in data:\n",
    "    for a in i:\n",
    "        vals_final = a + float(f\"{a*(14/100000):.2f}\")\n",
    "        print(vals_final)\n",
    "    print('----')"
   ]
  },
  {
   "cell_type": "markdown",
   "id": "bc05e128",
   "metadata": {},
   "source": [
    "### 193\n",
    "192 번 문제의 결괏값을 result 이름의 리스트에 1차원 배열로 저장하라.\n",
    "```plain text\n",
    ">> print(result)\n",
    "[2000.28, 3050.427, 2050.2870000000003, 1980.2772, 7501.05, 2050.2870000000003, 2050.2870000000003, ...]\n",
    "```"
   ]
  },
  {
   "cell_type": "code",
   "execution_count": 25,
   "id": "444064ed",
   "metadata": {},
   "outputs": [
    {
     "name": "stdout",
     "output_type": "stream",
     "text": [
      "[2000.28, 3050.43, 2050.29, 1980.28, 7501.05, 2050.29, 2050.29, 1980.28, 15452.16, 15052.11, 15552.18, 14902.09]\n"
     ]
    }
   ],
   "source": [
    "data = [\n",
    "    [ 2000,  3050,  2050,  1980],\n",
    "    [ 7500,  2050,  2050,  1980],\n",
    "    [15450, 15050, 15550, 14900]\n",
    "]\n",
    "result = []\n",
    "for i in data:\n",
    "    for a in i:\n",
    "        vals_final = a + float(f\"{a*(14/100000):.2f}\")\n",
    "        result.append(vals_final)\n",
    "\n",
    "\n",
    "\n",
    "\n",
    "\n",
    "print(result)"
   ]
  },
  {
   "cell_type": "markdown",
   "id": "3944d5ec",
   "metadata": {},
   "source": [
    "### 194\n",
    "191번 문제의 결괏값을 result 이름의 리스트에 2차원 배열로 저장하라. 저장 포맷은 아래와 같다. 각 행에 대한 데이터끼리 리스트에 저장되어야 한다.\n",
    "```plain text\n",
    ">> print(result)\n",
    "[\n",
    " [2000.28, 3050.427, 2050.2870000000003, 1980.2772],\n",
    " [7501.05, 2050.2870000000003, 2050.2870000000003, 1980.2772],\n",
    " [15452.163, 15052.107, 15552.177, 14902.086000000001]\n",
    "]\n",
    "```"
   ]
  },
  {
   "cell_type": "code",
   "execution_count": 36,
   "id": "e813fe31",
   "metadata": {},
   "outputs": [
    {
     "name": "stdout",
     "output_type": "stream",
     "text": [
      "[[2000.28, 3050.43, 2050.29, 1980.28], [7501.05, 2050.29, 2050.29, 1980.28], [15452.16, 15052.11, 15552.18, 14902.09]]\n"
     ]
    }
   ],
   "source": [
    "\n",
    "data = [\n",
    "    [ 2000,  3050,  2050,  1980],\n",
    "    [ 7500,  2050,  2050,  1980],\n",
    "    [15450, 15050, 15550, 14900]\n",
    "]\n",
    "result = []\n",
    "b = []\n",
    "for i in data:\n",
    "    b = []\n",
    "    for a in i:\n",
    "        vals_final = a + float(f\"{a*(14/100000):.2f}\")\n",
    "        b.append(vals_final)\n",
    "    result.append(b)\n",
    "    \n",
    "\n",
    "\n",
    "print(result)\n"
   ]
  },
  {
   "cell_type": "markdown",
   "id": "1b465ef7",
   "metadata": {},
   "source": [
    "### 195\n",
    "ohlc 리스트에는 시가(open), 고가 (high), 저가 (low) , 종가(close)가 날짜별로 저장돼 있다. 화면에 종가데이터를 출력하라.\n",
    "```python\n",
    "ohlc = [[\"open\", \"high\", \"low\", \"close\"],\n",
    "        [100, 110, 70, 100],\n",
    "        [200, 210, 180, 190],\n",
    "        [300, 310, 300, 310]]\n",
    "```\n",
    "```plain text\n",
    "100\n",
    "190\n",
    "310\n",
    "```"
   ]
  },
  {
   "cell_type": "code",
   "execution_count": 53,
   "id": "1d5bc0fa",
   "metadata": {},
   "outputs": [
    {
     "name": "stdout",
     "output_type": "stream",
     "text": [
      "100\n",
      "190\n",
      "310\n"
     ]
    }
   ],
   "source": [
    "ohlc = [[\"open\", \"high\", \"low\", \"close\"],\n",
    "        [100, 110, 70, 100],\n",
    "        [200, 210, 180, 190],\n",
    "        [300, 310, 300, 310]]\n",
    "\n",
    "for i in ohlc[1:]:\n",
    "    \n",
    "        print(i[-1])\n",
    "       "
   ]
  },
  {
   "cell_type": "markdown",
   "id": "313c1234",
   "metadata": {},
   "source": [
    "### 196\n",
    "ohlc 리스트에는 시가(open), 고가 (high), 저가 (low) , 종가(close)가 날짜별로 저장돼 있다. 종가가 150원보다 큰경우에만 종가를 출력하라.\n",
    "\n",
    "```python\n",
    "ohlc = [[\"open\", \"high\", \"low\", \"close\"],\n",
    "        [100, 110, 70, 100],\n",
    "        [200, 210, 180, 190],\n",
    "        [300, 310, 300, 310]]\n",
    "```\n",
    "```plain text\n",
    "190\n",
    "310\n",
    "```"
   ]
  },
  {
   "cell_type": "code",
   "execution_count": 54,
   "id": "5cb75172",
   "metadata": {},
   "outputs": [
    {
     "name": "stdout",
     "output_type": "stream",
     "text": [
      "190\n",
      "310\n"
     ]
    }
   ],
   "source": [
    "ohlc = [[\"open\", \"high\", \"low\", \"close\"],\n",
    "        [100, 110, 70, 100],\n",
    "        [200, 210, 180, 190],\n",
    "        [300, 310, 300, 310]]\n",
    "\n",
    "\n",
    "for i in ohlc[1:]:\n",
    "    if i[-1] >150:\n",
    "        print(i[-1])\n",
    "        \n",
    "       "
   ]
  },
  {
   "cell_type": "markdown",
   "id": "e6e63ec5",
   "metadata": {},
   "source": [
    "### 196\n",
    "ohlc 리스트에는 시가(open), 고가 (high), 저가 (low) , 종가(close)가 날짜별로 저장돼 있다. 종가가 시가 보다 크거나 같은 경우에만 종가를 출력하라.\n",
    "\n",
    "```python\n",
    "ohlc = [[\"open\", \"high\", \"low\", \"close\"],\n",
    "        [100, 110, 70, 100],\n",
    "        [200, 210, 180, 190],\n",
    "        [300, 310, 300, 310]]\n",
    "```\n",
    "```plain text\n",
    "100\n",
    "310\n",
    "```"
   ]
  },
  {
   "cell_type": "code",
   "execution_count": null,
   "id": "5fa181da",
   "metadata": {},
   "outputs": [
    {
     "name": "stdout",
     "output_type": "stream",
     "text": [
      "100\n",
      "310\n"
     ]
    }
   ],
   "source": [
    "ohlc = [[\"open\", \"high\", \"low\", \"close\"],\n",
    "        [100, 110, 70, 100],\n",
    "        [200, 210, 180, 190],\n",
    "        [300, 310, 300, 310]]\n",
    "\n",
    "\n",
    "for i in ohlc[1:]:\n",
    "    if i[-1] >= i[0]:\n",
    "        print(i[-1])"
   ]
  },
  {
   "cell_type": "markdown",
   "id": "36e84f69",
   "metadata": {},
   "source": [
    "### 198\n",
    "ohlc 리스트에는 시가(open), 고가 (high), 저가 (low) , 종가(close)가 날짜별로 저장돼 있다. 고가와 저가의 차이를 변동폭으로 정의할 때 변동폭을 volatility 이름의 리스트에 저장하라.\n",
    "\n",
    "```python\n",
    "ohlc = [[\"open\", \"high\", \"low\", \"close\"],\n",
    "        [100, 110, 70, 100],\n",
    "        [200, 210, 180, 190],\n",
    "        [300, 310, 300, 310]]\n",
    ">> print(volatility)\n",
    "```\n",
    "```plain text\n",
    "[40, 30, 10]\n",
    "\n",
    "```"
   ]
  },
  {
   "cell_type": "code",
   "execution_count": 56,
   "id": "bab92ce8",
   "metadata": {},
   "outputs": [
    {
     "name": "stdout",
     "output_type": "stream",
     "text": [
      "[40, 30, 10]\n"
     ]
    }
   ],
   "source": [
    "ohlc = [[\"open\", \"high\", \"low\", \"close\"],\n",
    "        [100, 110, 70, 100],\n",
    "        [200, 210, 180, 190],\n",
    "        [300, 310, 300, 310]]\n",
    "\n",
    "\n",
    "volatility = []\n",
    "\n",
    "for i in ohlc[1:]:\n",
    "    a =  i[1] - i[2]\n",
    "    volatility.append(a)\n",
    "        \n",
    "\n",
    "print(volatility)"
   ]
  },
  {
   "cell_type": "code",
   "execution_count": 84,
   "id": "8d106ae5",
   "metadata": {},
   "outputs": [
    {
     "name": "stdout",
     "output_type": "stream",
     "text": [
      "[40, 30, 10]\n"
     ]
    }
   ],
   "source": [
    "# range 구문을 이용해서도 문제를 풀 수 있습니다.\n",
    "volatility = []\n",
    "for i in range(1, len(ohlc)):\n",
    "    volatility.append(ohlc[i][1]-ohlc[i][2])\n",
    "print(volatility)\n"
   ]
  },
  {
   "cell_type": "markdown",
   "id": "1d27a301",
   "metadata": {},
   "source": [
    "### 199\n",
    "리스트에는 3일 간의 ohlc 데이터가 저장돼 있다. 종가가 시가보다 높은 날의 변동성 (고가 - 저가)을 화면에 출력하라.\n",
    "```python\n",
    "ohlc = [[\"open\", \"high\", \"low\", \"close\"],\n",
    "        [100, 110, 70, 100],\n",
    "        [200, 210, 180, 190],\n",
    "        [300, 310, 300, 310]]\n",
    "```\n",
    "종가가 시가보다 높은 거래일의 OHLC는 [300, 310, 300, 310] 이다. 따라서 이 거래일의 변동성은 10 (310 - 300)이다.\n",
    "```plain text\n",
    "10\n",
    "```"
   ]
  },
  {
   "cell_type": "code",
   "execution_count": 58,
   "id": "7e1b32c2",
   "metadata": {},
   "outputs": [
    {
     "name": "stdout",
     "output_type": "stream",
     "text": [
      "10\n"
     ]
    }
   ],
   "source": [
    "ohlc = [[\"open\", \"high\", \"low\", \"close\"],\n",
    "        [100, 110, 70, 100],\n",
    "        [200, 210, 180, 190],\n",
    "        [300, 310, 300, 310]]\n",
    "for i in ohlc[1:]:\n",
    "    if i[-1] > i[0]:\n",
    "        a =  i[1] - i[2]\n",
    "        print(a)"
   ]
  },
  {
   "cell_type": "markdown",
   "id": "bfaabd67",
   "metadata": {},
   "source": [
    "### 200\n",
    "리스트에는 3일 간의 ohlc 데이터가 저장돼 있다. 시가에 매수해서 종가에 매도 했을 경우 총 수익금을 계산하라.\n",
    "```python\n",
    "ohlc = [[\"open\", \"high\", \"low\", \"close\"],\n",
    "        [100, 110, 70, 100],\n",
    "        [200, 210, 180, 190],\n",
    "        [300, 310, 300, 310]]\n",
    "```\n",
    "\n",
    "1일차 수익 0원 (100 - 100), 2일차 수익 -10원 (190 - 200), 3일차 수익 10원 (310 - 300) 이다.\n",
    "```plain text\n",
    "0\n",
    "```\n"
   ]
  },
  {
   "cell_type": "code",
   "execution_count": 61,
   "id": "405f5359",
   "metadata": {},
   "outputs": [
    {
     "name": "stdout",
     "output_type": "stream",
     "text": [
      "0\n"
     ]
    }
   ],
   "source": [
    "ohlc = [[\"open\", \"high\", \"low\", \"close\"],\n",
    "        [100, 110, 70, 100],\n",
    "        [200, 210, 180, 190],\n",
    "        [300, 310, 300, 310]]\n",
    "profit = 0\n",
    "for i in ohlc[1:]:\n",
    "        a=  i[-1] - i[0]\n",
    "        profit += a\n",
    "\n",
    "\n",
    "\n",
    "\n",
    "\n",
    "print(profit)"
   ]
  }
 ],
 "metadata": {
  "kernelspec": {
   "display_name": ".venv",
   "language": "python",
   "name": "python3"
  },
  "language_info": {
   "codemirror_mode": {
    "name": "ipython",
    "version": 3
   },
   "file_extension": ".py",
   "mimetype": "text/x-python",
   "name": "python",
   "nbconvert_exporter": "python",
   "pygments_lexer": "ipython3",
   "version": "3.13.1"
  }
 },
 "nbformat": 4,
 "nbformat_minor": 5
}
