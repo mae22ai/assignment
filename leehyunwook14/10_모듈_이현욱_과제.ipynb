{
 "cells": [
  {
   "cell_type": "markdown",
   "id": "ae26fbd4",
   "metadata": {},
   "source": [
    "## 10. 파이썬 모듈\n",
    "\n",
    "파이썬 모듈은 `파이썬 파일`을 의미합니다. \\\n",
    "파이썬은 다양한 분야별로 모듈을 제공합니다. \\\n",
    "프로그램 구현에 필요한 모듈의 기초 사용법을 알아봅시다."
   ]
  },
  {
   "cell_type": "markdown",
   "id": "3ba2c5f0",
   "metadata": {},
   "source": [
    "### 모듈 설치\n",
    "먼저 실습에 필요한 모듈(패키지)을 설치하겠습니다.\\\n",
    "모듈은 터미널에서 바로 `pip install 모듈명`으로 설치할 수도 있고,\\\n",
    "jupyter notebook의 인라인에서는 `%` 또는 `!` 기호를 통해 모듈(패키지)를 설치할 수 있습니다."
   ]
  },
  {
   "cell_type": "code",
   "execution_count": 1,
   "id": "49e6c27d",
   "metadata": {},
   "outputs": [
    {
     "name": "stdout",
     "output_type": "stream",
     "text": [
      "Collecting numpy\n",
      "  Downloading numpy-2.2.6-cp311-cp311-win_amd64.whl.metadata (60 kB)\n",
      "     ---------------------------------------- 0.0/60.8 kB ? eta -:--:--\n",
      "     ------ --------------------------------- 10.2/60.8 kB ? eta -:--:--\n",
      "     ------------ ------------------------- 20.5/60.8 kB 165.2 kB/s eta 0:00:01\n",
      "     ------------------------- ------------ 41.0/60.8 kB 281.8 kB/s eta 0:00:01\n",
      "     -------------------------------------- 60.8/60.8 kB 358.9 kB/s eta 0:00:00\n",
      "Downloading numpy-2.2.6-cp311-cp311-win_amd64.whl (12.9 MB)\n",
      "   ---------------------------------------- 0.0/12.9 MB ? eta -:--:--\n",
      "   - -------------------------------------- 0.3/12.9 MB 7.0 MB/s eta 0:00:02\n",
      "   -- ------------------------------------- 0.8/12.9 MB 10.1 MB/s eta 0:00:02\n",
      "   ---- ----------------------------------- 1.4/12.9 MB 9.6 MB/s eta 0:00:02\n",
      "   ----- ---------------------------------- 1.9/12.9 MB 11.0 MB/s eta 0:00:02\n",
      "   ------- -------------------------------- 2.4/12.9 MB 11.0 MB/s eta 0:00:01\n",
      "   --------- ------------------------------ 3.0/12.9 MB 11.1 MB/s eta 0:00:01\n",
      "   ---------- ----------------------------- 3.4/12.9 MB 10.3 MB/s eta 0:00:01\n",
      "   ----------- ---------------------------- 3.6/12.9 MB 9.6 MB/s eta 0:00:01\n",
      "   ------------ --------------------------- 4.1/12.9 MB 10.0 MB/s eta 0:00:01\n",
      "   -------------- ------------------------- 4.5/12.9 MB 9.7 MB/s eta 0:00:01\n",
      "   --------------- ------------------------ 5.0/12.9 MB 9.7 MB/s eta 0:00:01\n",
      "   ----------------- ---------------------- 5.6/12.9 MB 9.8 MB/s eta 0:00:01\n",
      "   ------------------ --------------------- 6.0/12.9 MB 9.9 MB/s eta 0:00:01\n",
      "   ------------------- -------------------- 6.4/12.9 MB 9.7 MB/s eta 0:00:01\n",
      "   --------------------- ------------------ 6.9/12.9 MB 9.8 MB/s eta 0:00:01\n",
      "   ---------------------- ----------------- 7.4/12.9 MB 9.8 MB/s eta 0:00:01\n",
      "   ------------------------ --------------- 7.8/12.9 MB 10.0 MB/s eta 0:00:01\n",
      "   ------------------------- -------------- 8.3/12.9 MB 10.0 MB/s eta 0:00:01\n",
      "   --------------------------- ------------ 8.8/12.9 MB 10.0 MB/s eta 0:00:01\n",
      "   ---------------------------- ----------- 9.3/12.9 MB 10.0 MB/s eta 0:00:01\n",
      "   ------------------------------ --------- 9.8/12.9 MB 10.1 MB/s eta 0:00:01\n",
      "   ------------------------------- -------- 10.2/12.9 MB 10.0 MB/s eta 0:00:01\n",
      "   --------------------------------- ------ 10.7/12.9 MB 10.2 MB/s eta 0:00:01\n",
      "   ---------------------------------- ----- 11.2/12.9 MB 10.1 MB/s eta 0:00:01\n",
      "   ------------------------------------ --- 11.7/12.9 MB 9.9 MB/s eta 0:00:01\n",
      "   ------------------------------------- -- 12.0/12.9 MB 9.9 MB/s eta 0:00:01\n",
      "   -------------------------------------- - 12.5/12.9 MB 9.8 MB/s eta 0:00:01\n",
      "   ---------------------------------------  12.9/12.9 MB 9.8 MB/s eta 0:00:01\n",
      "   ---------------------------------------- 12.9/12.9 MB 9.3 MB/s eta 0:00:00\n",
      "Installing collected packages: numpy\n",
      "Successfully installed numpy-2.2.6\n",
      "Note: you may need to restart the kernel to use updated packages.\n"
     ]
    },
    {
     "name": "stderr",
     "output_type": "stream",
     "text": [
      "\n",
      "[notice] A new release of pip is available: 24.0 -> 25.1.1\n",
      "[notice] To update, run: C:\\Users\\Chandler\\AppData\\Local\\Microsoft\\WindowsApps\\PythonSoftwareFoundation.Python.3.11_qbz5n2kfra8p0\\python.exe -m pip install --upgrade pip\n"
     ]
    },
    {
     "name": "stdout",
     "output_type": "stream",
     "text": [
      "Collecting datetime\n",
      "  Downloading DateTime-5.5-py3-none-any.whl.metadata (33 kB)\n",
      "Collecting zope.interface (from datetime)\n",
      "  Downloading zope.interface-7.2-cp311-cp311-win_amd64.whl.metadata (45 kB)\n",
      "     ---------------------------------------- 0.0/45.6 kB ? eta -:--:--\n",
      "     ---------------------------------------- 0.0/45.6 kB ? eta -:--:--\n",
      "     ----------------------------------- ---- 41.0/45.6 kB ? eta -:--:--\n",
      "     ---------------------------------------- 45.6/45.6 kB 1.1 MB/s eta 0:00:00\n",
      "Collecting pytz (from datetime)\n",
      "  Downloading pytz-2025.2-py2.py3-none-any.whl.metadata (22 kB)\n",
      "Requirement already satisfied: setuptools in c:\\program files\\windowsapps\\pythonsoftwarefoundation.python.3.11_3.11.2544.0_x64__qbz5n2kfra8p0\\lib\\site-packages (from zope.interface->datetime) (65.5.0)\n",
      "Downloading DateTime-5.5-py3-none-any.whl (52 kB)\n",
      "   ---------------------------------------- 0.0/52.6 kB ? eta -:--:--\n",
      "   ---------------------------------------- 52.6/52.6 kB 2.7 MB/s eta 0:00:00\n",
      "Downloading pytz-2025.2-py2.py3-none-any.whl (509 kB)\n",
      "   ---------------------------------------- 0.0/509.2 kB ? eta -:--:--\n",
      "   --------------- ------------------------ 194.6/509.2 kB 3.9 MB/s eta 0:00:01\n",
      "   -------------------------------- ------- 419.8/509.2 kB 5.3 MB/s eta 0:00:01\n",
      "   ---------------------------------- ----- 440.3/509.2 kB 4.6 MB/s eta 0:00:01\n",
      "   ---------------------------------------- 509.2/509.2 kB 3.2 MB/s eta 0:00:00\n",
      "Downloading zope.interface-7.2-cp311-cp311-win_amd64.whl (212 kB)\n",
      "   ---------------------------------------- 0.0/212.3 kB ? eta -:--:--\n",
      "   ------- -------------------------------- 41.0/212.3 kB ? eta -:--:--\n",
      "   ------------------------------------ --- 194.6/212.3 kB 2.3 MB/s eta 0:00:01\n",
      "   -------------------------------------- - 204.8/212.3 kB 1.6 MB/s eta 0:00:01\n",
      "   ---------------------------------------- 212.3/212.3 kB 1.6 MB/s eta 0:00:00\n",
      "Installing collected packages: pytz, zope.interface, datetime\n",
      "Successfully installed datetime-5.5 pytz-2025.2 zope.interface-7.2\n",
      "Note: you may need to restart the kernel to use updated packages.\n"
     ]
    },
    {
     "name": "stderr",
     "output_type": "stream",
     "text": [
      "\n",
      "[notice] A new release of pip is available: 24.0 -> 25.1.1\n",
      "[notice] To update, run: C:\\Users\\Chandler\\AppData\\Local\\Microsoft\\WindowsApps\\PythonSoftwareFoundation.Python.3.11_qbz5n2kfra8p0\\python.exe -m pip install --upgrade pip\n"
     ]
    }
   ],
   "source": [
    "%pip install numpy\n",
    "%pip install datetime"
   ]
  },
  {
   "cell_type": "markdown",
   "id": "bb23a678",
   "metadata": {},
   "source": [
    "### 241. 현재시간\n",
    "datetime 모듈을 사용해서 현재 시간을 화면에 출력해보세요.\n",
    "\n",
    "(💡hint: `datetime.datetime.now()`를 통해 현재 시간을 출력할 수 있습니다. datetime 모듈의 .datetime.now() 메서드를 사용한 것입니다.)"
   ]
  },
  {
   "cell_type": "code",
   "execution_count": 3,
   "id": "2d1089b4",
   "metadata": {},
   "outputs": [
    {
     "name": "stdout",
     "output_type": "stream",
     "text": [
      "2025-06-03 12:56:01.050579\n"
     ]
    }
   ],
   "source": [
    "import datetime\n",
    "\n",
    "now = datetime.datetime.now()\n",
    "print(now)"
   ]
  },
  {
   "cell_type": "code",
   "execution_count": 4,
   "id": "3cfb3cec",
   "metadata": {},
   "outputs": [
    {
     "name": "stdout",
     "output_type": "stream",
     "text": [
      "2025-06-03 12:56:26.071814\n"
     ]
    }
   ],
   "source": [
    "# 모듈명은 다음과 같이 as(alias)로 별칭으로 불러올 수 있습니다.\n",
    "import datetime as dt\n",
    "\n",
    "now = dt.datetime.now()\n",
    "print(now)\n"
   ]
  },
  {
   "cell_type": "markdown",
   "id": "e7ab4de5",
   "metadata": {},
   "source": [
    "### 242. 현재시간의 타입\n",
    "datetime 모듈의 now 함수의 리턴 값의 타입을 화면에 출력해보세요."
   ]
  },
  {
   "cell_type": "code",
   "execution_count": 6,
   "id": "1be58e43",
   "metadata": {},
   "outputs": [
    {
     "name": "stdout",
     "output_type": "stream",
     "text": [
      "2025-06-03 12:56:58.650571 <class 'datetime.datetime'>\n"
     ]
    }
   ],
   "source": [
    "import datetime as dt\n",
    "\n",
    "now = dt.datetime.now()\n",
    "print(now, type(now))\n"
   ]
  },
  {
   "cell_type": "markdown",
   "id": "acd4f765",
   "metadata": {},
   "source": [
    "### 243. timedelta\n",
    "datetime 모듈의 timedelta를 사용해서 오늘로부터 5일, 4일, 3일, 2일, 1일 전의 날짜를 화면에 출력해보세요.\\\n",
    "(💡hint: datetime 모듈의 `.timedelta(days=n)`를 통해 n일 후의 날짜를 얻을 수 있습니다.)"
   ]
  },
  {
   "cell_type": "code",
   "execution_count": 1,
   "id": "1f8e6676",
   "metadata": {},
   "outputs": [
    {
     "name": "stdout",
     "output_type": "stream",
     "text": [
      "5일 전: 2025-05-30\n",
      "4일 전: 2025-05-31\n",
      "3일 전: 2025-06-01\n",
      "2일 전: 2025-06-02\n",
      "1일 전: 2025-06-03\n"
     ]
    }
   ],
   "source": [
    "#이건 도저히 몰라서 혼자서 지피티랑 코파일럿 보고 공부했습니다..\n",
    "\n",
    "from datetime import datetime, timedelta\n",
    "\n",
    "today = datetime.today()\n",
    "\n",
    "for i in range(5, 0, -1):\n",
    "    past_date = today - timedelta(days=i)\n",
    "    print(f\"{i}일 전: {past_date.strftime('%Y-%m-%d')}\")\n",
    "\n",
    "\n",
    "    "
   ]
  },
  {
   "cell_type": "code",
   "execution_count": 11,
   "id": "2aeebd75",
   "metadata": {},
   "outputs": [
    {
     "name": "stdout",
     "output_type": "stream",
     "text": [
      "d\n"
     ]
    }
   ],
   "source": [
    "print('d')"
   ]
  },
  {
   "cell_type": "markdown",
   "id": "0ea1a1a1",
   "metadata": {},
   "source": [
    "### 244. strftime\n",
    "현재시간을 얻어온 후 다음과 같은 포맷으로 시간을 출력해보세요. \\\n",
    "strftime 메서드를 사용하세요. \\"
   ]
  },
  {
   "cell_type": "code",
   "execution_count": 2,
   "id": "8b442e55",
   "metadata": {},
   "outputs": [
    {
     "name": "stdout",
     "output_type": "stream",
     "text": [
      "19:34:59\n"
     ]
    }
   ],
   "source": [
    "import datetime as dt\n",
    "\n",
    "now = dt.datetime.now()\n",
    "print(now.strftime(\"%H:%M:%S\"))"
   ]
  },
  {
   "cell_type": "markdown",
   "id": "e5fae4c8",
   "metadata": {},
   "source": [
    "### 245. strptime\n",
    "datetime.datetime.strptime 메서드를 사용하면 문자열 형식의 시간을 datetime.datetime 타입의 시간 값으로 만들어줍니다. \"2025-05-28\"의 문자열을 시간 타입으로 변환해보세요."
   ]
  },
  {
   "cell_type": "code",
   "execution_count": 11,
   "id": "1bb3d3f6",
   "metadata": {},
   "outputs": [
    {
     "name": "stdout",
     "output_type": "stream",
     "text": [
      "2025-05-28 <class 'str'>\n"
     ]
    }
   ],
   "source": [
    "import datetime as dt\n",
    "\n",
    "day = \"2025-05-28\"\n",
    "day_obj = dt.datetime.strptime(day, \"%Y-%m-%d\")\n",
    "ret = day_obj.strftime(\"%Y-%m-%d\")\n",
    "print(ret, type(ret))\n",
    "\n"
   ]
  },
  {
   "cell_type": "code",
   "execution_count": 10,
   "id": "e79808d6",
   "metadata": {},
   "outputs": [
    {
     "name": "stdout",
     "output_type": "stream",
     "text": [
      "25-05-28 <class 'str'>\n"
     ]
    }
   ],
   "source": [
    "import datetime as dt\n",
    "\n",
    "day = \"2025-05-28\"\n",
    "day_obj = dt.datetime.strptime(day, \"%Y-%m-%d\")  # 문자열 → datetime 객체\n",
    "\n",
    "ret = day_obj.strftime(\"%y-%m-%d\")  # datetime 객체 → 원하는 문자열 형식\n",
    "print(ret, type(ret))\n"
   ]
  },
  {
   "cell_type": "markdown",
   "id": "734166a6",
   "metadata": {},
   "source": [
    "### 246. sleep 함수\n",
    "time 모듈, datetime 모듈을 사용해서 1초에 한 번 현재 시간을 출력하는 코드를 작성하세요. \\\n",
    "(무한 루프로 코드 짤 경우, 10번 정도 출력되면 셀을 멈추고 다음 문제로 넘어가시면 됩니다.)\\\n",
    "(time.sleep(n)을 통해 n초를 기다릴 수 있습니다.)"
   ]
  },
  {
   "cell_type": "code",
   "execution_count": 22,
   "id": "52f3739c",
   "metadata": {},
   "outputs": [
    {
     "name": "stdout",
     "output_type": "stream",
     "text": [
      "20:20:10\n",
      "20:20:11\n",
      "20:20:12\n",
      "20:20:13\n",
      "20:20:14\n",
      "20:20:15\n",
      "20:20:16\n",
      "20:20:17\n",
      "20:20:18\n",
      "20:20:19\n",
      "20:20:20\n"
     ]
    },
    {
     "ename": "KeyboardInterrupt",
     "evalue": "",
     "output_type": "error",
     "traceback": [
      "\u001b[31m---------------------------------------------------------------------------\u001b[39m",
      "\u001b[31mKeyboardInterrupt\u001b[39m                         Traceback (most recent call last)",
      "\u001b[36mCell\u001b[39m\u001b[36m \u001b[39m\u001b[32mIn[22]\u001b[39m\u001b[32m, line 6\u001b[39m\n\u001b[32m      4\u001b[39m now = dt.datetime.now()\n\u001b[32m      5\u001b[39m \u001b[38;5;28mprint\u001b[39m(now.strftime(\u001b[33m\"\u001b[39m\u001b[33m%\u001b[39m\u001b[33mH:\u001b[39m\u001b[33m%\u001b[39m\u001b[33mM:\u001b[39m\u001b[33m%\u001b[39m\u001b[33mS\u001b[39m\u001b[33m\"\u001b[39m))\n\u001b[32m----> \u001b[39m\u001b[32m6\u001b[39m time.sleep(\u001b[32m1\u001b[39m)\n",
      "\u001b[31mKeyboardInterrupt\u001b[39m: "
     ]
    }
   ],
   "source": [
    "import time\n",
    "import datetime as dt\n",
    "while True:\n",
    "    now = dt.datetime.now()\n",
    "    print(now.strftime(\"%H:%M:%S\"))\n",
    "    time.sleep(1)\n",
    "\n",
    "\n"
   ]
  },
  {
   "cell_type": "markdown",
   "id": "01b81e8a",
   "metadata": {},
   "source": [
    "### 247. 모듈 임포트\n",
    "모듈을 임포트하는 4가지 방식으로 os 모듈을 임포트했을 때, os 모듈에 포함되어 있는 .rename() 메서드를 사용하기 위해서 각각 코드를 어떻게 작성해야 하나요?\n",
    "\n",
    "(💡hint: \\\n",
    "`import 모듈명` → 모듈명.메서드() 의 형태로 사용 가능\\\n",
    "`from 모듈명 import 메서드` → 메서드() 의 형태로 사용 가능\\\n",
    "`from 모듈명 import *` → 해당 모듈에 있는 전체 메서드를 그냥 정의된 함수처럼 사용 가능\\\n",
    "`import 모듈명 as 별칭` → 별칭.메서드()의 형태로 사용가능)"
   ]
  },
  {
   "cell_type": "markdown",
   "id": "5a263ae1",
   "metadata": {},
   "source": [
    "```python \n",
    "# 1\n",
    "import os\n",
    "\n",
    "# 2\n",
    "from os import rename\n",
    "\n",
    "# 3\n",
    "from os import *\n",
    "\n",
    "# 4\n",
    "import os as myos\n",
    "```\n"
   ]
  },
  {
   "cell_type": "markdown",
   "id": "042915a5",
   "metadata": {},
   "source": [
    "정답\n",
    "\n",
    "1: **여기에 입력해주세요**\n",
    "\n",
    "\n",
    "2: **여기에 입력해주세요**\n",
    "\n",
    "\n",
    "3: **여기에 입력해주세요**\n",
    "\n",
    "\n",
    "4: **여기에 입력해주세요**"
   ]
  },
  {
   "cell_type": "markdown",
   "id": "0578ad83",
   "metadata": {},
   "source": [
    "### 248. os 모듈\n",
    "os 모듈의 getcwd 함수를 호출하여 현재 디렉터리의 경로를 화면에 출력해보세요.\\\n",
    "(💡hint: getcwd는 get current working directory)"
   ]
  },
  {
   "cell_type": "code",
   "execution_count": 1,
   "id": "6b7be4d2",
   "metadata": {},
   "outputs": [
    {
     "name": "stdout",
     "output_type": "stream",
     "text": [
      "c:\\Users\\Chandler\\OneDrive - Sogang\\2025-1\\비교과\\매이아이 프로젝트\\assignment\\leehyunwook14 <class 'str'>\n"
     ]
    }
   ],
   "source": [
    "import os\n",
    "ret = os.getcwd()\n",
    "print(ret, type(ret))"
   ]
  },
  {
   "cell_type": "code",
   "execution_count": 22,
   "id": "f506ba9d",
   "metadata": {},
   "outputs": [
    {
     "data": {
      "text/plain": [
       "'/Users/hyeonseokim_macbookpro/Desktop/서강대학교/2025/2025년 1학기/AI인문융합LAB/repos/assignment/정답'"
      ]
     },
     "execution_count": 22,
     "metadata": {},
     "output_type": "execute_result"
    }
   ],
   "source": [
    "# 터미널 명령어로 동일한 확인 가능: pwd (present working directory)\n",
    "%pwd"
   ]
  },
  {
   "cell_type": "markdown",
   "id": "5c2633d3",
   "metadata": {},
   "source": [
    "### 249. rename 함수\n",
    "현재 작업 디렉토리에 있는 텍스트 파일('before.txt')을 \\\n",
    "os 모듈의 rename 함수를 호출하여 해당 파일의 이름을 변경해보세요."
   ]
  },
  {
   "cell_type": "code",
   "execution_count": 13,
   "id": "38727fa3",
   "metadata": {},
   "outputs": [
    {
     "ename": "FileNotFoundError",
     "evalue": "[WinError 2] 지정된 파일을 찾을 수 없습니다: 'c:\\\\Users\\\\Chandler\\\\OneDrive - Sogang\\\\2025-1\\\\비교과\\\\매이아이 프로젝트\\\\assignment\\\\leehyunwook1401_시작하기_이현욱.ipynb' -> 'c:\\\\Users\\\\Chandler\\\\OneDrive - Sogang\\\\2025-1\\\\비교과\\\\매이아이 프로젝트\\\\assignment\\\\leehyunwook1401_시작하기_이현욱.ipynb-backup'",
     "output_type": "error",
     "traceback": [
      "\u001b[31m---------------------------------------------------------------------------\u001b[39m",
      "\u001b[31mFileNotFoundError\u001b[39m                         Traceback (most recent call last)",
      "\u001b[36mCell\u001b[39m\u001b[36m \u001b[39m\u001b[32mIn[13]\u001b[39m\u001b[32m, line 6\u001b[39m\n\u001b[32m      3\u001b[39m before = ret + \u001b[33m'\u001b[39m\u001b[33m01_시작하기_이현욱.ipynb\u001b[39m\u001b[33m'\u001b[39m\n\u001b[32m      4\u001b[39m after = ret + \u001b[33m'\u001b[39m\u001b[33m01_시작하기_이현욱.ipynb-backup\u001b[39m\u001b[33m'\u001b[39m\n\u001b[32m----> \u001b[39m\u001b[32m6\u001b[39m \u001b[43mos\u001b[49m\u001b[43m.\u001b[49m\u001b[43mrename\u001b[49m\u001b[43m(\u001b[49m\u001b[43mbefore\u001b[49m\u001b[43m,\u001b[49m\u001b[43m \u001b[49m\u001b[43mafter\u001b[49m\u001b[43m)\u001b[49m\n\u001b[32m      8\u001b[39m \u001b[38;5;66;03m# 모르겠어요!\u001b[39;00m\n",
      "\u001b[31mFileNotFoundError\u001b[39m: [WinError 2] 지정된 파일을 찾을 수 없습니다: 'c:\\\\Users\\\\Chandler\\\\OneDrive - Sogang\\\\2025-1\\\\비교과\\\\매이아이 프로젝트\\\\assignment\\\\leehyunwook1401_시작하기_이현욱.ipynb' -> 'c:\\\\Users\\\\Chandler\\\\OneDrive - Sogang\\\\2025-1\\\\비교과\\\\매이아이 프로젝트\\\\assignment\\\\leehyunwook1401_시작하기_이현욱.ipynb-backup'"
     ]
    }
   ],
   "source": [
    "import os\n",
    "ret = os.getcwd()\n",
    "before = ret + '01_시작하기_이현욱.ipynb'\n",
    "after = ret + '01_시작하기_이현욱.ipynb-backup'\n",
    "\n",
    "os.rename(before, after)\n",
    "\n",
    "# 모르겠어요!"
   ]
  },
  {
   "cell_type": "markdown",
   "id": "abec1af4",
   "metadata": {},
   "source": [
    "### 250. numpy\n",
    "numpy 모듈의 arange 함수를 사용해서 0.0 부터 5.0까지 0.1씩 증가하는 값을 화면에 출력해보세요."
   ]
  },
  {
   "cell_type": "code",
   "execution_count": 14,
   "id": "129bef3b",
   "metadata": {},
   "outputs": [
    {
     "name": "stdout",
     "output_type": "stream",
     "text": [
      "0.0\n",
      "0.1\n",
      "0.2\n",
      "0.30000000000000004\n",
      "0.4\n",
      "0.5\n",
      "0.6000000000000001\n",
      "0.7000000000000001\n",
      "0.8\n",
      "0.9\n",
      "1.0\n",
      "1.1\n",
      "1.2000000000000002\n",
      "1.3\n",
      "1.4000000000000001\n",
      "1.5\n",
      "1.6\n",
      "1.7000000000000002\n",
      "1.8\n",
      "1.9000000000000001\n",
      "2.0\n",
      "2.1\n",
      "2.2\n",
      "2.3000000000000003\n",
      "2.4000000000000004\n",
      "2.5\n",
      "2.6\n",
      "2.7\n",
      "2.8000000000000003\n",
      "2.9000000000000004\n",
      "3.0\n",
      "3.1\n",
      "3.2\n",
      "3.3000000000000003\n",
      "3.4000000000000004\n",
      "3.5\n",
      "3.6\n",
      "3.7\n",
      "3.8000000000000003\n",
      "3.9000000000000004\n",
      "4.0\n",
      "4.1000000000000005\n",
      "4.2\n",
      "4.3\n",
      "4.4\n",
      "4.5\n",
      "4.6000000000000005\n",
      "4.7\n",
      "4.800000000000001\n",
      "4.9\n"
     ]
    }
   ],
   "source": [
    "import numpy\n",
    "for i in numpy.arange(0, 5, 0.1):\n",
    "    print(i)"
   ]
  },
  {
   "cell_type": "markdown",
   "id": "980403bb",
   "metadata": {},
   "source": [
    "## 🤩🤩 수고 하셨습니다!!! 🤩🤩"
   ]
  }
 ],
 "metadata": {
  "kernelspec": {
   "display_name": "Python 3",
   "language": "python",
   "name": "python3"
  },
  "language_info": {
   "codemirror_mode": {
    "name": "ipython",
    "version": 3
   },
   "file_extension": ".py",
   "mimetype": "text/x-python",
   "name": "python",
   "nbconvert_exporter": "python",
   "pygments_lexer": "ipython3",
   "version": "3.11.9"
  }
 },
 "nbformat": 4,
 "nbformat_minor": 5
}
