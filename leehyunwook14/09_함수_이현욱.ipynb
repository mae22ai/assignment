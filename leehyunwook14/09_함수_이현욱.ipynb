{
 "cells": [
  {
   "cell_type": "markdown",
   "id": "eb036970",
   "metadata": {},
   "source": [
    "## 09. 파이썬 함수\n",
    "\n",
    "**함수**란 **자주 사용하는 코드에 대한 이름표**입니다. \\\n",
    "변수가 어떤 값을 바인딩하는 것처럼 함수는 어떤 코드를 바인딩합니다."
   ]
  },
  {
   "cell_type": "markdown",
   "id": "ed1b40af",
   "metadata": {},
   "source": [
    "### 201\n",
    "\"비트코인\" 문자열을 화면에 출력하는 print_coin() 함수를 정의하라. \\\n",
    "(💡 함수를 정의할 때에는 `def 함수명(매개변수):` 를 사용할 수 있습니다. def는 define(정의하다)의 약자! 함수에 매개변수가 필요하지 않으면 괄호 안을 비워두면 됩니다.)"
   ]
  },
  {
   "cell_type": "code",
   "execution_count": null,
   "id": "b4c544c4",
   "metadata": {},
   "outputs": [],
   "source": [
    "**여기에 입력해주세요**"
   ]
  },
  {
   "cell_type": "markdown",
   "id": "7db81689",
   "metadata": {},
   "source": [
    "### 202\n",
    "201번에서 정의한 함수를 호출하라."
   ]
  },
  {
   "cell_type": "code",
   "execution_count": null,
   "id": "7883655b",
   "metadata": {},
   "outputs": [
    {
     "name": "stdout",
     "output_type": "stream",
     "text": [
      "비트코인\n"
     ]
    }
   ],
   "source": [
    "**여기에 입력해주세요**"
   ]
  },
  {
   "cell_type": "markdown",
   "id": "65d11d97",
   "metadata": {},
   "source": [
    "### 203\n",
    "201번에서 정의한 print_coin 함수를 100번 호출하라. \\\n",
    "(💡hint: 반복문을 쓰면 되겠죠?)"
   ]
  },
  {
   "cell_type": "code",
   "execution_count": null,
   "id": "3291e439",
   "metadata": {},
   "outputs": [
    {
     "name": "stdout",
     "output_type": "stream",
     "text": [
      "비트코인\n",
      "비트코인\n",
      "비트코인\n",
      "비트코인\n",
      "비트코인\n",
      "비트코인\n",
      "비트코인\n",
      "비트코인\n",
      "비트코인\n",
      "비트코인\n",
      "비트코인\n",
      "비트코인\n",
      "비트코인\n",
      "비트코인\n",
      "비트코인\n",
      "비트코인\n",
      "비트코인\n",
      "비트코인\n",
      "비트코인\n",
      "비트코인\n",
      "비트코인\n",
      "비트코인\n",
      "비트코인\n",
      "비트코인\n",
      "비트코인\n",
      "비트코인\n",
      "비트코인\n",
      "비트코인\n",
      "비트코인\n",
      "비트코인\n",
      "비트코인\n",
      "비트코인\n",
      "비트코인\n",
      "비트코인\n",
      "비트코인\n",
      "비트코인\n",
      "비트코인\n",
      "비트코인\n",
      "비트코인\n",
      "비트코인\n",
      "비트코인\n",
      "비트코인\n",
      "비트코인\n",
      "비트코인\n",
      "비트코인\n",
      "비트코인\n",
      "비트코인\n",
      "비트코인\n",
      "비트코인\n",
      "비트코인\n",
      "비트코인\n",
      "비트코인\n",
      "비트코인\n",
      "비트코인\n",
      "비트코인\n",
      "비트코인\n",
      "비트코인\n",
      "비트코인\n",
      "비트코인\n",
      "비트코인\n",
      "비트코인\n",
      "비트코인\n",
      "비트코인\n",
      "비트코인\n",
      "비트코인\n",
      "비트코인\n",
      "비트코인\n",
      "비트코인\n",
      "비트코인\n",
      "비트코인\n",
      "비트코인\n",
      "비트코인\n",
      "비트코인\n",
      "비트코인\n",
      "비트코인\n",
      "비트코인\n",
      "비트코인\n",
      "비트코인\n",
      "비트코인\n",
      "비트코인\n",
      "비트코인\n",
      "비트코인\n",
      "비트코인\n",
      "비트코인\n",
      "비트코인\n",
      "비트코인\n",
      "비트코인\n",
      "비트코인\n",
      "비트코인\n",
      "비트코인\n",
      "비트코인\n",
      "비트코인\n",
      "비트코인\n",
      "비트코인\n",
      "비트코인\n",
      "비트코인\n",
      "비트코인\n",
      "비트코인\n",
      "비트코인\n",
      "비트코인\n"
     ]
    }
   ],
   "source": [
    "**여기에 입력해주세요**"
   ]
  },
  {
   "cell_type": "markdown",
   "id": "8f9d53d5",
   "metadata": {},
   "source": [
    "### 204\n",
    "\"비트코인\" 문자열을 100번 화면에 출력하는 print_coins() 함수를 정의하라. \\\n",
    "(💡hint: 이번에는 함수 내에서 반복문을 쓰면 되겠죠?)"
   ]
  },
  {
   "cell_type": "code",
   "execution_count": null,
   "id": "1f5108c0",
   "metadata": {},
   "outputs": [],
   "source": [
    "**여기에 입력해주세요**"
   ]
  },
  {
   "cell_type": "markdown",
   "id": "3db35027",
   "metadata": {},
   "source": [
    "### 205\n",
    "아래의 에러가 발생하는 이유에 대해 설명하라. \n",
    "```python\n",
    "hello()\n",
    "def hello():\n",
    "    print(\"Hi\")\n",
    "```\n",
    "\n",
    "```plain text\n",
    "실행 예\n",
    "NameError: name 'hello' is not defined\n",
    "```"
   ]
  },
  {
   "cell_type": "markdown",
   "id": "9c904fba",
   "metadata": {},
   "source": [
    "정답: \n",
    "\n",
    "**여기에 입력해주세요**"
   ]
  },
  {
   "cell_type": "markdown",
   "id": "1fea3fe6",
   "metadata": {},
   "source": [
    "### 206\n",
    "아래 코드의 실행 결과를 예측하라.\n",
    "```python\n",
    "def message() :\n",
    "    print(\"A\")\n",
    "    print(\"B\")\n",
    "\n",
    "message()\n",
    "print(\"C\")\n",
    "message()\n",
    "```\n",
    "(💡hint: markdown에서 줄바꿈하기 위해서는 \\\\ 를 쓰고 엔터하거나 2번 엔터하면 됩니다. \\\n",
    "예를 들어 \n",
    "\n",
    "A \\\n",
    "B를 하고 싶다면, \n",
    "\n",
    "```\n",
    "A \\\n",
    "B\n",
    "```\n",
    "로 쓰면 됩니다)\n"
   ]
  },
  {
   "cell_type": "markdown",
   "id": "7e206a4a",
   "metadata": {},
   "source": [
    "정답:\n",
    "**여기에 입력해주세요**"
   ]
  },
  {
   "cell_type": "markdown",
   "id": "f5a01af6",
   "metadata": {},
   "source": [
    "### "
   ]
  },
  {
   "cell_type": "markdown",
   "id": "b51085fd",
   "metadata": {},
   "source": [
    "### 207\n",
    "아래 코드의 실행 결과를 예측하라. (읽기 어려운 코드의 예입니다.)\n",
    "```python\n",
    "print(\"A\")\n",
    "\n",
    "def message() :\n",
    "    print(\"B\")\n",
    "\n",
    "print(\"C\")\n",
    "message()\n",
    "```"
   ]
  },
  {
   "cell_type": "markdown",
   "id": "41d0a286",
   "metadata": {},
   "source": [
    "정답:\n",
    "\n",
    "**여기에 입력해주세요**\n"
   ]
  },
  {
   "cell_type": "markdown",
   "id": "79c69615",
   "metadata": {},
   "source": [
    "### 208\n",
    "아래 코드의 실행 결과를 예측하라. (읽기 어려운 코드의 예입니다.)\n",
    "\n",
    "```python\n",
    "print(\"A\")\n",
    "def message1() :\n",
    "    print(\"B\")\n",
    "print(\"C\")\n",
    "def message2() :\n",
    "    print(\"D\")\n",
    "message1()\n",
    "print(\"E\")\n",
    "message2()\n",
    "```"
   ]
  },
  {
   "cell_type": "markdown",
   "id": "b43c72fc",
   "metadata": {},
   "source": [
    "정답:\n",
    "\n",
    "**여기에 입력해주세요**"
   ]
  },
  {
   "cell_type": "markdown",
   "id": "ee6e9ad0",
   "metadata": {},
   "source": [
    "### 209\n",
    "아래 코드의 실행 결과를 예측하라.\n",
    "\n",
    "```python\n",
    "def message1():\n",
    "    print(\"A\")\n",
    "\n",
    "def message2():\n",
    "    print(\"B\")\n",
    "    message1()\n",
    "\n",
    "message2()\n",
    "```"
   ]
  },
  {
   "cell_type": "markdown",
   "id": "7174171c",
   "metadata": {},
   "source": [
    "정답:\n",
    "\n",
    "**여기에 입력해주세요**"
   ]
  },
  {
   "cell_type": "markdown",
   "id": "275f3b90",
   "metadata": {},
   "source": [
    "### 210\n",
    "아래 코드의 실행 결과를 예측하라.\n",
    "```python\n",
    "def message1():\n",
    "    print(\"A\")\n",
    "\n",
    "def message2():\n",
    "    print(\"B\")\n",
    "\n",
    "def message3():\n",
    "    for i in range (3) :\n",
    "        message2()\n",
    "        print(\"C\")\n",
    "    message1()\n",
    "\n",
    "message3()\n",
    "```\n",
    "\n"
   ]
  },
  {
   "cell_type": "markdown",
   "id": "828e8582",
   "metadata": {},
   "source": [
    "정답:\n",
    "\n",
    "**여기에 입력해주세요**\n"
   ]
  },
  {
   "cell_type": "markdown",
   "id": "93f893a5",
   "metadata": {},
   "source": [
    "### 211\n",
    "함수의 호출 결과를 예측하라.\n",
    "\n",
    "```python\n",
    "def 함수(문자열) :\n",
    "    print(문자열)\n",
    "\n",
    "함수(\"안녕\")\n",
    "함수(\"Hi\")\n",
    "\n",
    "```"
   ]
  },
  {
   "cell_type": "markdown",
   "id": "64f29688",
   "metadata": {},
   "source": [
    "정답:\n",
    "\n",
    "**여기에 입력해주세요**"
   ]
  },
  {
   "cell_type": "markdown",
   "id": "90961388",
   "metadata": {},
   "source": [
    "### 212\n",
    "함수의 호출 결과를 예측하라.\n",
    "\n",
    "```python\n",
    "def 함수(a, b) :\n",
    "    print(a + b)\n",
    "\n",
    "함수(3, 4)\n",
    "함수(7, 8)\n",
    "```"
   ]
  },
  {
   "cell_type": "markdown",
   "id": "75551f03",
   "metadata": {},
   "source": [
    "정답:\n",
    "\n",
    "**여기에 입력해주세요**"
   ]
  },
  {
   "cell_type": "markdown",
   "id": "380cabdb",
   "metadata": {},
   "source": [
    "### 213\n",
    "아래와 같은 에러가 발생하는 원인을 설명하라.\n",
    "\n",
    "```python\n",
    "def 함수(문자열) :\n",
    "    print(문자열)\n",
    "```\n",
    "\n",
    "\n",
    "[에러 메시지]\n",
    "```plain text\n",
    "함수()\n",
    "TypeError: 함수() missing 1 required positional argument: '문자열'\n",
    "```"
   ]
  },
  {
   "cell_type": "markdown",
   "id": "61ef35aa",
   "metadata": {},
   "source": [
    "정답: **여기에 입력해주세요**"
   ]
  },
  {
   "cell_type": "markdown",
   "id": "c7430aef",
   "metadata": {},
   "source": [
    "### 214\n",
    "아래와 같은 에러가 발생하는 원인을 설명하라.\n",
    "\n",
    "```python\n",
    "def 함수(a, b) :\n",
    "    print(a + b)\n",
    "\n",
    "함수(\"안녕\", 3)\n",
    "```\n",
    "\n",
    "\n",
    "[에러 메시지]\n",
    "```plain text\n",
    "TypeError: must be str, not int\n",
    "```"
   ]
  },
  {
   "cell_type": "markdown",
   "id": "58da6141",
   "metadata": {},
   "source": [
    "정답: **여기에 입력해주세요**"
   ]
  },
  {
   "cell_type": "markdown",
   "id": "60610406",
   "metadata": {},
   "source": [
    "### 215\n",
    "하나의 문자를 입력받아 문자열 끝에 \":D\" 스마일 문자열을 이어 붙여 출력하는 print_with_smile 함수를 정의하라."
   ]
  },
  {
   "cell_type": "code",
   "execution_count": null,
   "id": "9df6abfb",
   "metadata": {},
   "outputs": [],
   "source": [
    "**여기에 입력해주세요**"
   ]
  },
  {
   "cell_type": "markdown",
   "id": "2ace06df",
   "metadata": {},
   "source": [
    "### 216\n",
    "215에서 정의한 함수를 호출하라. 파라미터는 \"안녕하세요\"로 입력하라."
   ]
  },
  {
   "cell_type": "code",
   "execution_count": null,
   "id": "bdc19e07",
   "metadata": {},
   "outputs": [
    {
     "name": "stdout",
     "output_type": "stream",
     "text": [
      "안녕하세요:D\n"
     ]
    }
   ],
   "source": [
    "**여기에 입력해주세요**"
   ]
  },
  {
   "cell_type": "markdown",
   "id": "bd270c6d",
   "metadata": {},
   "source": [
    "### 217\n",
    "현재 가격을 입력 받아 상한가 (30%)를 출력하는 print_upper_price 함수를 정의하라."
   ]
  },
  {
   "cell_type": "code",
   "execution_count": null,
   "id": "eb1a6366",
   "metadata": {},
   "outputs": [
    {
     "name": "stdout",
     "output_type": "stream",
     "text": [
      "3900.0\n"
     ]
    }
   ],
   "source": [
    "**여기에 입력해주세요**\n",
    "\n",
    "\n",
    "현재가격=3000\n",
    "print_upper_price(현재가격)"
   ]
  },
  {
   "cell_type": "markdown",
   "id": "ae8b2fcb",
   "metadata": {},
   "source": [
    "### 218\n",
    "두 개의 숫자를 입력받아 두 수의 합을 출력하는 print_sum 함수를 정의하라."
   ]
  },
  {
   "cell_type": "code",
   "execution_count": null,
   "id": "0e99b26d",
   "metadata": {},
   "outputs": [
    {
     "name": "stdout",
     "output_type": "stream",
     "text": [
      "11\n"
     ]
    }
   ],
   "source": [
    "**여기에 입력해주세요**\n",
    "\n",
    "num1 = 3\n",
    "num2 = 8\n",
    "print_sum(num1, num2)"
   ]
  },
  {
   "cell_type": "markdown",
   "id": "de54aa2d",
   "metadata": {},
   "source": [
    "### 219\n",
    "두 개의 숫자를 입력받아 합/차/곱/나눗셈을 출력하는 print_arithmetic_operation 함수를 작성하라.\n",
    "\n",
    "```python\n",
    "print_arithmetic_operation(3, 4)\n",
    "```\n",
    "\n",
    "[결과]\n",
    "```plain text\n",
    "3 + 4 = 7\n",
    "3 - 4 = -1\n",
    "3 * 4 = 12\n",
    "3 / 4 = 0.75\n",
    "\n",
    "```"
   ]
  },
  {
   "cell_type": "code",
   "execution_count": null,
   "id": "1e56d15a",
   "metadata": {},
   "outputs": [
    {
     "name": "stdout",
     "output_type": "stream",
     "text": [
      "3 + 4 = 7\n",
      "3 - 4 = -1\n",
      "3 * 4 = 12\n",
      "3 / 4 = 0.75\n"
     ]
    }
   ],
   "source": [
    "**여기에 입력해주세요**\n",
    "\n",
    "print_arithmetic_operation(3, 4)"
   ]
  },
  {
   "cell_type": "markdown",
   "id": "dda7bc2e",
   "metadata": {},
   "source": [
    "### 220\n",
    "세 개의 숫자를 입력받아 가장 큰수를 출력하는 print_max 함수를 정의하라. 단 if 문을 사용해서 수를 비교하라."
   ]
  },
  {
   "cell_type": "code",
   "execution_count": null,
   "id": "2fa5b232",
   "metadata": {},
   "outputs": [
    {
     "name": "stdout",
     "output_type": "stream",
     "text": [
      "12\n",
      "12\n",
      "12\n"
     ]
    }
   ],
   "source": [
    "**여기에 입력해주세요**\n",
    "\n",
    "print_max(12, 10, 5)\n",
    "print_max(10, 12, 5)\n",
    "print_max(5, 10, 12)"
   ]
  },
  {
   "cell_type": "markdown",
   "id": "086cb8c7",
   "metadata": {},
   "source": [
    "### 221\n",
    "입력된 문자열을 역순으로 출력하는 print_reverse 함수를 정의하라.\\\n",
    "(💡hint: 슬라이싱을 사용하여 문자열을 역순으로 얻어올 수 있었죠?)"
   ]
  },
  {
   "cell_type": "code",
   "execution_count": null,
   "id": "e6931f2e",
   "metadata": {},
   "outputs": [
    {
     "name": "stdout",
     "output_type": "stream",
     "text": [
      "nohtyp\n"
     ]
    }
   ],
   "source": [
    "**여기에 입력해주세요**\n",
    "\n",
    "\n",
    "print_reverse(\"python\")"
   ]
  },
  {
   "cell_type": "markdown",
   "id": "447b0002",
   "metadata": {},
   "source": [
    "### 222\n",
    "성적 리스트를 입력 받아 평균을 출력하는 print_score 함수를 정의하라."
   ]
  },
  {
   "cell_type": "code",
   "execution_count": null,
   "id": "6db4042f",
   "metadata": {},
   "outputs": [
    {
     "name": "stdout",
     "output_type": "stream",
     "text": [
      "2.0\n"
     ]
    }
   ],
   "source": [
    "**여기에 입력해주세요**\n",
    "    \n",
    "print_score([1,2,3])"
   ]
  },
  {
   "cell_type": "markdown",
   "id": "895941b4",
   "metadata": {},
   "source": [
    "### 223\n",
    "하나의 리스트를 입력받아 짝수만 화면에 출력하는 print_even 함수를 정의하라."
   ]
  },
  {
   "cell_type": "code",
   "execution_count": null,
   "id": "f3b7ffb2",
   "metadata": {},
   "outputs": [
    {
     "name": "stdout",
     "output_type": "stream",
     "text": [
      "2\n",
      "10\n",
      "12\n"
     ]
    }
   ],
   "source": [
    "**여기에 입력해주세요**\n",
    "\n",
    "print_even ([1, 3, 2, 10, 12, 11, 15])\n"
   ]
  },
  {
   "cell_type": "markdown",
   "id": "ab7f5043",
   "metadata": {},
   "source": [
    "### 224\n",
    "하나의 딕셔너리를 입력받아 딕셔너리의 key 값을 화면에 출력하는 print_keys 함수를 정의하라."
   ]
  },
  {
   "cell_type": "code",
   "execution_count": null,
   "id": "8539cc80",
   "metadata": {},
   "outputs": [
    {
     "name": "stdout",
     "output_type": "stream",
     "text": [
      "이름\n",
      "나이\n",
      "성별\n"
     ]
    }
   ],
   "source": [
    "**여기에 입력해주세요**\n",
    "\n",
    "print_keys ({\"이름\":\"김말똥\", \"나이\":30, \"성별\":0})"
   ]
  },
  {
   "cell_type": "markdown",
   "id": "3f7e9fa5",
   "metadata": {},
   "source": [
    "### 225\n",
    "my_dict에는 날짜를 키값으로 OHLC가 리스트로 저장돼 있다. \\\n",
    "my_dict와 날짜 키값을 입력받아 OHLC 리스트를 출력하는 print_value_by_key 함수를 정의하라."
   ]
  },
  {
   "cell_type": "code",
   "execution_count": null,
   "id": "e9f09ca2",
   "metadata": {},
   "outputs": [
    {
     "name": "stdout",
     "output_type": "stream",
     "text": [
      "[100, 130, 100, 100]\n"
     ]
    }
   ],
   "source": [
    "my_dict = {\"10/26\" : [100, 130, 100, 100],\n",
    "            \"10/27\" : [10, 12, 10, 11]}\n",
    "\n",
    "**여기에 입력해주세요**\n",
    "\n",
    "print_value_by_key  (my_dict, \"10/26\")"
   ]
  },
  {
   "cell_type": "markdown",
   "id": "5fb15735",
   "metadata": {},
   "source": [
    "### 226\n",
    "입력 문자열을 한 줄에 다섯글자씩 출력하는 print_5xn(string) 함수를 작성하라."
   ]
  },
  {
   "cell_type": "code",
   "execution_count": null,
   "id": "766b3def",
   "metadata": {},
   "outputs": [
    {
     "name": "stdout",
     "output_type": "stream",
     "text": [
      "아이엠어보\n",
      "이유알어걸\n",
      "\n"
     ]
    }
   ],
   "source": [
    "**여기에 입력해주세요**\n",
    "\n",
    "print_5xn(\"아이엠어보이유알어걸\")"
   ]
  },
  {
   "cell_type": "markdown",
   "id": "f48cc1c1",
   "metadata": {},
   "source": [
    "### 227\n",
    "문자열과 한줄에 출력될 글자 수를 입력을 받아 한 줄에 입력된 글자 수만큼 출력하는 print_mxn(string) 함수를 작성하라."
   ]
  },
  {
   "cell_type": "code",
   "execution_count": null,
   "id": "8bb220d3",
   "metadata": {},
   "outputs": [
    {
     "name": "stdout",
     "output_type": "stream",
     "text": [
      "아이엠\n",
      "어보이\n",
      "유알어\n",
      "걸\n"
     ]
    }
   ],
   "source": [
    "**여기에 입력해주세요**\n",
    "\n",
    "print_mxn(\"아이엠어보이유알어걸\", 3)"
   ]
  },
  {
   "cell_type": "markdown",
   "id": "7eddacd8",
   "metadata": {},
   "source": [
    "### 228\n",
    "연봉을 입력받아 월급을 계산하는 calc_monthly_salary(annual_salary) 함수를 정의하라. 회사는 연봉을 12개월로 나누어 분할 지급하며, 이 때 1원 미만은 버림한다.\n",
    "\n",
    "(💡hint: 1원 미만을 버림하려면 어떤 자료형으로 변환해야 할까요? 입력된 값을 12로 나눈 후 형변환을 해서 1원 미만을 절사하면 되겠죠?)"
   ]
  },
  {
   "cell_type": "code",
   "execution_count": null,
   "id": "60f1fc37",
   "metadata": {},
   "outputs": [
    {
     "data": {
      "text/plain": [
       "1000000"
      ]
     },
     "execution_count": 23,
     "metadata": {},
     "output_type": "execute_result"
    }
   ],
   "source": [
    "**여기에 입력해주세요**\n",
    "\n",
    "calc_monthly_salary(12000000)"
   ]
  },
  {
   "cell_type": "markdown",
   "id": "d5d4399a",
   "metadata": {},
   "source": [
    "### 229\n",
    "아래 코드의 실행 결과를 예측하라.\n",
    "```python\n",
    "def my_print (a, b) :\n",
    "    print(\"왼쪽:\", a)\n",
    "    print(\"오른쪽:\", b)\n",
    "\n",
    "my_print(a=100, b=200)\n",
    "```"
   ]
  },
  {
   "cell_type": "markdown",
   "id": "8d297e85",
   "metadata": {},
   "source": [
    "정답\n",
    "\n",
    "\n",
    "**여기에 입력해주세요**\n"
   ]
  },
  {
   "cell_type": "markdown",
   "id": "03960d52",
   "metadata": {},
   "source": [
    "### 230\n",
    "아래 코드의 실행 결과를 예측하라.\n",
    "```python\n",
    "def my_print (a, b) :\n",
    "    print(\"왼쪽:\", a)\n",
    "    print(\"오른쪽:\", b)\n",
    "\n",
    "my_print(b=100, a=200)\n",
    "```"
   ]
  },
  {
   "cell_type": "markdown",
   "id": "03d64b84",
   "metadata": {},
   "source": [
    "정답:\n",
    "\n",
    "\n",
    "**여기에 입력해주세요**\n"
   ]
  },
  {
   "cell_type": "markdown",
   "id": "c6d7b082",
   "metadata": {},
   "source": [
    "### 231\n",
    "아래 코드의 실행 결과를 예측하라.\n",
    "```python\n",
    "def n_plus_1 (n) :\n",
    "    result = n + 1\n",
    "\n",
    "n_plus_1(3)\n",
    "print (result)\n",
    "```"
   ]
  },
  {
   "cell_type": "markdown",
   "id": "3d82a3c6",
   "metadata": {},
   "source": [
    "정답:\n",
    "\n",
    "**여기에 입력해주세요**"
   ]
  },
  {
   "cell_type": "markdown",
   "id": "08a1c979",
   "metadata": {},
   "source": [
    "### 232\n",
    "문자열 하나를 입력받아 인터넷 주소를 반환하는 make_url 함수를 정의하라. \\\n",
    "(💡hint: 문자열의 앞에는 www.를 붙여주고, 뒤에는 .com을 붙여주세요)"
   ]
  },
  {
   "cell_type": "code",
   "execution_count": null,
   "id": "76e0049d",
   "metadata": {},
   "outputs": [
    {
     "data": {
      "text/plain": [
       "'www.naver.com'"
      ]
     },
     "execution_count": 24,
     "metadata": {},
     "output_type": "execute_result"
    }
   ],
   "source": [
    "**여기에 입력해주세요**\n",
    "\n",
    "make_url(\"naver\")"
   ]
  },
  {
   "cell_type": "markdown",
   "id": "4ca619f1",
   "metadata": {},
   "source": [
    "### 233\n",
    "문자열을 입력받아 각 문자들로 구성된 리스트로 반환하는 make_list 함수를 정의하라."
   ]
  },
  {
   "cell_type": "code",
   "execution_count": null,
   "id": "26ccf991",
   "metadata": {},
   "outputs": [
    {
     "data": {
      "text/plain": [
       "['a', 'b', 'c', 'd']"
      ]
     },
     "execution_count": 28,
     "metadata": {},
     "output_type": "execute_result"
    }
   ],
   "source": [
    "# 비어있는 리스트에 .append() 메서드를 통해 문자열을 하나씩 추가합니다. 이어서 리스트를 반환 (return) 합니다.\n",
    "**여기에 입력해주세요**\n",
    "\n",
    "make_list(\"abcd\")"
   ]
  },
  {
   "cell_type": "code",
   "execution_count": 27,
   "id": "4c3828d6",
   "metadata": {},
   "outputs": [
    {
     "data": {
      "text/plain": [
       "['a', 'b', 'c', 'd']"
      ]
     },
     "execution_count": 27,
     "metadata": {},
     "output_type": "execute_result"
    }
   ],
   "source": [
    "# 문자열을 list로 형변환하면 쉽게 문제를 해결할 수 있습니다.\n",
    "def make_list (string) :\n",
    "    return list(string)\n",
    "\n",
    "make_list(\"abcd\")"
   ]
  },
  {
   "cell_type": "markdown",
   "id": "9cccfcc0",
   "metadata": {},
   "source": [
    "### 234\n",
    "숫자로 구성된 하나의 리스트를 입력받아, 짝수들을 추출하여 리스트로 반환하는 pickup_even 함수를 구현하라."
   ]
  },
  {
   "cell_type": "code",
   "execution_count": null,
   "id": "5821f709",
   "metadata": {},
   "outputs": [
    {
     "data": {
      "text/plain": [
       "[4, 6, 8]"
      ]
     },
     "execution_count": 29,
     "metadata": {},
     "output_type": "execute_result"
    }
   ],
   "source": [
    "**여기에 입력해주세요**\n",
    "\n",
    "pickup_even([3, 4, 5, 6, 7, 8])"
   ]
  },
  {
   "cell_type": "markdown",
   "id": "cc323497",
   "metadata": {},
   "source": [
    "### 235\n",
    "콤마가 포함된 문자열 숫자를 입력받아 정수로 변환하는 convert_int 함수를 정의하라.\\\n",
    "(💡hint: 콤마를 빈 문자열로 바꾼 후, 정수로 형변환하면 되겠죠? \\\n",
    "문자열을 바꿀 때에는 `.replace(바꾸기 전 문자열, 바꿀 문자열)`를 사용할 수 있습니다.)"
   ]
  },
  {
   "cell_type": "code",
   "execution_count": null,
   "id": "21ac26d2",
   "metadata": {},
   "outputs": [
    {
     "data": {
      "text/plain": [
       "1234567"
      ]
     },
     "execution_count": 30,
     "metadata": {},
     "output_type": "execute_result"
    }
   ],
   "source": [
    "**여기에 입력해주세요**\n",
    "\n",
    "convert_int(\"1,234,567\")"
   ]
  },
  {
   "cell_type": "markdown",
   "id": "69f0194c",
   "metadata": {},
   "source": [
    "### 236\n",
    "아래 코드의 실행 결과를 예측하라.\n",
    "\n",
    "```python\n",
    "def 함수(num) :\n",
    "    return num + 4\n",
    "\n",
    "a = 함수(10)\n",
    "b = 함수(a)\n",
    "c = 함수(b)\n",
    "print(c)\n",
    "```"
   ]
  },
  {
   "cell_type": "markdown",
   "id": "48fb163c",
   "metadata": {},
   "source": [
    "정답: **여기에 입력해주세요**"
   ]
  },
  {
   "cell_type": "markdown",
   "id": "1d645685",
   "metadata": {},
   "source": [
    "### 237\n",
    "아래 코드의 실행 결과를 예측하라.\n",
    "\n",
    "```python\n",
    "def 함수(num) :\n",
    "    return num + 4\n",
    "\n",
    "c = 함수(함수(함수(10)))\n",
    "print(c)\n",
    "```"
   ]
  },
  {
   "cell_type": "markdown",
   "id": "2c733d97",
   "metadata": {},
   "source": [
    "정답: **여기에 입력해주세요**"
   ]
  },
  {
   "cell_type": "markdown",
   "id": "006c7ebf",
   "metadata": {},
   "source": [
    "### 238\n",
    "아래 코드의 실행 결과를 예측하라.\n",
    "\n",
    "```python\n",
    "def 함수1(num) :\n",
    "    return num + 4\n",
    "\n",
    "def 함수2(num) :\n",
    "    return num * 10\n",
    "\n",
    "a = 함수1(10)\n",
    "c = 함수2(a)\n",
    "print(c)\n",
    "```"
   ]
  },
  {
   "cell_type": "markdown",
   "id": "36c1df68",
   "metadata": {},
   "source": [
    "정답: **여기에 입력해주세요**"
   ]
  },
  {
   "cell_type": "markdown",
   "id": "83f1a639",
   "metadata": {},
   "source": [
    "### 239\n",
    "아래 코드의 실행 결과를 예측하라.\n",
    "```python\n",
    "def 함수1(num) :\n",
    "    return num + 4\n",
    "\n",
    "def 함수2(num) :\n",
    "    num = num + 2\n",
    "    return 함수1(num)\n",
    "\n",
    "c = 함수2(10)\n",
    "print(c)\n",
    "\n",
    "```"
   ]
  },
  {
   "cell_type": "markdown",
   "id": "22fc2994",
   "metadata": {},
   "source": [
    "정답: **여기에 입력해주세요**"
   ]
  },
  {
   "cell_type": "markdown",
   "id": "daca440b",
   "metadata": {},
   "source": [
    "### 240\n",
    "아래 코드의 실행 결과를 예측하라.\n",
    "```python\n",
    "def 함수0(num) :\n",
    "    return num * 2\n",
    "\n",
    "def 함수1(num) :\n",
    "    return 함수0(num + 2)\n",
    "\n",
    "def 함수2(num) :\n",
    "    num = num + 10\n",
    "    return 함수1(num)\n",
    "\n",
    "c = 함수2(2)\n",
    "print(c)\n",
    "```"
   ]
  },
  {
   "cell_type": "markdown",
   "id": "9755809f",
   "metadata": {},
   "source": [
    "정답: **여기에 입력해주세요**"
   ]
  }
 ],
 "metadata": {
  "kernelspec": {
   "display_name": "base",
   "language": "python",
   "name": "python3"
  },
  "language_info": {
   "codemirror_mode": {
    "name": "ipython",
    "version": 3
   },
   "file_extension": ".py",
   "mimetype": "text/x-python",
   "name": "python",
   "nbconvert_exporter": "python",
   "pygments_lexer": "ipython3",
   "version": "3.11.3"
  }
 },
 "nbformat": 4,
 "nbformat_minor": 5
}
