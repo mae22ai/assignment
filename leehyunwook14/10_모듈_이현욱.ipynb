{
 "cells": [
  {
   "cell_type": "markdown",
   "id": "ae26fbd4",
   "metadata": {},
   "source": [
    "## 10. 파이썬 모듈\n",
    "\n",
    "파이썬 모듈은 `파이썬 파일`을 의미합니다. \\\n",
    "파이썬은 다양한 분야별로 모듈을 제공합니다. \\\n",
    "프로그램 구현에 필요한 모듈의 기초 사용법을 알아봅시다."
   ]
  },
  {
   "cell_type": "markdown",
   "id": "3ba2c5f0",
   "metadata": {},
   "source": [
    "### 모듈 설치\n",
    "먼저 실습에 필요한 모듈(패키지)을 설치하겠습니다.\\\n",
    "모듈은 터미널에서 바로 `pip install 모듈명`으로 설치할 수도 있고,\\\n",
    "jupyter notebook의 인라인에서는 `%` 또는 `!` 기호를 통해 모듈(패키지)를 설치할 수 있습니다."
   ]
  },
  {
   "cell_type": "code",
   "execution_count": 4,
   "id": "49e6c27d",
   "metadata": {},
   "outputs": [
    {
     "name": "stdout",
     "output_type": "stream",
     "text": [
      "Requirement already satisfied: numpy in /Users/hyeonseokim_macbookpro/anaconda3/lib/python3.11/site-packages (1.24.3)\n",
      "\n",
      "\u001b[1m[\u001b[0m\u001b[34;49mnotice\u001b[0m\u001b[1;39;49m]\u001b[0m\u001b[39;49m A new release of pip is available: \u001b[0m\u001b[31;49m24.2\u001b[0m\u001b[39;49m -> \u001b[0m\u001b[32;49m25.1.1\u001b[0m\n",
      "\u001b[1m[\u001b[0m\u001b[34;49mnotice\u001b[0m\u001b[1;39;49m]\u001b[0m\u001b[39;49m To update, run: \u001b[0m\u001b[32;49mpip install --upgrade pip\u001b[0m\n",
      "Note: you may need to restart the kernel to use updated packages.\n",
      "Requirement already satisfied: datetime in /Users/hyeonseokim_macbookpro/anaconda3/lib/python3.11/site-packages (5.5)\n",
      "Requirement already satisfied: zope.interface in /Users/hyeonseokim_macbookpro/anaconda3/lib/python3.11/site-packages (from datetime) (5.4.0)\n",
      "Requirement already satisfied: pytz in /Users/hyeonseokim_macbookpro/anaconda3/lib/python3.11/site-packages (from datetime) (2022.7)\n",
      "Requirement already satisfied: setuptools in /Users/hyeonseokim_macbookpro/anaconda3/lib/python3.11/site-packages (from zope.interface->datetime) (67.8.0)\n",
      "\n",
      "\u001b[1m[\u001b[0m\u001b[34;49mnotice\u001b[0m\u001b[1;39;49m]\u001b[0m\u001b[39;49m A new release of pip is available: \u001b[0m\u001b[31;49m24.2\u001b[0m\u001b[39;49m -> \u001b[0m\u001b[32;49m25.1.1\u001b[0m\n",
      "\u001b[1m[\u001b[0m\u001b[34;49mnotice\u001b[0m\u001b[1;39;49m]\u001b[0m\u001b[39;49m To update, run: \u001b[0m\u001b[32;49mpip install --upgrade pip\u001b[0m\n",
      "Note: you may need to restart the kernel to use updated packages.\n"
     ]
    }
   ],
   "source": [
    "%pip install numpy\n",
    "%pip install datetime"
   ]
  },
  {
   "cell_type": "markdown",
   "id": "bb23a678",
   "metadata": {},
   "source": [
    "### 241. 현재시간\n",
    "datetime 모듈을 사용해서 현재 시간을 화면에 출력해보세요.\n",
    "\n",
    "(💡hint: `datetime.datetime.now()`를 통해 현재 시간을 출력할 수 있습니다. datetime 모듈의 .datetime.now() 메서드를 사용한 것입니다.)"
   ]
  },
  {
   "cell_type": "code",
   "execution_count": null,
   "id": "2d1089b4",
   "metadata": {},
   "outputs": [
    {
     "name": "stdout",
     "output_type": "stream",
     "text": [
      "2025-05-28 02:21:09.938114\n"
     ]
    }
   ],
   "source": [
    "import datetime\n",
    "\n",
    "now = ***.***.***\n",
    "print(now)"
   ]
  },
  {
   "cell_type": "code",
   "execution_count": null,
   "id": "3cfb3cec",
   "metadata": {},
   "outputs": [
    {
     "name": "stdout",
     "output_type": "stream",
     "text": [
      "2025-05-28 02:21:56.843771\n"
     ]
    }
   ],
   "source": [
    "# 모듈명은 다음과 같이 as(alias)로 별칭으로 불러올 수 있습니다.\n",
    "import datetime as dt\n",
    "\n",
    "now = ***.***.***\n",
    "print(now)\n"
   ]
  },
  {
   "cell_type": "markdown",
   "id": "e7ab4de5",
   "metadata": {},
   "source": [
    "### 242. 현재시간의 타입\n",
    "datetime 모듈의 now 함수의 리턴 값의 타입을 화면에 출력해보세요."
   ]
  },
  {
   "cell_type": "code",
   "execution_count": null,
   "id": "1be58e43",
   "metadata": {},
   "outputs": [
    {
     "name": "stdout",
     "output_type": "stream",
     "text": [
      "2025-05-28 02:22:40.077423 <class 'datetime.datetime'>\n"
     ]
    }
   ],
   "source": [
    "import datetime as dt\n",
    "\n",
    "now = dt.datetime.now()\n",
    "print(now, ***(now))\n"
   ]
  },
  {
   "cell_type": "markdown",
   "id": "acd4f765",
   "metadata": {},
   "source": [
    "### 243. timedelta\n",
    "datetime 모듈의 timedelta를 사용해서 오늘로부터 5일, 4일, 3일, 2일, 1일 전의 날짜를 화면에 출력해보세요.\\\n",
    "(💡hint: datetime 모듈의 `.timedelta(days=n)`를 통해 n일 후의 날짜를 얻을 수 있습니다.)"
   ]
  },
  {
   "cell_type": "code",
   "execution_count": null,
   "id": "1f8e6676",
   "metadata": {},
   "outputs": [
    {
     "name": "stdout",
     "output_type": "stream",
     "text": [
      "2025-05-23 02:26:25.820286\n",
      "2025-05-24 02:26:25.820286\n",
      "2025-05-25 02:26:25.820286\n",
      "2025-05-26 02:26:25.820286\n",
      "2025-05-27 02:26:25.820286\n"
     ]
    }
   ],
   "source": [
    "import datetime as dt\n",
    "\n",
    "now = dt.datetime.now()\n",
    "\n",
    "***여기에 입력해주세요***\n"
   ]
  },
  {
   "cell_type": "markdown",
   "id": "0ea1a1a1",
   "metadata": {},
   "source": [
    "### 244. strftime\n",
    "현재시간을 얻어온 후 다음과 같은 포맷으로 시간을 출력해보세요. \\\n",
    "strftime 메서드를 사용하세요. \\"
   ]
  },
  {
   "cell_type": "code",
   "execution_count": null,
   "id": "8b442e55",
   "metadata": {},
   "outputs": [
    {
     "name": "stdout",
     "output_type": "stream",
     "text": [
      "02:28:49\n"
     ]
    }
   ],
   "source": [
    "import datetime as dt\n",
    "\n",
    "now = dt.datetime.now()\n",
    "print(now.***(\"%H:%M:%S\"))"
   ]
  },
  {
   "cell_type": "markdown",
   "id": "e5fae4c8",
   "metadata": {},
   "source": [
    "### 245. strptime\n",
    "datetime.datetime.strptime 메서드를 사용하면 문자열 형식의 시간을 datetime.datetime 타입의 시간 값으로 만들어줍니다. \"2025-05-28\"의 문자열을 시간 타입으로 변환해보세요."
   ]
  },
  {
   "cell_type": "code",
   "execution_count": null,
   "id": "1bb3d3f6",
   "metadata": {},
   "outputs": [
    {
     "name": "stdout",
     "output_type": "stream",
     "text": [
      "2025-05-28 00:00:00 <class 'datetime.datetime'>\n"
     ]
    }
   ],
   "source": [
    "import datetime as dt\n",
    "\n",
    "day = \"2025-05-28\"\n",
    "ret = ***.***.***(day, \"%Y-%m-%d\")\n",
    "print(ret, type(ret))\n"
   ]
  },
  {
   "cell_type": "markdown",
   "id": "734166a6",
   "metadata": {},
   "source": [
    "### 246. sleep 함수\n",
    "time 모듈, datetime 모듈을 사용해서 1초에 한 번 현재 시간을 출력하는 코드를 작성하세요. \\\n",
    "(무한 루프로 코드 짤 경우, 10번 정도 출력되면 셀을 멈추고 다음 문제로 넘어가시면 됩니다.)\\\n",
    "(time.sleep(n)을 통해 n초를 기다릴 수 있습니다.)"
   ]
  },
  {
   "cell_type": "code",
   "execution_count": null,
   "id": "52f3739c",
   "metadata": {},
   "outputs": [
    {
     "name": "stdout",
     "output_type": "stream",
     "text": [
      "2025-05-28 02:32:39.317055\n",
      "2025-05-28 02:32:40.321753\n",
      "2025-05-28 02:32:41.327004\n",
      "2025-05-28 02:32:42.331114\n",
      "2025-05-28 02:32:43.336159\n",
      "2025-05-28 02:32:44.341586\n",
      "2025-05-28 02:32:45.346867\n",
      "2025-05-28 02:32:46.348904\n",
      "2025-05-28 02:32:47.352263\n",
      "2025-05-28 02:32:48.353558\n",
      "2025-05-28 02:32:49.361850\n"
     ]
    },
    {
     "ename": "KeyboardInterrupt",
     "evalue": "",
     "output_type": "error",
     "traceback": [
      "\u001b[0;31m---------------------------------------------------------------------------\u001b[0m",
      "\u001b[0;31mKeyboardInterrupt\u001b[0m                         Traceback (most recent call last)",
      "Cell \u001b[0;32mIn[14], line 7\u001b[0m\n\u001b[1;32m      5\u001b[0m now \u001b[38;5;241m=\u001b[39m dt\u001b[38;5;241m.\u001b[39mdatetime\u001b[38;5;241m.\u001b[39mnow()\n\u001b[1;32m      6\u001b[0m \u001b[38;5;28mprint\u001b[39m(now)\n\u001b[0;32m----> 7\u001b[0m time\u001b[38;5;241m.\u001b[39msleep(\u001b[38;5;241m1\u001b[39m)\n",
      "\u001b[0;31mKeyboardInterrupt\u001b[0m: "
     ]
    }
   ],
   "source": [
    "import time\n",
    "import datetime as dt\n",
    "\n",
    "***여기에 입력해주세요***"
   ]
  },
  {
   "cell_type": "markdown",
   "id": "01b81e8a",
   "metadata": {},
   "source": [
    "### 247. 모듈 임포트\n",
    "모듈을 임포트하는 4가지 방식으로 os 모듈을 임포트했을 때, os 모듈에 포함되어 있는 .rename() 메서드를 사용하기 위해서 각각 코드를 어떻게 작성해야 하나요?\n",
    "\n",
    "(💡hint: \\\n",
    "`import 모듈명` → 모듈명.메서드() 의 형태로 사용 가능\\\n",
    "`from 모듈명 import 메서드` → 메서드() 의 형태로 사용 가능\\\n",
    "`from 모듈명 import *` → 해당 모듈에 있는 전체 메서드를 그냥 정의된 함수처럼 사용 가능\\\n",
    "`import 모듈명 as 별칭` → 별칭.메서드()의 형태로 사용가능)"
   ]
  },
  {
   "cell_type": "markdown",
   "id": "5a263ae1",
   "metadata": {},
   "source": [
    "```python \n",
    "# 1\n",
    "import os\n",
    "\n",
    "# 2\n",
    "from os import rename\n",
    "\n",
    "# 3\n",
    "from os import *\n",
    "\n",
    "# 4\n",
    "import os as myos\n",
    "```\n"
   ]
  },
  {
   "cell_type": "markdown",
   "id": "042915a5",
   "metadata": {},
   "source": [
    "정답\n",
    "\n",
    "1: **여기에 입력해주세요**\n",
    "\n",
    "\n",
    "2: **여기에 입력해주세요**\n",
    "\n",
    "\n",
    "3: **여기에 입력해주세요**\n",
    "\n",
    "\n",
    "4: **여기에 입력해주세요**"
   ]
  },
  {
   "cell_type": "markdown",
   "id": "0578ad83",
   "metadata": {},
   "source": [
    "### 248. os 모듈\n",
    "os 모듈의 getcwd 함수를 호출하여 현재 디렉터리의 경로를 화면에 출력해보세요.\\\n",
    "(💡hint: getcwd는 get current working directory)"
   ]
  },
  {
   "cell_type": "code",
   "execution_count": null,
   "id": "6b7be4d2",
   "metadata": {},
   "outputs": [
    {
     "name": "stdout",
     "output_type": "stream",
     "text": [
      "/Users/hyeonseokim_macbookpro/Desktop/서강대학교/2025/2025년 1학기/AI인문융합LAB/repos/assignment/정답 <class 'str'>\n"
     ]
    }
   ],
   "source": [
    "import os\n",
    "ret = os.***()\n",
    "print(ret, type(ret))"
   ]
  },
  {
   "cell_type": "code",
   "execution_count": 22,
   "id": "f506ba9d",
   "metadata": {},
   "outputs": [
    {
     "data": {
      "text/plain": [
       "'/Users/hyeonseokim_macbookpro/Desktop/서강대학교/2025/2025년 1학기/AI인문융합LAB/repos/assignment/정답'"
      ]
     },
     "execution_count": 22,
     "metadata": {},
     "output_type": "execute_result"
    }
   ],
   "source": [
    "# 터미널 명령어로 동일한 확인 가능: pwd (present working directory)\n",
    "%pwd"
   ]
  },
  {
   "cell_type": "markdown",
   "id": "5c2633d3",
   "metadata": {},
   "source": [
    "### 249. rename 함수\n",
    "현재 작업 디렉토리에 있는 텍스트 파일('before.txt')을 \\\n",
    "os 모듈의 rename 함수를 호출하여 해당 파일의 이름을 변경해보세요."
   ]
  },
  {
   "cell_type": "code",
   "execution_count": null,
   "id": "38727fa3",
   "metadata": {},
   "outputs": [],
   "source": [
    "import os\n",
    "ret = os.getcwd()\n",
    "before = ret + '/before.txt'\n",
    "after = ret + '/after.txt'\n",
    "\n",
    "os.***(before, after)"
   ]
  },
  {
   "cell_type": "markdown",
   "id": "abec1af4",
   "metadata": {},
   "source": [
    "### 250. numpy\n",
    "numpy 모듈의 arange 함수를 사용해서 0.0 부터 5.0까지 0.1씩 증가하는 값을 화면에 출력해보세요."
   ]
  },
  {
   "cell_type": "code",
   "execution_count": null,
   "id": "129bef3b",
   "metadata": {},
   "outputs": [
    {
     "name": "stdout",
     "output_type": "stream",
     "text": [
      "0.0\n",
      "0.1\n",
      "0.2\n",
      "0.30000000000000004\n",
      "0.4\n",
      "0.5\n",
      "0.6000000000000001\n",
      "0.7000000000000001\n",
      "0.8\n",
      "0.9\n",
      "1.0\n",
      "1.1\n",
      "1.2000000000000002\n",
      "1.3\n",
      "1.4000000000000001\n",
      "1.5\n",
      "1.6\n",
      "1.7000000000000002\n",
      "1.8\n",
      "1.9000000000000001\n",
      "2.0\n",
      "2.1\n",
      "2.2\n",
      "2.3000000000000003\n",
      "2.4000000000000004\n",
      "2.5\n",
      "2.6\n",
      "2.7\n",
      "2.8000000000000003\n",
      "2.9000000000000004\n",
      "3.0\n",
      "3.1\n",
      "3.2\n",
      "3.3000000000000003\n",
      "3.4000000000000004\n",
      "3.5\n",
      "3.6\n",
      "3.7\n",
      "3.8000000000000003\n",
      "3.9000000000000004\n",
      "4.0\n",
      "4.1000000000000005\n",
      "4.2\n",
      "4.3\n",
      "4.4\n",
      "4.5\n",
      "4.6000000000000005\n",
      "4.7\n",
      "4.800000000000001\n",
      "4.9\n"
     ]
    }
   ],
   "source": [
    "import numpy\n",
    "for i in numpy.***(0, 5, 0.1):\n",
    "    print(i)"
   ]
  },
  {
   "cell_type": "markdown",
   "id": "980403bb",
   "metadata": {},
   "source": [
    "## 🤩🤩 수고 하셨습니다!!! 🤩🤩"
   ]
  }
 ],
 "metadata": {
  "kernelspec": {
   "display_name": "base",
   "language": "python",
   "name": "python3"
  },
  "language_info": {
   "codemirror_mode": {
    "name": "ipython",
    "version": 3
   },
   "file_extension": ".py",
   "mimetype": "text/x-python",
   "name": "python",
   "nbconvert_exporter": "python",
   "pygments_lexer": "ipython3",
   "version": "3.11.3"
  }
 },
 "nbformat": 4,
 "nbformat_minor": 5
}
